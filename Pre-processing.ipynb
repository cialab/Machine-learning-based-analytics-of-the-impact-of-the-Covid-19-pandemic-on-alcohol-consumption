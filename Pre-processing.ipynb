{
 "cells": [
  {
   "cell_type": "code",
   "execution_count": 3,
   "metadata": {},
   "outputs": [],
   "source": [
    "# Author: Mostafa Rezapour\n",
    "\n"
   ]
  },
  {
   "cell_type": "markdown",
   "metadata": {},
   "source": [
    "$\\large \\color{purple}{\\textbf{  Importing libraries     }}$\n"
   ]
  },
  {
   "cell_type": "code",
   "execution_count": 1,
   "metadata": {},
   "outputs": [],
   "source": [
    "# Importing libraries\n",
    "import pandas as pd\n",
    "import numpy as np\n",
    "import matplotlib.pyplot as plt\n",
    "import seaborn as sns\n",
    "from sklearn.preprocessing import LabelEncoder\n",
    "from sklearn.preprocessing import OneHotEncoder\n",
    "import warnings\n",
    "warnings.filterwarnings(\"ignore\")\n",
    "\n"
   ]
  },
  {
   "cell_type": "markdown",
   "metadata": {},
   "source": [
    "$\\large \\color{purple}{\\textbf{  Read csv file into a pandas dataframe     }}$\n",
    "$\\large \\color{purple}{\\textbf{       }}$"
   ]
  },
  {
   "cell_type": "code",
   "execution_count": 2,
   "metadata": {},
   "outputs": [],
   "source": [
    "# Read csv file into a pandas dataframe\n",
    "df = pd.read_csv(\"Copy of COVID Isolation on Sleep and Health in Healthcare Workers_April 29, 2020_08.17.csv\", encoding= 'unicode_escape')\n"
   ]
  },
  {
   "cell_type": "code",
   "execution_count": 3,
   "metadata": {},
   "outputs": [
    {
     "name": "stdout",
     "output_type": "stream",
     "text": [
      "14678\n"
     ]
    }
   ],
   "source": [
    "#the total number of missing values \n",
    "print(df.isnull().values.sum())"
   ]
  },
  {
   "cell_type": "code",
   "execution_count": 4,
   "metadata": {
    "scrolled": true
   },
   "outputs": [
    {
     "data": {
      "text/html": [
       "<div>\n",
       "<style scoped>\n",
       "    .dataframe tbody tr th:only-of-type {\n",
       "        vertical-align: middle;\n",
       "    }\n",
       "\n",
       "    .dataframe tbody tr th {\n",
       "        vertical-align: top;\n",
       "    }\n",
       "\n",
       "    .dataframe thead th {\n",
       "        text-align: right;\n",
       "    }\n",
       "</style>\n",
       "<table border=\"1\" class=\"dataframe\">\n",
       "  <thead>\n",
       "    <tr style=\"text-align: right;\">\n",
       "      <th></th>\n",
       "      <th>StartDate</th>\n",
       "      <th>EndDate</th>\n",
       "      <th>Status</th>\n",
       "      <th>IPAddress</th>\n",
       "      <th>Progress</th>\n",
       "      <th>Duration (in seconds)</th>\n",
       "      <th>Finished</th>\n",
       "      <th>RecordedDate</th>\n",
       "      <th>ResponseId</th>\n",
       "      <th>RecipientLastName</th>\n",
       "      <th>RecipientFirstName</th>\n",
       "      <th>RecipientEmail</th>\n",
       "      <th>ExternalReference</th>\n",
       "      <th>LocationLatitude</th>\n",
       "      <th>LocationLongitude</th>\n",
       "      <th>DistributionChannel</th>\n",
       "      <th>UserLanguage</th>\n",
       "      <th>Q1</th>\n",
       "      <th>Q2</th>\n",
       "      <th>Q3</th>\n",
       "      <th>Q4</th>\n",
       "      <th>Q5</th>\n",
       "      <th>Q5_6_TEXT</th>\n",
       "      <th>Q6</th>\n",
       "      <th>Q7</th>\n",
       "      <th>Q8</th>\n",
       "      <th>Q8a</th>\n",
       "      <th>Q9</th>\n",
       "      <th>Q9a</th>\n",
       "      <th>Q9b</th>\n",
       "      <th>Q10</th>\n",
       "      <th>Q11</th>\n",
       "      <th>Q11a</th>\n",
       "      <th>Q11b</th>\n",
       "      <th>Q12</th>\n",
       "      <th>Q13</th>\n",
       "      <th>Q14</th>\n",
       "      <th>Q14a</th>\n",
       "      <th>Q15</th>\n",
       "      <th>Q15a</th>\n",
       "      <th>Q16</th>\n",
       "      <th>Q16a</th>\n",
       "      <th>Q16b</th>\n",
       "      <th>Q17</th>\n",
       "      <th>Q17a</th>\n",
       "      <th>Q18</th>\n",
       "      <th>Q18a</th>\n",
       "      <th>Q19</th>\n",
       "      <th>Q20</th>\n",
       "      <th>Q21</th>\n",
       "      <th>Q22</th>\n",
       "      <th>Q23</th>\n",
       "      <th>Q24</th>\n",
       "      <th>Q25</th>\n",
       "      <th>Q25a</th>\n",
       "      <th>Q26</th>\n",
       "      <th>Q26a</th>\n",
       "      <th>Q27</th>\n",
       "      <th>Q27a</th>\n",
       "      <th>Q28</th>\n",
       "      <th>Q28a</th>\n",
       "      <th>Q29</th>\n",
       "      <th>Q29a</th>\n",
       "      <th>Q29b</th>\n",
       "    </tr>\n",
       "  </thead>\n",
       "  <tbody>\n",
       "    <tr>\n",
       "      <th>0</th>\n",
       "      <td>Start Date</td>\n",
       "      <td>End Date</td>\n",
       "      <td>Response Type</td>\n",
       "      <td>IP Address</td>\n",
       "      <td>Progress</td>\n",
       "      <td>Duration (in seconds)</td>\n",
       "      <td>Finished</td>\n",
       "      <td>Recorded Date</td>\n",
       "      <td>Response ID</td>\n",
       "      <td>Recipient Last Name</td>\n",
       "      <td>Recipient First Name</td>\n",
       "      <td>Recipient Email</td>\n",
       "      <td>External Data Reference</td>\n",
       "      <td>Location Latitude</td>\n",
       "      <td>Location Longitude</td>\n",
       "      <td>Distribution Channel</td>\n",
       "      <td>User Language</td>\n",
       "      <td>What is your age?</td>\n",
       "      <td>What is your gender?</td>\n",
       "      <td>50 States, D.C. and Puerto Rico</td>\n",
       "      <td>What ethnicity do you consider yourself?</td>\n",
       "      <td>Choose one or more races that you consider you...</td>\n",
       "      <td>Choose one or more races that you consider you...</td>\n",
       "      <td>What is your role in the healthcare field? (e....</td>\n",
       "      <td>Are you a frontline worker providing care for ...</td>\n",
       "      <td>Are you currently conducting your job mostly f...</td>\n",
       "      <td>Which week in March 2020 did you start working...</td>\n",
       "      <td>Are you conducting clinical video visits with ...</td>\n",
       "      <td>Please rate YOUR satisfaction with conducting\\...</td>\n",
       "      <td>Please rate your estimation of your PATIENT's ...</td>\n",
       "      <td>Does\\nyour work require you to follow a fixed ...</td>\n",
       "      <td>Are children home from school in the house?</td>\n",
       "      <td>How many children are in the home?</td>\n",
       "      <td>How old are the children in the home?</td>\n",
       "      <td>Approximately how many hours did you sleep on ...</td>\n",
       "      <td>Approximately how many hours did you sleep on ...</td>\n",
       "      <td>Has the number of your work hours per week cha...</td>\n",
       "      <td>Please tell us how your work hours per week ha...</td>\n",
       "      <td>Have you varied your work schedule?</td>\n",
       "      <td>Please tell us how you have varied your work s...</td>\n",
       "      <td>Have your sleep patterns changed?</td>\n",
       "      <td>Please tell us how your bedtime has changed</td>\n",
       "      <td>Please tell us how your waketime has changed</td>\n",
       "      <td>Has the number of naps you are taking changed?</td>\n",
       "      <td>Please tell us how the number of the naps have...</td>\n",
       "      <td>Has the amount of alcohol you are consuming\\nc...</td>\n",
       "      <td>Please tell us how the amount of alcohol you a...</td>\n",
       "      <td>In January 2020, approximately how often did y...</td>\n",
       "      <td>In the last month, approximately how often did...</td>\n",
       "      <td>In January 2020, approximately how often did y...</td>\n",
       "      <td>In the last month, approximately how often did...</td>\n",
       "      <td>Has\\nthe amount of news you are consuming incr...</td>\n",
       "      <td>How many hours of COVID-19 related news or\\nso...</td>\n",
       "      <td>Have\\nyou had more screen time (e.g. use of ...</td>\n",
       "      <td>Please tell us how much more screen time you e...</td>\n",
       "      <td>Have you changed your movement/exercise?</td>\n",
       "      <td>Please tell us how your movement/exercise habi...</td>\n",
       "      <td>Has the quality of your diet changed?</td>\n",
       "      <td>Please tell us how your diet has changed?</td>\n",
       "      <td>Has the amount of food you have been eating pe...</td>\n",
       "      <td>Please tell us how the amount of food you have...</td>\n",
       "      <td>Has your mood changed?</td>\n",
       "      <td>Please tell us how your mood has changed.  My ...</td>\n",
       "      <td>Please tell us how your mood has worsened</td>\n",
       "    </tr>\n",
       "    <tr>\n",
       "      <th>1</th>\n",
       "      <td>3/28/2020 13:24</td>\n",
       "      <td>3/28/2020 13:26</td>\n",
       "      <td>Survey Preview</td>\n",
       "      <td>NaN</td>\n",
       "      <td>100</td>\n",
       "      <td>145</td>\n",
       "      <td>TRUE</td>\n",
       "      <td>3/28/2020 13:26</td>\n",
       "      <td>R_D2zZmZzPFOTHGhj</td>\n",
       "      <td>NaN</td>\n",
       "      <td>NaN</td>\n",
       "      <td>NaN</td>\n",
       "      <td>NaN</td>\n",
       "      <td>42.27090454</td>\n",
       "      <td>-83.72679901</td>\n",
       "      <td>preview</td>\n",
       "      <td>EN</td>\n",
       "      <td>NaN</td>\n",
       "      <td>NaN</td>\n",
       "      <td>NaN</td>\n",
       "      <td>NaN</td>\n",
       "      <td>NaN</td>\n",
       "      <td>NaN</td>\n",
       "      <td>NaN</td>\n",
       "      <td>NaN</td>\n",
       "      <td>NaN</td>\n",
       "      <td>NaN</td>\n",
       "      <td>NaN</td>\n",
       "      <td>NaN</td>\n",
       "      <td>NaN</td>\n",
       "      <td>NaN</td>\n",
       "      <td>NaN</td>\n",
       "      <td>NaN</td>\n",
       "      <td>NaN</td>\n",
       "      <td>NaN</td>\n",
       "      <td>NaN</td>\n",
       "      <td>NaN</td>\n",
       "      <td>NaN</td>\n",
       "      <td>NaN</td>\n",
       "      <td>NaN</td>\n",
       "      <td>Yes</td>\n",
       "      <td>NaN</td>\n",
       "      <td>NaN</td>\n",
       "      <td>NaN</td>\n",
       "      <td>NaN</td>\n",
       "      <td>Yes</td>\n",
       "      <td>NaN</td>\n",
       "      <td>NaN</td>\n",
       "      <td>NaN</td>\n",
       "      <td>NaN</td>\n",
       "      <td>NaN</td>\n",
       "      <td>NaN</td>\n",
       "      <td>NaN</td>\n",
       "      <td>NaN</td>\n",
       "      <td>NaN</td>\n",
       "      <td>Yes</td>\n",
       "      <td>NaN</td>\n",
       "      <td>Yes</td>\n",
       "      <td>NaN</td>\n",
       "      <td>Yes</td>\n",
       "      <td>NaN</td>\n",
       "      <td>Yes</td>\n",
       "      <td>Slightly worse</td>\n",
       "      <td>NaN</td>\n",
       "    </tr>\n",
       "    <tr>\n",
       "      <th>2</th>\n",
       "      <td>3/30/2020 8:29</td>\n",
       "      <td>3/30/2020 8:32</td>\n",
       "      <td>Survey Preview</td>\n",
       "      <td>NaN</td>\n",
       "      <td>100</td>\n",
       "      <td>147</td>\n",
       "      <td>TRUE</td>\n",
       "      <td>3/30/2020 8:32</td>\n",
       "      <td>R_ZesvyNm3EjoBl2F</td>\n",
       "      <td>NaN</td>\n",
       "      <td>NaN</td>\n",
       "      <td>NaN</td>\n",
       "      <td>NaN</td>\n",
       "      <td>42.27090454</td>\n",
       "      <td>-83.72679901</td>\n",
       "      <td>preview</td>\n",
       "      <td>EN</td>\n",
       "      <td>NaN</td>\n",
       "      <td>NaN</td>\n",
       "      <td>NaN</td>\n",
       "      <td>NaN</td>\n",
       "      <td>NaN</td>\n",
       "      <td>NaN</td>\n",
       "      <td>NaN</td>\n",
       "      <td>NaN</td>\n",
       "      <td>No</td>\n",
       "      <td>NaN</td>\n",
       "      <td>2</td>\n",
       "      <td>NaN</td>\n",
       "      <td>NaN</td>\n",
       "      <td>No</td>\n",
       "      <td>1</td>\n",
       "      <td>NaN</td>\n",
       "      <td>NaN</td>\n",
       "      <td>NaN</td>\n",
       "      <td>NaN</td>\n",
       "      <td>Yes</td>\n",
       "      <td>I am working fewer hours</td>\n",
       "      <td>NaN</td>\n",
       "      <td>NaN</td>\n",
       "      <td>No</td>\n",
       "      <td>NaN</td>\n",
       "      <td>NaN</td>\n",
       "      <td>No</td>\n",
       "      <td>NaN</td>\n",
       "      <td>No</td>\n",
       "      <td>NaN</td>\n",
       "      <td>NaN</td>\n",
       "      <td>NaN</td>\n",
       "      <td>NaN</td>\n",
       "      <td>NaN</td>\n",
       "      <td>No</td>\n",
       "      <td>0-.5 hour</td>\n",
       "      <td>No</td>\n",
       "      <td>NaN</td>\n",
       "      <td>No</td>\n",
       "      <td>NaN</td>\n",
       "      <td>No</td>\n",
       "      <td>NaN</td>\n",
       "      <td>No</td>\n",
       "      <td>NaN</td>\n",
       "      <td>No</td>\n",
       "      <td>NaN</td>\n",
       "      <td>NaN</td>\n",
       "    </tr>\n",
       "    <tr>\n",
       "      <th>3</th>\n",
       "      <td>3/30/2020 8:39</td>\n",
       "      <td>3/30/2020 8:42</td>\n",
       "      <td>Survey Preview</td>\n",
       "      <td>NaN</td>\n",
       "      <td>100</td>\n",
       "      <td>160</td>\n",
       "      <td>TRUE</td>\n",
       "      <td>3/30/2020 8:42</td>\n",
       "      <td>R_2zT0jHR2F9OOQtk</td>\n",
       "      <td>NaN</td>\n",
       "      <td>NaN</td>\n",
       "      <td>NaN</td>\n",
       "      <td>NaN</td>\n",
       "      <td>42.27090454</td>\n",
       "      <td>-83.72679901</td>\n",
       "      <td>preview</td>\n",
       "      <td>EN</td>\n",
       "      <td>NaN</td>\n",
       "      <td>NaN</td>\n",
       "      <td>NaN</td>\n",
       "      <td>NaN</td>\n",
       "      <td>NaN</td>\n",
       "      <td>NaN</td>\n",
       "      <td>NaN</td>\n",
       "      <td>NaN</td>\n",
       "      <td>Yes</td>\n",
       "      <td>NaN</td>\n",
       "      <td>1</td>\n",
       "      <td>NaN</td>\n",
       "      <td>NaN</td>\n",
       "      <td>No</td>\n",
       "      <td>1</td>\n",
       "      <td>NaN</td>\n",
       "      <td>NaN</td>\n",
       "      <td>NaN</td>\n",
       "      <td>NaN</td>\n",
       "      <td>Yes</td>\n",
       "      <td>I am working fewer hours</td>\n",
       "      <td>NaN</td>\n",
       "      <td>NaN</td>\n",
       "      <td>Yes</td>\n",
       "      <td>NaN</td>\n",
       "      <td>NaN</td>\n",
       "      <td>NaN</td>\n",
       "      <td>NaN</td>\n",
       "      <td>Yes</td>\n",
       "      <td>I am drinking less alcohol</td>\n",
       "      <td>NaN</td>\n",
       "      <td>NaN</td>\n",
       "      <td>NaN</td>\n",
       "      <td>NaN</td>\n",
       "      <td>No</td>\n",
       "      <td>0-.5 hour</td>\n",
       "      <td>Yes</td>\n",
       "      <td>NaN</td>\n",
       "      <td>Yes</td>\n",
       "      <td>I am exercising/moving less</td>\n",
       "      <td>Yes</td>\n",
       "      <td>I am eating more healthy foods</td>\n",
       "      <td>Yes</td>\n",
       "      <td>I am eating more food each day</td>\n",
       "      <td>Yes</td>\n",
       "      <td>Moderately worse</td>\n",
       "      <td>I am moderately more depressed</td>\n",
       "    </tr>\n",
       "    <tr>\n",
       "      <th>4</th>\n",
       "      <td>3/30/2020 17:26</td>\n",
       "      <td>3/30/2020 17:28</td>\n",
       "      <td>Survey Preview</td>\n",
       "      <td>NaN</td>\n",
       "      <td>100</td>\n",
       "      <td>82</td>\n",
       "      <td>TRUE</td>\n",
       "      <td>3/30/2020 17:28</td>\n",
       "      <td>R_QivmHrJvTYkfNFT</td>\n",
       "      <td>NaN</td>\n",
       "      <td>NaN</td>\n",
       "      <td>NaN</td>\n",
       "      <td>NaN</td>\n",
       "      <td>42.27090454</td>\n",
       "      <td>-83.72679901</td>\n",
       "      <td>preview</td>\n",
       "      <td>EN</td>\n",
       "      <td>NaN</td>\n",
       "      <td>NaN</td>\n",
       "      <td>NaN</td>\n",
       "      <td>NaN</td>\n",
       "      <td>NaN</td>\n",
       "      <td>NaN</td>\n",
       "      <td>NaN</td>\n",
       "      <td>NaN</td>\n",
       "      <td>NaN</td>\n",
       "      <td>NaN</td>\n",
       "      <td>NaN</td>\n",
       "      <td>NaN</td>\n",
       "      <td>NaN</td>\n",
       "      <td>NaN</td>\n",
       "      <td>NaN</td>\n",
       "      <td>NaN</td>\n",
       "      <td>NaN</td>\n",
       "      <td>NaN</td>\n",
       "      <td>NaN</td>\n",
       "      <td>NaN</td>\n",
       "      <td>NaN</td>\n",
       "      <td>NaN</td>\n",
       "      <td>NaN</td>\n",
       "      <td>NaN</td>\n",
       "      <td>NaN</td>\n",
       "      <td>NaN</td>\n",
       "      <td>NaN</td>\n",
       "      <td>NaN</td>\n",
       "      <td>NaN</td>\n",
       "      <td>NaN</td>\n",
       "      <td>NaN</td>\n",
       "      <td>NaN</td>\n",
       "      <td>NaN</td>\n",
       "      <td>NaN</td>\n",
       "      <td>NaN</td>\n",
       "      <td>NaN</td>\n",
       "      <td>NaN</td>\n",
       "      <td>NaN</td>\n",
       "      <td>NaN</td>\n",
       "      <td>NaN</td>\n",
       "      <td>NaN</td>\n",
       "      <td>NaN</td>\n",
       "      <td>NaN</td>\n",
       "      <td>NaN</td>\n",
       "      <td>NaN</td>\n",
       "      <td>NaN</td>\n",
       "      <td>NaN</td>\n",
       "    </tr>\n",
       "  </tbody>\n",
       "</table>\n",
       "</div>"
      ],
      "text/plain": [
       "         StartDate          EndDate          Status   IPAddress  Progress  \\\n",
       "0       Start Date         End Date   Response Type  IP Address  Progress   \n",
       "1  3/28/2020 13:24  3/28/2020 13:26  Survey Preview         NaN       100   \n",
       "2   3/30/2020 8:29   3/30/2020 8:32  Survey Preview         NaN       100   \n",
       "3   3/30/2020 8:39   3/30/2020 8:42  Survey Preview         NaN       100   \n",
       "4  3/30/2020 17:26  3/30/2020 17:28  Survey Preview         NaN       100   \n",
       "\n",
       "   Duration (in seconds)  Finished     RecordedDate         ResponseId  \\\n",
       "0  Duration (in seconds)  Finished    Recorded Date        Response ID   \n",
       "1                    145      TRUE  3/28/2020 13:26  R_D2zZmZzPFOTHGhj   \n",
       "2                    147      TRUE   3/30/2020 8:32  R_ZesvyNm3EjoBl2F   \n",
       "3                    160      TRUE   3/30/2020 8:42  R_2zT0jHR2F9OOQtk   \n",
       "4                     82      TRUE  3/30/2020 17:28  R_QivmHrJvTYkfNFT   \n",
       "\n",
       "     RecipientLastName    RecipientFirstName   RecipientEmail  \\\n",
       "0  Recipient Last Name  Recipient First Name  Recipient Email   \n",
       "1                  NaN                   NaN              NaN   \n",
       "2                  NaN                   NaN              NaN   \n",
       "3                  NaN                   NaN              NaN   \n",
       "4                  NaN                   NaN              NaN   \n",
       "\n",
       "         ExternalReference   LocationLatitude   LocationLongitude  \\\n",
       "0  External Data Reference  Location Latitude  Location Longitude   \n",
       "1                      NaN        42.27090454        -83.72679901   \n",
       "2                      NaN        42.27090454        -83.72679901   \n",
       "3                      NaN        42.27090454        -83.72679901   \n",
       "4                      NaN        42.27090454        -83.72679901   \n",
       "\n",
       "    DistributionChannel   UserLanguage                 Q1  \\\n",
       "0  Distribution Channel  User Language  What is your age?   \n",
       "1               preview             EN                NaN   \n",
       "2               preview             EN                NaN   \n",
       "3               preview             EN                NaN   \n",
       "4               preview             EN                NaN   \n",
       "\n",
       "                     Q2                               Q3  \\\n",
       "0  What is your gender?  50 States, D.C. and Puerto Rico   \n",
       "1                   NaN                              NaN   \n",
       "2                   NaN                              NaN   \n",
       "3                   NaN                              NaN   \n",
       "4                   NaN                              NaN   \n",
       "\n",
       "                                         Q4  \\\n",
       "0  What ethnicity do you consider yourself?   \n",
       "1                                       NaN   \n",
       "2                                       NaN   \n",
       "3                                       NaN   \n",
       "4                                       NaN   \n",
       "\n",
       "                                                  Q5  \\\n",
       "0  Choose one or more races that you consider you...   \n",
       "1                                                NaN   \n",
       "2                                                NaN   \n",
       "3                                                NaN   \n",
       "4                                                NaN   \n",
       "\n",
       "                                           Q5_6_TEXT  \\\n",
       "0  Choose one or more races that you consider you...   \n",
       "1                                                NaN   \n",
       "2                                                NaN   \n",
       "3                                                NaN   \n",
       "4                                                NaN   \n",
       "\n",
       "                                                  Q6  \\\n",
       "0  What is your role in the healthcare field? (e....   \n",
       "1                                                NaN   \n",
       "2                                                NaN   \n",
       "3                                                NaN   \n",
       "4                                                NaN   \n",
       "\n",
       "                                                  Q7  \\\n",
       "0  Are you a frontline worker providing care for ...   \n",
       "1                                                NaN   \n",
       "2                                                NaN   \n",
       "3                                                NaN   \n",
       "4                                                NaN   \n",
       "\n",
       "                                                  Q8  \\\n",
       "0  Are you currently conducting your job mostly f...   \n",
       "1                                                NaN   \n",
       "2                                                 No   \n",
       "3                                                Yes   \n",
       "4                                                NaN   \n",
       "\n",
       "                                                 Q8a  \\\n",
       "0  Which week in March 2020 did you start working...   \n",
       "1                                                NaN   \n",
       "2                                                NaN   \n",
       "3                                                NaN   \n",
       "4                                                NaN   \n",
       "\n",
       "                                                  Q9  \\\n",
       "0  Are you conducting clinical video visits with ...   \n",
       "1                                                NaN   \n",
       "2                                                  2   \n",
       "3                                                  1   \n",
       "4                                                NaN   \n",
       "\n",
       "                                                 Q9a  \\\n",
       "0  Please rate YOUR satisfaction with conducting\\...   \n",
       "1                                                NaN   \n",
       "2                                                NaN   \n",
       "3                                                NaN   \n",
       "4                                                NaN   \n",
       "\n",
       "                                                 Q9b  \\\n",
       "0  Please rate your estimation of your PATIENT's ...   \n",
       "1                                                NaN   \n",
       "2                                                NaN   \n",
       "3                                                NaN   \n",
       "4                                                NaN   \n",
       "\n",
       "                                                 Q10  \\\n",
       "0  Does\\nyour work require you to follow a fixed ...   \n",
       "1                                                NaN   \n",
       "2                                                 No   \n",
       "3                                                 No   \n",
       "4                                                NaN   \n",
       "\n",
       "                                           Q11  \\\n",
       "0  Are children home from school in the house?   \n",
       "1                                          NaN   \n",
       "2                                            1   \n",
       "3                                            1   \n",
       "4                                          NaN   \n",
       "\n",
       "                                 Q11a                                   Q11b  \\\n",
       "0  How many children are in the home?  How old are the children in the home?   \n",
       "1                                 NaN                                    NaN   \n",
       "2                                 NaN                                    NaN   \n",
       "3                                 NaN                                    NaN   \n",
       "4                                 NaN                                    NaN   \n",
       "\n",
       "                                                 Q12  \\\n",
       "0  Approximately how many hours did you sleep on ...   \n",
       "1                                                NaN   \n",
       "2                                                NaN   \n",
       "3                                                NaN   \n",
       "4                                                NaN   \n",
       "\n",
       "                                                 Q13  \\\n",
       "0  Approximately how many hours did you sleep on ...   \n",
       "1                                                NaN   \n",
       "2                                                NaN   \n",
       "3                                                NaN   \n",
       "4                                                NaN   \n",
       "\n",
       "                                                 Q14  \\\n",
       "0  Has the number of your work hours per week cha...   \n",
       "1                                                NaN   \n",
       "2                                                Yes   \n",
       "3                                                Yes   \n",
       "4                                                NaN   \n",
       "\n",
       "                                                Q14a  \\\n",
       "0  Please tell us how your work hours per week ha...   \n",
       "1                                                NaN   \n",
       "2                           I am working fewer hours   \n",
       "3                           I am working fewer hours   \n",
       "4                                                NaN   \n",
       "\n",
       "                                   Q15  \\\n",
       "0  Have you varied your work schedule?   \n",
       "1                                  NaN   \n",
       "2                                  NaN   \n",
       "3                                  NaN   \n",
       "4                                  NaN   \n",
       "\n",
       "                                                Q15a  \\\n",
       "0  Please tell us how you have varied your work s...   \n",
       "1                                                NaN   \n",
       "2                                                NaN   \n",
       "3                                                NaN   \n",
       "4                                                NaN   \n",
       "\n",
       "                                 Q16  \\\n",
       "0  Have your sleep patterns changed?   \n",
       "1                                Yes   \n",
       "2                                 No   \n",
       "3                                Yes   \n",
       "4                                NaN   \n",
       "\n",
       "                                          Q16a  \\\n",
       "0  Please tell us how your bedtime has changed   \n",
       "1                                          NaN   \n",
       "2                                          NaN   \n",
       "3                                          NaN   \n",
       "4                                          NaN   \n",
       "\n",
       "                                           Q16b  \\\n",
       "0  Please tell us how your waketime has changed   \n",
       "1                                           NaN   \n",
       "2                                           NaN   \n",
       "3                                           NaN   \n",
       "4                                           NaN   \n",
       "\n",
       "                                              Q17  \\\n",
       "0  Has the number of naps you are taking changed?   \n",
       "1                                             NaN   \n",
       "2                                              No   \n",
       "3                                             NaN   \n",
       "4                                             NaN   \n",
       "\n",
       "                                                Q17a  \\\n",
       "0  Please tell us how the number of the naps have...   \n",
       "1                                                NaN   \n",
       "2                                                NaN   \n",
       "3                                                NaN   \n",
       "4                                                NaN   \n",
       "\n",
       "                                                 Q18  \\\n",
       "0  Has the amount of alcohol you are consuming\\nc...   \n",
       "1                                                Yes   \n",
       "2                                                 No   \n",
       "3                                                Yes   \n",
       "4                                                NaN   \n",
       "\n",
       "                                                Q18a  \\\n",
       "0  Please tell us how the amount of alcohol you a...   \n",
       "1                                                NaN   \n",
       "2                                                NaN   \n",
       "3                         I am drinking less alcohol   \n",
       "4                                                NaN   \n",
       "\n",
       "                                                 Q19  \\\n",
       "0  In January 2020, approximately how often did y...   \n",
       "1                                                NaN   \n",
       "2                                                NaN   \n",
       "3                                                NaN   \n",
       "4                                                NaN   \n",
       "\n",
       "                                                 Q20  \\\n",
       "0  In the last month, approximately how often did...   \n",
       "1                                                NaN   \n",
       "2                                                NaN   \n",
       "3                                                NaN   \n",
       "4                                                NaN   \n",
       "\n",
       "                                                 Q21  \\\n",
       "0  In January 2020, approximately how often did y...   \n",
       "1                                                NaN   \n",
       "2                                                NaN   \n",
       "3                                                NaN   \n",
       "4                                                NaN   \n",
       "\n",
       "                                                 Q22  \\\n",
       "0  In the last month, approximately how often did...   \n",
       "1                                                NaN   \n",
       "2                                                NaN   \n",
       "3                                                NaN   \n",
       "4                                                NaN   \n",
       "\n",
       "                                                 Q23  \\\n",
       "0  Has\\nthe amount of news you are consuming incr...   \n",
       "1                                                NaN   \n",
       "2                                                 No   \n",
       "3                                                 No   \n",
       "4                                                NaN   \n",
       "\n",
       "                                                 Q24  \\\n",
       "0  How many hours of COVID-19 related news or\\nso...   \n",
       "1                                                NaN   \n",
       "2                                          0-.5 hour   \n",
       "3                                          0-.5 hour   \n",
       "4                                                NaN   \n",
       "\n",
       "                                                 Q25  \\\n",
       "0  Have\\nyou had more screen time (e.g. use of ...   \n",
       "1                                                NaN   \n",
       "2                                                 No   \n",
       "3                                                Yes   \n",
       "4                                                NaN   \n",
       "\n",
       "                                                Q25a  \\\n",
       "0  Please tell us how much more screen time you e...   \n",
       "1                                                NaN   \n",
       "2                                                NaN   \n",
       "3                                                NaN   \n",
       "4                                                NaN   \n",
       "\n",
       "                                        Q26  \\\n",
       "0  Have you changed your movement/exercise?   \n",
       "1                                       Yes   \n",
       "2                                        No   \n",
       "3                                       Yes   \n",
       "4                                       NaN   \n",
       "\n",
       "                                                Q26a  \\\n",
       "0  Please tell us how your movement/exercise habi...   \n",
       "1                                                NaN   \n",
       "2                                                NaN   \n",
       "3                        I am exercising/moving less   \n",
       "4                                                NaN   \n",
       "\n",
       "                                     Q27  \\\n",
       "0  Has the quality of your diet changed?   \n",
       "1                                    Yes   \n",
       "2                                     No   \n",
       "3                                    Yes   \n",
       "4                                    NaN   \n",
       "\n",
       "                                        Q27a  \\\n",
       "0  Please tell us how your diet has changed?   \n",
       "1                                        NaN   \n",
       "2                                        NaN   \n",
       "3             I am eating more healthy foods   \n",
       "4                                        NaN   \n",
       "\n",
       "                                                 Q28  \\\n",
       "0  Has the amount of food you have been eating pe...   \n",
       "1                                                Yes   \n",
       "2                                                 No   \n",
       "3                                                Yes   \n",
       "4                                                NaN   \n",
       "\n",
       "                                                Q28a                     Q29  \\\n",
       "0  Please tell us how the amount of food you have...  Has your mood changed?   \n",
       "1                                                NaN                     Yes   \n",
       "2                                                NaN                      No   \n",
       "3                     I am eating more food each day                     Yes   \n",
       "4                                                NaN                     NaN   \n",
       "\n",
       "                                                Q29a  \\\n",
       "0  Please tell us how your mood has changed.  My ...   \n",
       "1                                     Slightly worse   \n",
       "2                                                NaN   \n",
       "3                                   Moderately worse   \n",
       "4                                                NaN   \n",
       "\n",
       "                                        Q29b  \n",
       "0  Please tell us how your mood has worsened  \n",
       "1                                        NaN  \n",
       "2                                        NaN  \n",
       "3             I am moderately more depressed  \n",
       "4                                        NaN  "
      ]
     },
     "execution_count": 4,
     "metadata": {},
     "output_type": "execute_result"
    }
   ],
   "source": [
    "pd.set_option(\"display.max_columns\", None)\n",
    "df.head(5)"
   ]
  },
  {
   "cell_type": "code",
   "execution_count": 5,
   "metadata": {},
   "outputs": [
    {
     "data": {
      "text/plain": [
       "(915, 64)"
      ]
     },
     "execution_count": 5,
     "metadata": {},
     "output_type": "execute_result"
    }
   ],
   "source": [
    "df.shape"
   ]
  },
  {
   "cell_type": "code",
   "execution_count": 6,
   "metadata": {},
   "outputs": [
    {
     "data": {
      "text/plain": [
       "RangeIndex(start=0, stop=915, step=1)"
      ]
     },
     "execution_count": 6,
     "metadata": {},
     "output_type": "execute_result"
    }
   ],
   "source": [
    "df.index"
   ]
  },
  {
   "cell_type": "code",
   "execution_count": 7,
   "metadata": {},
   "outputs": [
    {
     "data": {
      "text/plain": [
       "Index(['StartDate', 'EndDate', 'Status', 'IPAddress', 'Progress',\n",
       "       'Duration (in seconds)', 'Finished', 'RecordedDate', 'ResponseId',\n",
       "       'RecipientLastName', 'RecipientFirstName', 'RecipientEmail',\n",
       "       'ExternalReference', 'LocationLatitude', 'LocationLongitude',\n",
       "       'DistributionChannel', 'UserLanguage', 'Q1', 'Q2', 'Q3', 'Q4', 'Q5',\n",
       "       'Q5_6_TEXT', 'Q6', 'Q7', 'Q8', 'Q8a', 'Q9', 'Q9a', 'Q9b', 'Q10', 'Q11',\n",
       "       'Q11a', 'Q11b', 'Q12', 'Q13', 'Q14', 'Q14a', 'Q15', 'Q15a', 'Q16',\n",
       "       'Q16a', 'Q16b', 'Q17', 'Q17a', 'Q18', 'Q18a', 'Q19', 'Q20', 'Q21',\n",
       "       'Q22', 'Q23', 'Q24', 'Q25', 'Q25a', 'Q26', 'Q26a', 'Q27', 'Q27a', 'Q28',\n",
       "       'Q28a', 'Q29', 'Q29a', 'Q29b'],\n",
       "      dtype='object')"
      ]
     },
     "execution_count": 7,
     "metadata": {},
     "output_type": "execute_result"
    }
   ],
   "source": [
    "df.columns"
   ]
  },
  {
   "cell_type": "code",
   "execution_count": 8,
   "metadata": {},
   "outputs": [
    {
     "data": {
      "text/plain": [
       "StartDate      0\n",
       "EndDate        0\n",
       "Status         0\n",
       "IPAddress      5\n",
       "Progress       0\n",
       "            ... \n",
       "Q28           77\n",
       "Q28a         480\n",
       "Q29           76\n",
       "Q29a         311\n",
       "Q29b         393\n",
       "Length: 64, dtype: int64"
      ]
     },
     "execution_count": 8,
     "metadata": {},
     "output_type": "execute_result"
    }
   ],
   "source": [
    "# missing values\n",
    "df.isnull().sum()\n"
   ]
  },
  {
   "cell_type": "code",
   "execution_count": 9,
   "metadata": {},
   "outputs": [
    {
     "data": {
      "text/html": [
       "<div>\n",
       "<style scoped>\n",
       "    .dataframe tbody tr th:only-of-type {\n",
       "        vertical-align: middle;\n",
       "    }\n",
       "\n",
       "    .dataframe tbody tr th {\n",
       "        vertical-align: top;\n",
       "    }\n",
       "\n",
       "    .dataframe thead th {\n",
       "        text-align: right;\n",
       "    }\n",
       "</style>\n",
       "<table border=\"1\" class=\"dataframe\">\n",
       "  <thead>\n",
       "    <tr style=\"text-align: right;\">\n",
       "      <th></th>\n",
       "      <th>Q1</th>\n",
       "      <th>Q2</th>\n",
       "      <th>Q3</th>\n",
       "      <th>Q8</th>\n",
       "      <th>Q8a</th>\n",
       "      <th>Q9</th>\n",
       "      <th>Q9a</th>\n",
       "      <th>Q9b</th>\n",
       "      <th>Q10</th>\n",
       "      <th>Q11</th>\n",
       "      <th>Q11a</th>\n",
       "      <th>Q11b</th>\n",
       "      <th>Q12</th>\n",
       "      <th>Q13</th>\n",
       "      <th>Q14</th>\n",
       "      <th>Q14a</th>\n",
       "      <th>Q15</th>\n",
       "      <th>Q15a</th>\n",
       "      <th>Q16</th>\n",
       "      <th>Q16a</th>\n",
       "      <th>Q16b</th>\n",
       "      <th>Q17</th>\n",
       "      <th>Q18</th>\n",
       "      <th>Q18a</th>\n",
       "      <th>Q19</th>\n",
       "      <th>Q20</th>\n",
       "      <th>Q21</th>\n",
       "      <th>Q22</th>\n",
       "      <th>Q23</th>\n",
       "      <th>Q24</th>\n",
       "      <th>Q25</th>\n",
       "      <th>Q25a</th>\n",
       "      <th>Q26</th>\n",
       "      <th>Q26a</th>\n",
       "      <th>Q27</th>\n",
       "      <th>Q27a</th>\n",
       "      <th>Q28</th>\n",
       "      <th>Q28a</th>\n",
       "      <th>Q29</th>\n",
       "      <th>Q29a</th>\n",
       "    </tr>\n",
       "  </thead>\n",
       "  <tbody>\n",
       "    <tr>\n",
       "      <th>0</th>\n",
       "      <td>What is your age?</td>\n",
       "      <td>What is your gender?</td>\n",
       "      <td>50 States, D.C. and Puerto Rico</td>\n",
       "      <td>Are you currently conducting your job mostly f...</td>\n",
       "      <td>Which week in March 2020 did you start working...</td>\n",
       "      <td>Are you conducting clinical video visits with ...</td>\n",
       "      <td>Please rate YOUR satisfaction with conducting\\...</td>\n",
       "      <td>Please rate your estimation of your PATIENT's ...</td>\n",
       "      <td>Does\\nyour work require you to follow a fixed ...</td>\n",
       "      <td>Are children home from school in the house?</td>\n",
       "      <td>How many children are in the home?</td>\n",
       "      <td>How old are the children in the home?</td>\n",
       "      <td>Approximately how many hours did you sleep on ...</td>\n",
       "      <td>Approximately how many hours did you sleep on ...</td>\n",
       "      <td>Has the number of your work hours per week cha...</td>\n",
       "      <td>Please tell us how your work hours per week ha...</td>\n",
       "      <td>Have you varied your work schedule?</td>\n",
       "      <td>Please tell us how you have varied your work s...</td>\n",
       "      <td>Have your sleep patterns changed?</td>\n",
       "      <td>Please tell us how your bedtime has changed</td>\n",
       "      <td>Please tell us how your waketime has changed</td>\n",
       "      <td>Has the number of naps you are taking changed?</td>\n",
       "      <td>Has the amount of alcohol you are consuming\\nc...</td>\n",
       "      <td>Please tell us how the amount of alcohol you a...</td>\n",
       "      <td>In January 2020, approximately how often did y...</td>\n",
       "      <td>In the last month, approximately how often did...</td>\n",
       "      <td>In January 2020, approximately how often did y...</td>\n",
       "      <td>In the last month, approximately how often did...</td>\n",
       "      <td>Has\\nthe amount of news you are consuming incr...</td>\n",
       "      <td>How many hours of COVID-19 related news or\\nso...</td>\n",
       "      <td>Have\\nyou had more screen time (e.g. use of ...</td>\n",
       "      <td>Please tell us how much more screen time you e...</td>\n",
       "      <td>Have you changed your movement/exercise?</td>\n",
       "      <td>Please tell us how your movement/exercise habi...</td>\n",
       "      <td>Has the quality of your diet changed?</td>\n",
       "      <td>Please tell us how your diet has changed?</td>\n",
       "      <td>Has the amount of food you have been eating pe...</td>\n",
       "      <td>Please tell us how the amount of food you have...</td>\n",
       "      <td>Has your mood changed?</td>\n",
       "      <td>Please tell us how your mood has changed.  My ...</td>\n",
       "    </tr>\n",
       "    <tr>\n",
       "      <th>3</th>\n",
       "      <td>NaN</td>\n",
       "      <td>NaN</td>\n",
       "      <td>NaN</td>\n",
       "      <td>Yes</td>\n",
       "      <td>NaN</td>\n",
       "      <td>1</td>\n",
       "      <td>NaN</td>\n",
       "      <td>NaN</td>\n",
       "      <td>No</td>\n",
       "      <td>1</td>\n",
       "      <td>NaN</td>\n",
       "      <td>NaN</td>\n",
       "      <td>NaN</td>\n",
       "      <td>NaN</td>\n",
       "      <td>Yes</td>\n",
       "      <td>I am working fewer hours</td>\n",
       "      <td>NaN</td>\n",
       "      <td>NaN</td>\n",
       "      <td>Yes</td>\n",
       "      <td>NaN</td>\n",
       "      <td>NaN</td>\n",
       "      <td>NaN</td>\n",
       "      <td>Yes</td>\n",
       "      <td>I am drinking less alcohol</td>\n",
       "      <td>NaN</td>\n",
       "      <td>NaN</td>\n",
       "      <td>NaN</td>\n",
       "      <td>NaN</td>\n",
       "      <td>No</td>\n",
       "      <td>0-.5 hour</td>\n",
       "      <td>Yes</td>\n",
       "      <td>NaN</td>\n",
       "      <td>Yes</td>\n",
       "      <td>I am exercising/moving less</td>\n",
       "      <td>Yes</td>\n",
       "      <td>I am eating more healthy foods</td>\n",
       "      <td>Yes</td>\n",
       "      <td>I am eating more food each day</td>\n",
       "      <td>Yes</td>\n",
       "      <td>Moderately worse</td>\n",
       "    </tr>\n",
       "    <tr>\n",
       "      <th>5</th>\n",
       "      <td>44</td>\n",
       "      <td>Female</td>\n",
       "      <td>NaN</td>\n",
       "      <td>Yes</td>\n",
       "      <td>Week 4 March 22-28</td>\n",
       "      <td>1</td>\n",
       "      <td>Somewhat satisfied</td>\n",
       "      <td>Somewhat satisfied</td>\n",
       "      <td>No</td>\n",
       "      <td>2</td>\n",
       "      <td>NaN</td>\n",
       "      <td>NaN</td>\n",
       "      <td>8</td>\n",
       "      <td>9</td>\n",
       "      <td>Yes</td>\n",
       "      <td>I am working fewer hours</td>\n",
       "      <td>NaN</td>\n",
       "      <td>NaN</td>\n",
       "      <td>Yes</td>\n",
       "      <td>I am going to bed later</td>\n",
       "      <td>I am waking up later</td>\n",
       "      <td>Yes</td>\n",
       "      <td>Yes</td>\n",
       "      <td>I am drinking more alcohol</td>\n",
       "      <td>NaN</td>\n",
       "      <td>NaN</td>\n",
       "      <td>NaN</td>\n",
       "      <td>NaN</td>\n",
       "      <td>Yes</td>\n",
       "      <td>0-.5 hour</td>\n",
       "      <td>Yes</td>\n",
       "      <td>0-0.5 hour</td>\n",
       "      <td>No</td>\n",
       "      <td>NaN</td>\n",
       "      <td>Yes</td>\n",
       "      <td>I am eating more healthy foods</td>\n",
       "      <td>Yes</td>\n",
       "      <td>I am eating more food each day</td>\n",
       "      <td>Yes</td>\n",
       "      <td>Slightly worse</td>\n",
       "    </tr>\n",
       "    <tr>\n",
       "      <th>6</th>\n",
       "      <td>41</td>\n",
       "      <td>Female</td>\n",
       "      <td>NaN</td>\n",
       "      <td>Yes</td>\n",
       "      <td>Week 4 March 22-28</td>\n",
       "      <td>1</td>\n",
       "      <td>Somewhat satisfied</td>\n",
       "      <td>Somewhat satisfied</td>\n",
       "      <td>No</td>\n",
       "      <td>1</td>\n",
       "      <td>NaN</td>\n",
       "      <td>NaN</td>\n",
       "      <td>7</td>\n",
       "      <td>8</td>\n",
       "      <td>Yes</td>\n",
       "      <td>I am working fewer hours</td>\n",
       "      <td>NaN</td>\n",
       "      <td>NaN</td>\n",
       "      <td>Yes</td>\n",
       "      <td>I am going to bed later</td>\n",
       "      <td>I am waking up later</td>\n",
       "      <td>No</td>\n",
       "      <td>Yes</td>\n",
       "      <td>I am drinking more alcohol</td>\n",
       "      <td>NaN</td>\n",
       "      <td>NaN</td>\n",
       "      <td>NaN</td>\n",
       "      <td>NaN</td>\n",
       "      <td>Yes</td>\n",
       "      <td>1-2 hours</td>\n",
       "      <td>Yes</td>\n",
       "      <td>0.51-1 hour</td>\n",
       "      <td>Yes</td>\n",
       "      <td>I am exercising/moving more</td>\n",
       "      <td>Yes</td>\n",
       "      <td>I am eating less healthy foods</td>\n",
       "      <td>No</td>\n",
       "      <td>NaN</td>\n",
       "      <td>Yes</td>\n",
       "      <td>Much worse</td>\n",
       "    </tr>\n",
       "    <tr>\n",
       "      <th>8</th>\n",
       "      <td>35</td>\n",
       "      <td>Female</td>\n",
       "      <td>NaN</td>\n",
       "      <td>Yes</td>\n",
       "      <td>Week 4 March 22-28</td>\n",
       "      <td>1</td>\n",
       "      <td>Extremely satisfied</td>\n",
       "      <td>Somewhat satisfied</td>\n",
       "      <td>No</td>\n",
       "      <td>2</td>\n",
       "      <td>NaN</td>\n",
       "      <td>NaN</td>\n",
       "      <td>7</td>\n",
       "      <td>8</td>\n",
       "      <td>No</td>\n",
       "      <td>NaN</td>\n",
       "      <td>NaN</td>\n",
       "      <td>NaN</td>\n",
       "      <td>No</td>\n",
       "      <td>NaN</td>\n",
       "      <td>NaN</td>\n",
       "      <td>No</td>\n",
       "      <td>Yes</td>\n",
       "      <td>I am drinking less alcohol</td>\n",
       "      <td>NaN</td>\n",
       "      <td>NaN</td>\n",
       "      <td>NaN</td>\n",
       "      <td>NaN</td>\n",
       "      <td>Yes</td>\n",
       "      <td>0.51- 1 hour</td>\n",
       "      <td>Yes</td>\n",
       "      <td>0.51-1 hour</td>\n",
       "      <td>Yes</td>\n",
       "      <td>I am exercising/moving more</td>\n",
       "      <td>Yes</td>\n",
       "      <td>I am eating more healthy foods</td>\n",
       "      <td>Yes</td>\n",
       "      <td>I am eating more food each day</td>\n",
       "      <td>Yes</td>\n",
       "      <td>Slightly worse</td>\n",
       "    </tr>\n",
       "    <tr>\n",
       "      <th>...</th>\n",
       "      <td>...</td>\n",
       "      <td>...</td>\n",
       "      <td>...</td>\n",
       "      <td>...</td>\n",
       "      <td>...</td>\n",
       "      <td>...</td>\n",
       "      <td>...</td>\n",
       "      <td>...</td>\n",
       "      <td>...</td>\n",
       "      <td>...</td>\n",
       "      <td>...</td>\n",
       "      <td>...</td>\n",
       "      <td>...</td>\n",
       "      <td>...</td>\n",
       "      <td>...</td>\n",
       "      <td>...</td>\n",
       "      <td>...</td>\n",
       "      <td>...</td>\n",
       "      <td>...</td>\n",
       "      <td>...</td>\n",
       "      <td>...</td>\n",
       "      <td>...</td>\n",
       "      <td>...</td>\n",
       "      <td>...</td>\n",
       "      <td>...</td>\n",
       "      <td>...</td>\n",
       "      <td>...</td>\n",
       "      <td>...</td>\n",
       "      <td>...</td>\n",
       "      <td>...</td>\n",
       "      <td>...</td>\n",
       "      <td>...</td>\n",
       "      <td>...</td>\n",
       "      <td>...</td>\n",
       "      <td>...</td>\n",
       "      <td>...</td>\n",
       "      <td>...</td>\n",
       "      <td>...</td>\n",
       "      <td>...</td>\n",
       "      <td>...</td>\n",
       "    </tr>\n",
       "    <tr>\n",
       "      <th>894</th>\n",
       "      <td>29</td>\n",
       "      <td>Female</td>\n",
       "      <td>Georgia</td>\n",
       "      <td>Yes</td>\n",
       "      <td>Week 2 March 8-14</td>\n",
       "      <td>Not applicable</td>\n",
       "      <td>NaN</td>\n",
       "      <td>NaN</td>\n",
       "      <td>Yes</td>\n",
       "      <td>Not applicable</td>\n",
       "      <td>NaN</td>\n",
       "      <td>NaN</td>\n",
       "      <td>8-Jun</td>\n",
       "      <td>8-Jun</td>\n",
       "      <td>No</td>\n",
       "      <td>NaN</td>\n",
       "      <td>No</td>\n",
       "      <td>NaN</td>\n",
       "      <td>Yes</td>\n",
       "      <td>I am going to bed later</td>\n",
       "      <td>I waking up earlier</td>\n",
       "      <td>No</td>\n",
       "      <td>Yes</td>\n",
       "      <td>I am drinking more alcohol</td>\n",
       "      <td>Once a month or less</td>\n",
       "      <td>2-4 times a month</td>\n",
       "      <td>Never</td>\n",
       "      <td>Never</td>\n",
       "      <td>Yes</td>\n",
       "      <td>2-3 hours</td>\n",
       "      <td>Yes</td>\n",
       "      <td>3+ hours</td>\n",
       "      <td>Yes</td>\n",
       "      <td>I am exercising/moving less</td>\n",
       "      <td>Yes</td>\n",
       "      <td>I am eating less healthy foods</td>\n",
       "      <td>Yes</td>\n",
       "      <td>I am eating more food each day</td>\n",
       "      <td>Yes</td>\n",
       "      <td>Moderately worse</td>\n",
       "    </tr>\n",
       "    <tr>\n",
       "      <th>895</th>\n",
       "      <td>44</td>\n",
       "      <td>Male</td>\n",
       "      <td>Michigan</td>\n",
       "      <td>Yes</td>\n",
       "      <td>Week 5 March 29- April 4</td>\n",
       "      <td>Yes</td>\n",
       "      <td>Extremely satisfied</td>\n",
       "      <td>Extremely satisfied</td>\n",
       "      <td>No</td>\n",
       "      <td>Yes</td>\n",
       "      <td>2</td>\n",
       "      <td>Under 12 years old,12-17 years old</td>\n",
       "      <td>7</td>\n",
       "      <td>7.5</td>\n",
       "      <td>Yes</td>\n",
       "      <td>I am working fewer hours</td>\n",
       "      <td>Yes</td>\n",
       "      <td>I am ending work earlier most days</td>\n",
       "      <td>No</td>\n",
       "      <td>NaN</td>\n",
       "      <td>NaN</td>\n",
       "      <td>No</td>\n",
       "      <td>Yes</td>\n",
       "      <td>I am drinking more alcohol</td>\n",
       "      <td>2-3 times a week</td>\n",
       "      <td>2-3 times a week</td>\n",
       "      <td>Never</td>\n",
       "      <td>Never</td>\n",
       "      <td>No</td>\n",
       "      <td>0-.5 hour</td>\n",
       "      <td>No</td>\n",
       "      <td>NaN</td>\n",
       "      <td>Yes</td>\n",
       "      <td>I am exercising/moving more</td>\n",
       "      <td>No</td>\n",
       "      <td>NaN</td>\n",
       "      <td>Yes</td>\n",
       "      <td>I am eating more food each day</td>\n",
       "      <td>No</td>\n",
       "      <td>NaN</td>\n",
       "    </tr>\n",
       "    <tr>\n",
       "      <th>896</th>\n",
       "      <td>47</td>\n",
       "      <td>Female</td>\n",
       "      <td>California</td>\n",
       "      <td>Yes</td>\n",
       "      <td>Week 3 March 15-21</td>\n",
       "      <td>Yes</td>\n",
       "      <td>Extremely satisfied</td>\n",
       "      <td>Extremely satisfied</td>\n",
       "      <td>No</td>\n",
       "      <td>Yes</td>\n",
       "      <td>2</td>\n",
       "      <td>12-17 years old</td>\n",
       "      <td>6</td>\n",
       "      <td>7</td>\n",
       "      <td>Yes</td>\n",
       "      <td>I am working fewer hours</td>\n",
       "      <td>Yes</td>\n",
       "      <td>I am starting work later most days,I am ending...</td>\n",
       "      <td>Yes</td>\n",
       "      <td>I am going to bed later</td>\n",
       "      <td>I am waking up later</td>\n",
       "      <td>Yes</td>\n",
       "      <td>Yes</td>\n",
       "      <td>I am drinking more alcohol</td>\n",
       "      <td>2-4 times a month</td>\n",
       "      <td>2-3 times a week</td>\n",
       "      <td>Never</td>\n",
       "      <td>Never</td>\n",
       "      <td>Yes</td>\n",
       "      <td>3+ hours</td>\n",
       "      <td>Yes</td>\n",
       "      <td>1-2 hours</td>\n",
       "      <td>Yes</td>\n",
       "      <td>I am exercising/moving less</td>\n",
       "      <td>Yes</td>\n",
       "      <td>I am eating less healthy foods</td>\n",
       "      <td>Yes</td>\n",
       "      <td>I am eating more food each day</td>\n",
       "      <td>Yes</td>\n",
       "      <td>Moderately worse</td>\n",
       "    </tr>\n",
       "    <tr>\n",
       "      <th>897</th>\n",
       "      <td>58</td>\n",
       "      <td>Female</td>\n",
       "      <td>Michigan</td>\n",
       "      <td>No</td>\n",
       "      <td>NaN</td>\n",
       "      <td>No</td>\n",
       "      <td>NaN</td>\n",
       "      <td>NaN</td>\n",
       "      <td>No</td>\n",
       "      <td>No</td>\n",
       "      <td>NaN</td>\n",
       "      <td>NaN</td>\n",
       "      <td>9-Aug</td>\n",
       "      <td>10-Sep</td>\n",
       "      <td>Yes</td>\n",
       "      <td>I am working fewer hours</td>\n",
       "      <td>Yes</td>\n",
       "      <td>I am starting work later most days,I am ending...</td>\n",
       "      <td>Yes</td>\n",
       "      <td>I am going to bed earlier</td>\n",
       "      <td>I am waking up later</td>\n",
       "      <td>No</td>\n",
       "      <td>Yes</td>\n",
       "      <td>I am drinking more alcohol</td>\n",
       "      <td>2-4 times a month</td>\n",
       "      <td>2-3 times a week</td>\n",
       "      <td>Never</td>\n",
       "      <td>Never</td>\n",
       "      <td>Yes</td>\n",
       "      <td>2-3 hours</td>\n",
       "      <td>Yes</td>\n",
       "      <td>2-3 hours</td>\n",
       "      <td>Yes</td>\n",
       "      <td>I am exercising/moving more</td>\n",
       "      <td>Yes</td>\n",
       "      <td>I am eating more healthy foods</td>\n",
       "      <td>Yes</td>\n",
       "      <td>I am eating more food each day</td>\n",
       "      <td>Yes</td>\n",
       "      <td>Much better</td>\n",
       "    </tr>\n",
       "    <tr>\n",
       "      <th>908</th>\n",
       "      <td>66</td>\n",
       "      <td>Female</td>\n",
       "      <td>Michigan</td>\n",
       "      <td>No</td>\n",
       "      <td>NaN</td>\n",
       "      <td>No,Not applicable</td>\n",
       "      <td>NaN</td>\n",
       "      <td>NaN</td>\n",
       "      <td>No</td>\n",
       "      <td>No</td>\n",
       "      <td>NaN</td>\n",
       "      <td>NaN</td>\n",
       "      <td>8</td>\n",
       "      <td>8</td>\n",
       "      <td>No</td>\n",
       "      <td>NaN</td>\n",
       "      <td>Yes</td>\n",
       "      <td>I am ending work earlier most days</td>\n",
       "      <td>No</td>\n",
       "      <td>NaN</td>\n",
       "      <td>NaN</td>\n",
       "      <td>No</td>\n",
       "      <td>Yes</td>\n",
       "      <td>I am drinking more alcohol</td>\n",
       "      <td>2-3 times a week</td>\n",
       "      <td>2-3 times a week</td>\n",
       "      <td>Never</td>\n",
       "      <td>2-4 times a month</td>\n",
       "      <td>Yes</td>\n",
       "      <td>1-2 hours</td>\n",
       "      <td>No</td>\n",
       "      <td>NaN</td>\n",
       "      <td>Yes</td>\n",
       "      <td>I am exercising/moving less</td>\n",
       "      <td>Yes</td>\n",
       "      <td>I am eating less healthy foods</td>\n",
       "      <td>No</td>\n",
       "      <td>NaN</td>\n",
       "      <td>Yes</td>\n",
       "      <td>Slightly worse,Moderately worse</td>\n",
       "    </tr>\n",
       "  </tbody>\n",
       "</table>\n",
       "<p>280 rows × 40 columns</p>\n",
       "</div>"
      ],
      "text/plain": [
       "                    Q1                    Q2                               Q3  \\\n",
       "0    What is your age?  What is your gender?  50 States, D.C. and Puerto Rico   \n",
       "3                  NaN                   NaN                              NaN   \n",
       "5                   44                Female                              NaN   \n",
       "6                   41                Female                              NaN   \n",
       "8                   35                Female                              NaN   \n",
       "..                 ...                   ...                              ...   \n",
       "894                 29                Female                          Georgia   \n",
       "895                 44                  Male                         Michigan   \n",
       "896                 47                Female                       California   \n",
       "897                 58                Female                         Michigan   \n",
       "908                 66                Female                         Michigan   \n",
       "\n",
       "                                                    Q8  \\\n",
       "0    Are you currently conducting your job mostly f...   \n",
       "3                                                  Yes   \n",
       "5                                                  Yes   \n",
       "6                                                  Yes   \n",
       "8                                                  Yes   \n",
       "..                                                 ...   \n",
       "894                                                Yes   \n",
       "895                                                Yes   \n",
       "896                                                Yes   \n",
       "897                                                 No   \n",
       "908                                                 No   \n",
       "\n",
       "                                                   Q8a  \\\n",
       "0    Which week in March 2020 did you start working...   \n",
       "3                                                  NaN   \n",
       "5                                   Week 4 March 22-28   \n",
       "6                                   Week 4 March 22-28   \n",
       "8                                   Week 4 March 22-28   \n",
       "..                                                 ...   \n",
       "894                                  Week 2 March 8-14   \n",
       "895                           Week 5 March 29- April 4   \n",
       "896                                 Week 3 March 15-21   \n",
       "897                                                NaN   \n",
       "908                                                NaN   \n",
       "\n",
       "                                                    Q9  \\\n",
       "0    Are you conducting clinical video visits with ...   \n",
       "3                                                    1   \n",
       "5                                                    1   \n",
       "6                                                    1   \n",
       "8                                                    1   \n",
       "..                                                 ...   \n",
       "894                                     Not applicable   \n",
       "895                                                Yes   \n",
       "896                                                Yes   \n",
       "897                                                 No   \n",
       "908                                  No,Not applicable   \n",
       "\n",
       "                                                   Q9a  \\\n",
       "0    Please rate YOUR satisfaction with conducting\\...   \n",
       "3                                                  NaN   \n",
       "5                                   Somewhat satisfied   \n",
       "6                                   Somewhat satisfied   \n",
       "8                                  Extremely satisfied   \n",
       "..                                                 ...   \n",
       "894                                                NaN   \n",
       "895                                Extremely satisfied   \n",
       "896                                Extremely satisfied   \n",
       "897                                                NaN   \n",
       "908                                                NaN   \n",
       "\n",
       "                                                   Q9b  \\\n",
       "0    Please rate your estimation of your PATIENT's ...   \n",
       "3                                                  NaN   \n",
       "5                                   Somewhat satisfied   \n",
       "6                                   Somewhat satisfied   \n",
       "8                                   Somewhat satisfied   \n",
       "..                                                 ...   \n",
       "894                                                NaN   \n",
       "895                                Extremely satisfied   \n",
       "896                                Extremely satisfied   \n",
       "897                                                NaN   \n",
       "908                                                NaN   \n",
       "\n",
       "                                                   Q10  \\\n",
       "0    Does\\nyour work require you to follow a fixed ...   \n",
       "3                                                   No   \n",
       "5                                                   No   \n",
       "6                                                   No   \n",
       "8                                                   No   \n",
       "..                                                 ...   \n",
       "894                                                Yes   \n",
       "895                                                 No   \n",
       "896                                                 No   \n",
       "897                                                 No   \n",
       "908                                                 No   \n",
       "\n",
       "                                             Q11  \\\n",
       "0    Are children home from school in the house?   \n",
       "3                                              1   \n",
       "5                                              2   \n",
       "6                                              1   \n",
       "8                                              2   \n",
       "..                                           ...   \n",
       "894                               Not applicable   \n",
       "895                                          Yes   \n",
       "896                                          Yes   \n",
       "897                                           No   \n",
       "908                                           No   \n",
       "\n",
       "                                   Q11a  \\\n",
       "0    How many children are in the home?   \n",
       "3                                   NaN   \n",
       "5                                   NaN   \n",
       "6                                   NaN   \n",
       "8                                   NaN   \n",
       "..                                  ...   \n",
       "894                                 NaN   \n",
       "895                                   2   \n",
       "896                                   2   \n",
       "897                                 NaN   \n",
       "908                                 NaN   \n",
       "\n",
       "                                      Q11b  \\\n",
       "0    How old are the children in the home?   \n",
       "3                                      NaN   \n",
       "5                                      NaN   \n",
       "6                                      NaN   \n",
       "8                                      NaN   \n",
       "..                                     ...   \n",
       "894                                    NaN   \n",
       "895     Under 12 years old,12-17 years old   \n",
       "896                        12-17 years old   \n",
       "897                                    NaN   \n",
       "908                                    NaN   \n",
       "\n",
       "                                                   Q12  \\\n",
       "0    Approximately how many hours did you sleep on ...   \n",
       "3                                                  NaN   \n",
       "5                                                    8   \n",
       "6                                                    7   \n",
       "8                                                    7   \n",
       "..                                                 ...   \n",
       "894                                              8-Jun   \n",
       "895                                                  7   \n",
       "896                                                  6   \n",
       "897                                              9-Aug   \n",
       "908                                                  8   \n",
       "\n",
       "                                                   Q13  \\\n",
       "0    Approximately how many hours did you sleep on ...   \n",
       "3                                                  NaN   \n",
       "5                                                    9   \n",
       "6                                                    8   \n",
       "8                                                    8   \n",
       "..                                                 ...   \n",
       "894                                              8-Jun   \n",
       "895                                                7.5   \n",
       "896                                                  7   \n",
       "897                                             10-Sep   \n",
       "908                                                  8   \n",
       "\n",
       "                                                   Q14  \\\n",
       "0    Has the number of your work hours per week cha...   \n",
       "3                                                  Yes   \n",
       "5                                                  Yes   \n",
       "6                                                  Yes   \n",
       "8                                                   No   \n",
       "..                                                 ...   \n",
       "894                                                 No   \n",
       "895                                                Yes   \n",
       "896                                                Yes   \n",
       "897                                                Yes   \n",
       "908                                                 No   \n",
       "\n",
       "                                                  Q14a  \\\n",
       "0    Please tell us how your work hours per week ha...   \n",
       "3                             I am working fewer hours   \n",
       "5                             I am working fewer hours   \n",
       "6                             I am working fewer hours   \n",
       "8                                                  NaN   \n",
       "..                                                 ...   \n",
       "894                                                NaN   \n",
       "895                           I am working fewer hours   \n",
       "896                           I am working fewer hours   \n",
       "897                           I am working fewer hours   \n",
       "908                                                NaN   \n",
       "\n",
       "                                     Q15  \\\n",
       "0    Have you varied your work schedule?   \n",
       "3                                    NaN   \n",
       "5                                    NaN   \n",
       "6                                    NaN   \n",
       "8                                    NaN   \n",
       "..                                   ...   \n",
       "894                                   No   \n",
       "895                                  Yes   \n",
       "896                                  Yes   \n",
       "897                                  Yes   \n",
       "908                                  Yes   \n",
       "\n",
       "                                                  Q15a  \\\n",
       "0    Please tell us how you have varied your work s...   \n",
       "3                                                  NaN   \n",
       "5                                                  NaN   \n",
       "6                                                  NaN   \n",
       "8                                                  NaN   \n",
       "..                                                 ...   \n",
       "894                                                NaN   \n",
       "895                 I am ending work earlier most days   \n",
       "896  I am starting work later most days,I am ending...   \n",
       "897  I am starting work later most days,I am ending...   \n",
       "908                 I am ending work earlier most days   \n",
       "\n",
       "                                   Q16  \\\n",
       "0    Have your sleep patterns changed?   \n",
       "3                                  Yes   \n",
       "5                                  Yes   \n",
       "6                                  Yes   \n",
       "8                                   No   \n",
       "..                                 ...   \n",
       "894                                Yes   \n",
       "895                                 No   \n",
       "896                                Yes   \n",
       "897                                Yes   \n",
       "908                                 No   \n",
       "\n",
       "                                            Q16a  \\\n",
       "0    Please tell us how your bedtime has changed   \n",
       "3                                            NaN   \n",
       "5                        I am going to bed later   \n",
       "6                        I am going to bed later   \n",
       "8                                            NaN   \n",
       "..                                           ...   \n",
       "894                      I am going to bed later   \n",
       "895                                          NaN   \n",
       "896                      I am going to bed later   \n",
       "897                    I am going to bed earlier   \n",
       "908                                          NaN   \n",
       "\n",
       "                                             Q16b  \\\n",
       "0    Please tell us how your waketime has changed   \n",
       "3                                             NaN   \n",
       "5                            I am waking up later   \n",
       "6                            I am waking up later   \n",
       "8                                             NaN   \n",
       "..                                            ...   \n",
       "894                           I waking up earlier   \n",
       "895                                           NaN   \n",
       "896                          I am waking up later   \n",
       "897                          I am waking up later   \n",
       "908                                           NaN   \n",
       "\n",
       "                                                Q17  \\\n",
       "0    Has the number of naps you are taking changed?   \n",
       "3                                               NaN   \n",
       "5                                               Yes   \n",
       "6                                                No   \n",
       "8                                                No   \n",
       "..                                              ...   \n",
       "894                                              No   \n",
       "895                                              No   \n",
       "896                                             Yes   \n",
       "897                                              No   \n",
       "908                                              No   \n",
       "\n",
       "                                                   Q18  \\\n",
       "0    Has the amount of alcohol you are consuming\\nc...   \n",
       "3                                                  Yes   \n",
       "5                                                  Yes   \n",
       "6                                                  Yes   \n",
       "8                                                  Yes   \n",
       "..                                                 ...   \n",
       "894                                                Yes   \n",
       "895                                                Yes   \n",
       "896                                                Yes   \n",
       "897                                                Yes   \n",
       "908                                                Yes   \n",
       "\n",
       "                                                  Q18a  \\\n",
       "0    Please tell us how the amount of alcohol you a...   \n",
       "3                           I am drinking less alcohol   \n",
       "5                           I am drinking more alcohol   \n",
       "6                           I am drinking more alcohol   \n",
       "8                           I am drinking less alcohol   \n",
       "..                                                 ...   \n",
       "894                         I am drinking more alcohol   \n",
       "895                         I am drinking more alcohol   \n",
       "896                         I am drinking more alcohol   \n",
       "897                         I am drinking more alcohol   \n",
       "908                         I am drinking more alcohol   \n",
       "\n",
       "                                                   Q19  \\\n",
       "0    In January 2020, approximately how often did y...   \n",
       "3                                                  NaN   \n",
       "5                                                  NaN   \n",
       "6                                                  NaN   \n",
       "8                                                  NaN   \n",
       "..                                                 ...   \n",
       "894                               Once a month or less   \n",
       "895                                   2-3 times a week   \n",
       "896                                  2-4 times a month   \n",
       "897                                  2-4 times a month   \n",
       "908                                   2-3 times a week   \n",
       "\n",
       "                                                   Q20  \\\n",
       "0    In the last month, approximately how often did...   \n",
       "3                                                  NaN   \n",
       "5                                                  NaN   \n",
       "6                                                  NaN   \n",
       "8                                                  NaN   \n",
       "..                                                 ...   \n",
       "894                                  2-4 times a month   \n",
       "895                                   2-3 times a week   \n",
       "896                                   2-3 times a week   \n",
       "897                                   2-3 times a week   \n",
       "908                                   2-3 times a week   \n",
       "\n",
       "                                                   Q21  \\\n",
       "0    In January 2020, approximately how often did y...   \n",
       "3                                                  NaN   \n",
       "5                                                  NaN   \n",
       "6                                                  NaN   \n",
       "8                                                  NaN   \n",
       "..                                                 ...   \n",
       "894                                              Never   \n",
       "895                                              Never   \n",
       "896                                              Never   \n",
       "897                                              Never   \n",
       "908                                              Never   \n",
       "\n",
       "                                                   Q22  \\\n",
       "0    In the last month, approximately how often did...   \n",
       "3                                                  NaN   \n",
       "5                                                  NaN   \n",
       "6                                                  NaN   \n",
       "8                                                  NaN   \n",
       "..                                                 ...   \n",
       "894                                              Never   \n",
       "895                                              Never   \n",
       "896                                              Never   \n",
       "897                                              Never   \n",
       "908                                  2-4 times a month   \n",
       "\n",
       "                                                   Q23  \\\n",
       "0    Has\\nthe amount of news you are consuming incr...   \n",
       "3                                                   No   \n",
       "5                                                  Yes   \n",
       "6                                                  Yes   \n",
       "8                                                  Yes   \n",
       "..                                                 ...   \n",
       "894                                                Yes   \n",
       "895                                                 No   \n",
       "896                                                Yes   \n",
       "897                                                Yes   \n",
       "908                                                Yes   \n",
       "\n",
       "                                                   Q24  \\\n",
       "0    How many hours of COVID-19 related news or\\nso...   \n",
       "3                                            0-.5 hour   \n",
       "5                                            0-.5 hour   \n",
       "6                                            1-2 hours   \n",
       "8                                         0.51- 1 hour   \n",
       "..                                                 ...   \n",
       "894                                          2-3 hours   \n",
       "895                                          0-.5 hour   \n",
       "896                                           3+ hours   \n",
       "897                                          2-3 hours   \n",
       "908                                          1-2 hours   \n",
       "\n",
       "                                                   Q25  \\\n",
       "0    Have\\nyou had more screen time (e.g. use of ...   \n",
       "3                                                  Yes   \n",
       "5                                                  Yes   \n",
       "6                                                  Yes   \n",
       "8                                                  Yes   \n",
       "..                                                 ...   \n",
       "894                                                Yes   \n",
       "895                                                 No   \n",
       "896                                                Yes   \n",
       "897                                                Yes   \n",
       "908                                                 No   \n",
       "\n",
       "                                                  Q25a  \\\n",
       "0    Please tell us how much more screen time you e...   \n",
       "3                                                  NaN   \n",
       "5                                           0-0.5 hour   \n",
       "6                                          0.51-1 hour   \n",
       "8                                          0.51-1 hour   \n",
       "..                                                 ...   \n",
       "894                                           3+ hours   \n",
       "895                                                NaN   \n",
       "896                                          1-2 hours   \n",
       "897                                          2-3 hours   \n",
       "908                                                NaN   \n",
       "\n",
       "                                          Q26  \\\n",
       "0    Have you changed your movement/exercise?   \n",
       "3                                         Yes   \n",
       "5                                          No   \n",
       "6                                         Yes   \n",
       "8                                         Yes   \n",
       "..                                        ...   \n",
       "894                                       Yes   \n",
       "895                                       Yes   \n",
       "896                                       Yes   \n",
       "897                                       Yes   \n",
       "908                                       Yes   \n",
       "\n",
       "                                                  Q26a  \\\n",
       "0    Please tell us how your movement/exercise habi...   \n",
       "3                          I am exercising/moving less   \n",
       "5                                                  NaN   \n",
       "6                          I am exercising/moving more   \n",
       "8                          I am exercising/moving more   \n",
       "..                                                 ...   \n",
       "894                        I am exercising/moving less   \n",
       "895                        I am exercising/moving more   \n",
       "896                        I am exercising/moving less   \n",
       "897                        I am exercising/moving more   \n",
       "908                        I am exercising/moving less   \n",
       "\n",
       "                                       Q27  \\\n",
       "0    Has the quality of your diet changed?   \n",
       "3                                      Yes   \n",
       "5                                      Yes   \n",
       "6                                      Yes   \n",
       "8                                      Yes   \n",
       "..                                     ...   \n",
       "894                                    Yes   \n",
       "895                                     No   \n",
       "896                                    Yes   \n",
       "897                                    Yes   \n",
       "908                                    Yes   \n",
       "\n",
       "                                          Q27a  \\\n",
       "0    Please tell us how your diet has changed?   \n",
       "3               I am eating more healthy foods   \n",
       "5               I am eating more healthy foods   \n",
       "6               I am eating less healthy foods   \n",
       "8               I am eating more healthy foods   \n",
       "..                                         ...   \n",
       "894             I am eating less healthy foods   \n",
       "895                                        NaN   \n",
       "896             I am eating less healthy foods   \n",
       "897             I am eating more healthy foods   \n",
       "908             I am eating less healthy foods   \n",
       "\n",
       "                                                   Q28  \\\n",
       "0    Has the amount of food you have been eating pe...   \n",
       "3                                                  Yes   \n",
       "5                                                  Yes   \n",
       "6                                                   No   \n",
       "8                                                  Yes   \n",
       "..                                                 ...   \n",
       "894                                                Yes   \n",
       "895                                                Yes   \n",
       "896                                                Yes   \n",
       "897                                                Yes   \n",
       "908                                                 No   \n",
       "\n",
       "                                                  Q28a  \\\n",
       "0    Please tell us how the amount of food you have...   \n",
       "3                       I am eating more food each day   \n",
       "5                       I am eating more food each day   \n",
       "6                                                  NaN   \n",
       "8                       I am eating more food each day   \n",
       "..                                                 ...   \n",
       "894                     I am eating more food each day   \n",
       "895                     I am eating more food each day   \n",
       "896                     I am eating more food each day   \n",
       "897                     I am eating more food each day   \n",
       "908                                                NaN   \n",
       "\n",
       "                        Q29                                               Q29a  \n",
       "0    Has your mood changed?  Please tell us how your mood has changed.  My ...  \n",
       "3                       Yes                                   Moderately worse  \n",
       "5                       Yes                                     Slightly worse  \n",
       "6                       Yes                                         Much worse  \n",
       "8                       Yes                                     Slightly worse  \n",
       "..                      ...                                                ...  \n",
       "894                     Yes                                   Moderately worse  \n",
       "895                      No                                                NaN  \n",
       "896                     Yes                                   Moderately worse  \n",
       "897                     Yes                                        Much better  \n",
       "908                     Yes                    Slightly worse,Moderately worse  \n",
       "\n",
       "[280 rows x 40 columns]"
      ]
     },
     "execution_count": 9,
     "metadata": {},
     "output_type": "execute_result"
    }
   ],
   "source": [
    "#Drop rows where NaN appears in \"Please tell us how your mood has changed.  My mood has been:\" column because it is going to be our target  \n",
    "df2=df.dropna(subset=['Q18a'])\n",
    "# Drop Unnecessary columns\n",
    "df2=df2.drop(['StartDate', 'EndDate', 'Status', 'IPAddress', 'Progress',\n",
    "       'Duration (in seconds)', 'Finished', 'RecordedDate', 'ResponseId',\n",
    "       'RecipientLastName', 'RecipientFirstName', 'RecipientEmail',\n",
    "       'ExternalReference', 'LocationLatitude', 'LocationLongitude',\n",
    "       'DistributionChannel', 'UserLanguage', 'Q4', 'Q5', 'Q5_6_TEXT', 'Q7','Q17a', 'Q6','Q29b' ], axis=1)\n",
    "\n",
    "df2"
   ]
  },
  {
   "cell_type": "code",
   "execution_count": 10,
   "metadata": {},
   "outputs": [
    {
     "data": {
      "text/plain": [
       "Q1        1\n",
       "Q2        1\n",
       "Q3        5\n",
       "Q8        0\n",
       "Q8a     103\n",
       "Q9        1\n",
       "Q9a     188\n",
       "Q9b     230\n",
       "Q10       0\n",
       "Q11       0\n",
       "Q11a    156\n",
       "Q11b    156\n",
       "Q12       1\n",
       "Q13       1\n",
       "Q14       0\n",
       "Q14a    112\n",
       "Q15       5\n",
       "Q15a     91\n",
       "Q16       0\n",
       "Q16a     72\n",
       "Q16b     72\n",
       "Q17       1\n",
       "Q18       0\n",
       "Q18a      0\n",
       "Q19       5\n",
       "Q20       5\n",
       "Q21       5\n",
       "Q22       5\n",
       "Q23       0\n",
       "Q24       0\n",
       "Q25       0\n",
       "Q25a    104\n",
       "Q26       0\n",
       "Q26a     50\n",
       "Q27       0\n",
       "Q27a     82\n",
       "Q28       0\n",
       "Q28a    109\n",
       "Q29       0\n",
       "Q29a     51\n",
       "dtype: int64"
      ]
     },
     "execution_count": 10,
     "metadata": {},
     "output_type": "execute_result"
    }
   ],
   "source": [
    "# missing values\n",
    "df2.isnull().sum()\n"
   ]
  },
  {
   "cell_type": "code",
   "execution_count": 11,
   "metadata": {},
   "outputs": [
    {
     "name": "stdout",
     "output_type": "stream",
     "text": [
      "1612\n"
     ]
    }
   ],
   "source": [
    "#the total number of missing values \n",
    "print(df2.isnull().values.sum())"
   ]
  },
  {
   "cell_type": "code",
   "execution_count": 12,
   "metadata": {},
   "outputs": [
    {
     "data": {
      "text/html": [
       "<div>\n",
       "<style scoped>\n",
       "    .dataframe tbody tr th:only-of-type {\n",
       "        vertical-align: middle;\n",
       "    }\n",
       "\n",
       "    .dataframe tbody tr th {\n",
       "        vertical-align: top;\n",
       "    }\n",
       "\n",
       "    .dataframe thead th {\n",
       "        text-align: right;\n",
       "    }\n",
       "</style>\n",
       "<table border=\"1\" class=\"dataframe\">\n",
       "  <thead>\n",
       "    <tr style=\"text-align: right;\">\n",
       "      <th></th>\n",
       "      <th>Q1</th>\n",
       "      <th>Q2</th>\n",
       "      <th>Q3</th>\n",
       "      <th>Q8</th>\n",
       "      <th>Q9</th>\n",
       "      <th>Q10</th>\n",
       "      <th>Q11</th>\n",
       "      <th>Q12</th>\n",
       "      <th>Q13</th>\n",
       "      <th>Q14</th>\n",
       "      <th>Q15</th>\n",
       "      <th>Q16</th>\n",
       "      <th>Q17</th>\n",
       "      <th>Q18</th>\n",
       "      <th>Q18a</th>\n",
       "      <th>Q19</th>\n",
       "      <th>Q20</th>\n",
       "      <th>Q21</th>\n",
       "      <th>Q22</th>\n",
       "      <th>Q23</th>\n",
       "      <th>Q24</th>\n",
       "      <th>Q25</th>\n",
       "      <th>Q26</th>\n",
       "      <th>Q27</th>\n",
       "      <th>Q28</th>\n",
       "      <th>Q29</th>\n",
       "    </tr>\n",
       "  </thead>\n",
       "  <tbody>\n",
       "    <tr>\n",
       "      <th>12</th>\n",
       "      <td>44</td>\n",
       "      <td>Female</td>\n",
       "      <td>Michigan</td>\n",
       "      <td>Yes</td>\n",
       "      <td>1</td>\n",
       "      <td>Yes</td>\n",
       "      <td>Not applicable</td>\n",
       "      <td>8</td>\n",
       "      <td>9</td>\n",
       "      <td>Yes</td>\n",
       "      <td>Yes</td>\n",
       "      <td>Yes</td>\n",
       "      <td>No</td>\n",
       "      <td>Yes</td>\n",
       "      <td>I am drinking more alcohol</td>\n",
       "      <td>2-3 times a week</td>\n",
       "      <td>4 or more times a week</td>\n",
       "      <td>Never</td>\n",
       "      <td>Never</td>\n",
       "      <td>No</td>\n",
       "      <td>0-.5 hour</td>\n",
       "      <td>Yes</td>\n",
       "      <td>Yes</td>\n",
       "      <td>Yes</td>\n",
       "      <td>Yes</td>\n",
       "      <td>Yes</td>\n",
       "    </tr>\n",
       "    <tr>\n",
       "      <th>13</th>\n",
       "      <td>31</td>\n",
       "      <td>Male</td>\n",
       "      <td>Iowa</td>\n",
       "      <td>No</td>\n",
       "      <td>2</td>\n",
       "      <td>No</td>\n",
       "      <td>Not applicable</td>\n",
       "      <td>6</td>\n",
       "      <td>5.5</td>\n",
       "      <td>Yes</td>\n",
       "      <td>No</td>\n",
       "      <td>No</td>\n",
       "      <td>No</td>\n",
       "      <td>Yes</td>\n",
       "      <td>I am drinking more alcohol</td>\n",
       "      <td>2-3 times a week</td>\n",
       "      <td>2-3 times a week</td>\n",
       "      <td>Never</td>\n",
       "      <td>Never</td>\n",
       "      <td>Yes</td>\n",
       "      <td>1-2 hours</td>\n",
       "      <td>Yes</td>\n",
       "      <td>No</td>\n",
       "      <td>Yes</td>\n",
       "      <td>No</td>\n",
       "      <td>Yes</td>\n",
       "    </tr>\n",
       "    <tr>\n",
       "      <th>16</th>\n",
       "      <td>39</td>\n",
       "      <td>Female</td>\n",
       "      <td>Michigan</td>\n",
       "      <td>Yes</td>\n",
       "      <td>2</td>\n",
       "      <td>Yes</td>\n",
       "      <td>Yes</td>\n",
       "      <td>7</td>\n",
       "      <td>7</td>\n",
       "      <td>Yes</td>\n",
       "      <td>No</td>\n",
       "      <td>Yes</td>\n",
       "      <td>No</td>\n",
       "      <td>Yes</td>\n",
       "      <td>I am drinking more alcohol</td>\n",
       "      <td>2-3 times a week</td>\n",
       "      <td>4 or more times a week</td>\n",
       "      <td>Never</td>\n",
       "      <td>Never</td>\n",
       "      <td>Yes</td>\n",
       "      <td>0.51- 1 hour</td>\n",
       "      <td>No</td>\n",
       "      <td>No</td>\n",
       "      <td>Yes</td>\n",
       "      <td>Yes</td>\n",
       "      <td>Yes</td>\n",
       "    </tr>\n",
       "    <tr>\n",
       "      <th>18</th>\n",
       "      <td>28</td>\n",
       "      <td>Female</td>\n",
       "      <td>Michigan</td>\n",
       "      <td>Yes</td>\n",
       "      <td>2</td>\n",
       "      <td>Yes</td>\n",
       "      <td>Yes</td>\n",
       "      <td>7</td>\n",
       "      <td>7</td>\n",
       "      <td>No</td>\n",
       "      <td>Yes</td>\n",
       "      <td>No</td>\n",
       "      <td>No</td>\n",
       "      <td>Yes</td>\n",
       "      <td>I am drinking more alcohol</td>\n",
       "      <td>Once a month or less</td>\n",
       "      <td>2-4 times a month</td>\n",
       "      <td>Never</td>\n",
       "      <td>Never</td>\n",
       "      <td>Yes</td>\n",
       "      <td>1-2 hours</td>\n",
       "      <td>Yes</td>\n",
       "      <td>Yes</td>\n",
       "      <td>No</td>\n",
       "      <td>Yes</td>\n",
       "      <td>Yes</td>\n",
       "    </tr>\n",
       "    <tr>\n",
       "      <th>21</th>\n",
       "      <td>29</td>\n",
       "      <td>Female</td>\n",
       "      <td>Michigan</td>\n",
       "      <td>Yes</td>\n",
       "      <td>2</td>\n",
       "      <td>No</td>\n",
       "      <td>Not applicable</td>\n",
       "      <td>7</td>\n",
       "      <td>6</td>\n",
       "      <td>No</td>\n",
       "      <td>No</td>\n",
       "      <td>Yes</td>\n",
       "      <td>Yes</td>\n",
       "      <td>Yes</td>\n",
       "      <td>I am drinking more alcohol</td>\n",
       "      <td>Once a month or less</td>\n",
       "      <td>4 or more times a week</td>\n",
       "      <td>Never</td>\n",
       "      <td>Never</td>\n",
       "      <td>Yes</td>\n",
       "      <td>1-2 hours</td>\n",
       "      <td>Yes</td>\n",
       "      <td>Yes</td>\n",
       "      <td>Yes</td>\n",
       "      <td>Yes</td>\n",
       "      <td>No</td>\n",
       "    </tr>\n",
       "    <tr>\n",
       "      <th>...</th>\n",
       "      <td>...</td>\n",
       "      <td>...</td>\n",
       "      <td>...</td>\n",
       "      <td>...</td>\n",
       "      <td>...</td>\n",
       "      <td>...</td>\n",
       "      <td>...</td>\n",
       "      <td>...</td>\n",
       "      <td>...</td>\n",
       "      <td>...</td>\n",
       "      <td>...</td>\n",
       "      <td>...</td>\n",
       "      <td>...</td>\n",
       "      <td>...</td>\n",
       "      <td>...</td>\n",
       "      <td>...</td>\n",
       "      <td>...</td>\n",
       "      <td>...</td>\n",
       "      <td>...</td>\n",
       "      <td>...</td>\n",
       "      <td>...</td>\n",
       "      <td>...</td>\n",
       "      <td>...</td>\n",
       "      <td>...</td>\n",
       "      <td>...</td>\n",
       "      <td>...</td>\n",
       "    </tr>\n",
       "    <tr>\n",
       "      <th>894</th>\n",
       "      <td>29</td>\n",
       "      <td>Female</td>\n",
       "      <td>Georgia</td>\n",
       "      <td>Yes</td>\n",
       "      <td>Not applicable</td>\n",
       "      <td>Yes</td>\n",
       "      <td>Not applicable</td>\n",
       "      <td>8-Jun</td>\n",
       "      <td>8-Jun</td>\n",
       "      <td>No</td>\n",
       "      <td>No</td>\n",
       "      <td>Yes</td>\n",
       "      <td>No</td>\n",
       "      <td>Yes</td>\n",
       "      <td>I am drinking more alcohol</td>\n",
       "      <td>Once a month or less</td>\n",
       "      <td>2-4 times a month</td>\n",
       "      <td>Never</td>\n",
       "      <td>Never</td>\n",
       "      <td>Yes</td>\n",
       "      <td>2-3 hours</td>\n",
       "      <td>Yes</td>\n",
       "      <td>Yes</td>\n",
       "      <td>Yes</td>\n",
       "      <td>Yes</td>\n",
       "      <td>Yes</td>\n",
       "    </tr>\n",
       "    <tr>\n",
       "      <th>895</th>\n",
       "      <td>44</td>\n",
       "      <td>Male</td>\n",
       "      <td>Michigan</td>\n",
       "      <td>Yes</td>\n",
       "      <td>Yes</td>\n",
       "      <td>No</td>\n",
       "      <td>Yes</td>\n",
       "      <td>7</td>\n",
       "      <td>7.5</td>\n",
       "      <td>Yes</td>\n",
       "      <td>Yes</td>\n",
       "      <td>No</td>\n",
       "      <td>No</td>\n",
       "      <td>Yes</td>\n",
       "      <td>I am drinking more alcohol</td>\n",
       "      <td>2-3 times a week</td>\n",
       "      <td>2-3 times a week</td>\n",
       "      <td>Never</td>\n",
       "      <td>Never</td>\n",
       "      <td>No</td>\n",
       "      <td>0-.5 hour</td>\n",
       "      <td>No</td>\n",
       "      <td>Yes</td>\n",
       "      <td>No</td>\n",
       "      <td>Yes</td>\n",
       "      <td>No</td>\n",
       "    </tr>\n",
       "    <tr>\n",
       "      <th>896</th>\n",
       "      <td>47</td>\n",
       "      <td>Female</td>\n",
       "      <td>California</td>\n",
       "      <td>Yes</td>\n",
       "      <td>Yes</td>\n",
       "      <td>No</td>\n",
       "      <td>Yes</td>\n",
       "      <td>6</td>\n",
       "      <td>7</td>\n",
       "      <td>Yes</td>\n",
       "      <td>Yes</td>\n",
       "      <td>Yes</td>\n",
       "      <td>Yes</td>\n",
       "      <td>Yes</td>\n",
       "      <td>I am drinking more alcohol</td>\n",
       "      <td>2-4 times a month</td>\n",
       "      <td>2-3 times a week</td>\n",
       "      <td>Never</td>\n",
       "      <td>Never</td>\n",
       "      <td>Yes</td>\n",
       "      <td>3+ hours</td>\n",
       "      <td>Yes</td>\n",
       "      <td>Yes</td>\n",
       "      <td>Yes</td>\n",
       "      <td>Yes</td>\n",
       "      <td>Yes</td>\n",
       "    </tr>\n",
       "    <tr>\n",
       "      <th>897</th>\n",
       "      <td>58</td>\n",
       "      <td>Female</td>\n",
       "      <td>Michigan</td>\n",
       "      <td>No</td>\n",
       "      <td>No</td>\n",
       "      <td>No</td>\n",
       "      <td>No</td>\n",
       "      <td>9-Aug</td>\n",
       "      <td>10-Sep</td>\n",
       "      <td>Yes</td>\n",
       "      <td>Yes</td>\n",
       "      <td>Yes</td>\n",
       "      <td>No</td>\n",
       "      <td>Yes</td>\n",
       "      <td>I am drinking more alcohol</td>\n",
       "      <td>2-4 times a month</td>\n",
       "      <td>2-3 times a week</td>\n",
       "      <td>Never</td>\n",
       "      <td>Never</td>\n",
       "      <td>Yes</td>\n",
       "      <td>2-3 hours</td>\n",
       "      <td>Yes</td>\n",
       "      <td>Yes</td>\n",
       "      <td>Yes</td>\n",
       "      <td>Yes</td>\n",
       "      <td>Yes</td>\n",
       "    </tr>\n",
       "    <tr>\n",
       "      <th>908</th>\n",
       "      <td>66</td>\n",
       "      <td>Female</td>\n",
       "      <td>Michigan</td>\n",
       "      <td>No</td>\n",
       "      <td>No,Not applicable</td>\n",
       "      <td>No</td>\n",
       "      <td>No</td>\n",
       "      <td>8</td>\n",
       "      <td>8</td>\n",
       "      <td>No</td>\n",
       "      <td>Yes</td>\n",
       "      <td>No</td>\n",
       "      <td>No</td>\n",
       "      <td>Yes</td>\n",
       "      <td>I am drinking more alcohol</td>\n",
       "      <td>2-3 times a week</td>\n",
       "      <td>2-3 times a week</td>\n",
       "      <td>Never</td>\n",
       "      <td>2-4 times a month</td>\n",
       "      <td>Yes</td>\n",
       "      <td>1-2 hours</td>\n",
       "      <td>No</td>\n",
       "      <td>Yes</td>\n",
       "      <td>Yes</td>\n",
       "      <td>No</td>\n",
       "      <td>Yes</td>\n",
       "    </tr>\n",
       "  </tbody>\n",
       "</table>\n",
       "<p>273 rows × 26 columns</p>\n",
       "</div>"
      ],
      "text/plain": [
       "     Q1      Q2          Q3   Q8                 Q9  Q10             Q11  \\\n",
       "12   44  Female    Michigan  Yes                  1  Yes  Not applicable   \n",
       "13   31    Male        Iowa   No                  2   No  Not applicable   \n",
       "16   39  Female    Michigan  Yes                  2  Yes             Yes   \n",
       "18   28  Female    Michigan  Yes                  2  Yes             Yes   \n",
       "21   29  Female    Michigan  Yes                  2   No  Not applicable   \n",
       "..   ..     ...         ...  ...                ...  ...             ...   \n",
       "894  29  Female     Georgia  Yes     Not applicable  Yes  Not applicable   \n",
       "895  44    Male    Michigan  Yes                Yes   No             Yes   \n",
       "896  47  Female  California  Yes                Yes   No             Yes   \n",
       "897  58  Female    Michigan   No                 No   No              No   \n",
       "908  66  Female    Michigan   No  No,Not applicable   No              No   \n",
       "\n",
       "       Q12     Q13  Q14  Q15  Q16  Q17  Q18                        Q18a  \\\n",
       "12       8       9  Yes  Yes  Yes   No  Yes  I am drinking more alcohol   \n",
       "13       6     5.5  Yes   No   No   No  Yes  I am drinking more alcohol   \n",
       "16       7       7  Yes   No  Yes   No  Yes  I am drinking more alcohol   \n",
       "18       7       7   No  Yes   No   No  Yes  I am drinking more alcohol   \n",
       "21       7       6   No   No  Yes  Yes  Yes  I am drinking more alcohol   \n",
       "..     ...     ...  ...  ...  ...  ...  ...                         ...   \n",
       "894  8-Jun   8-Jun   No   No  Yes   No  Yes  I am drinking more alcohol   \n",
       "895      7     7.5  Yes  Yes   No   No  Yes  I am drinking more alcohol   \n",
       "896      6       7  Yes  Yes  Yes  Yes  Yes  I am drinking more alcohol   \n",
       "897  9-Aug  10-Sep  Yes  Yes  Yes   No  Yes  I am drinking more alcohol   \n",
       "908      8       8   No  Yes   No   No  Yes  I am drinking more alcohol   \n",
       "\n",
       "                      Q19                     Q20    Q21                Q22  \\\n",
       "12       2-3 times a week  4 or more times a week  Never              Never   \n",
       "13       2-3 times a week        2-3 times a week  Never              Never   \n",
       "16       2-3 times a week  4 or more times a week  Never              Never   \n",
       "18   Once a month or less       2-4 times a month  Never              Never   \n",
       "21   Once a month or less  4 or more times a week  Never              Never   \n",
       "..                    ...                     ...    ...                ...   \n",
       "894  Once a month or less       2-4 times a month  Never              Never   \n",
       "895      2-3 times a week        2-3 times a week  Never              Never   \n",
       "896     2-4 times a month        2-3 times a week  Never              Never   \n",
       "897     2-4 times a month        2-3 times a week  Never              Never   \n",
       "908      2-3 times a week        2-3 times a week  Never  2-4 times a month   \n",
       "\n",
       "     Q23           Q24  Q25  Q26  Q27  Q28  Q29  \n",
       "12    No     0-.5 hour  Yes  Yes  Yes  Yes  Yes  \n",
       "13   Yes     1-2 hours  Yes   No  Yes   No  Yes  \n",
       "16   Yes  0.51- 1 hour   No   No  Yes  Yes  Yes  \n",
       "18   Yes     1-2 hours  Yes  Yes   No  Yes  Yes  \n",
       "21   Yes     1-2 hours  Yes  Yes  Yes  Yes   No  \n",
       "..   ...           ...  ...  ...  ...  ...  ...  \n",
       "894  Yes     2-3 hours  Yes  Yes  Yes  Yes  Yes  \n",
       "895   No     0-.5 hour   No  Yes   No  Yes   No  \n",
       "896  Yes      3+ hours  Yes  Yes  Yes  Yes  Yes  \n",
       "897  Yes     2-3 hours  Yes  Yes  Yes  Yes  Yes  \n",
       "908  Yes     1-2 hours   No  Yes  Yes   No  Yes  \n",
       "\n",
       "[273 rows x 26 columns]"
      ]
     },
     "execution_count": 12,
     "metadata": {},
     "output_type": "execute_result"
    }
   ],
   "source": [
    "# Dropping the columns that contain more than \"thresh\" NaN\n",
    "df22=df2.dropna(thresh=250,axis=1)\n",
    "df22\n",
    "# Dropping the rows that contain more than \"thresh\" NaN\n",
    "df3=df22.dropna(thresh=26)\n",
    "df3\n",
    "#Dropping row 0\n",
    "df3=df3.drop(df3.index[0])\n",
    "df3"
   ]
  },
  {
   "cell_type": "code",
   "execution_count": 13,
   "metadata": {},
   "outputs": [
    {
     "data": {
      "text/plain": [
       "Index(['Q1', 'Q2', 'Q3', 'Q8', 'Q9', 'Q10', 'Q11', 'Q12', 'Q13', 'Q14', 'Q15',\n",
       "       'Q16', 'Q17', 'Q18', 'Q18a', 'Q19', 'Q20', 'Q21', 'Q22', 'Q23', 'Q24',\n",
       "       'Q25', 'Q26', 'Q27', 'Q28', 'Q29'],\n",
       "      dtype='object')"
      ]
     },
     "execution_count": 13,
     "metadata": {},
     "output_type": "execute_result"
    }
   ],
   "source": [
    "df3.columns"
   ]
  },
  {
   "cell_type": "code",
   "execution_count": 14,
   "metadata": {},
   "outputs": [
    {
     "data": {
      "text/plain": [
       "(273, 26)"
      ]
     },
     "execution_count": 14,
     "metadata": {},
     "output_type": "execute_result"
    }
   ],
   "source": [
    "df3.shape"
   ]
  },
  {
   "cell_type": "code",
   "execution_count": 15,
   "metadata": {
    "scrolled": true
   },
   "outputs": [
    {
     "data": {
      "text/plain": [
       "Q1      0\n",
       "Q2      0\n",
       "Q3      0\n",
       "Q8      0\n",
       "Q9      0\n",
       "Q10     0\n",
       "Q11     0\n",
       "Q12     0\n",
       "Q13     0\n",
       "Q14     0\n",
       "Q15     0\n",
       "Q16     0\n",
       "Q17     0\n",
       "Q18     0\n",
       "Q18a    0\n",
       "Q19     0\n",
       "Q20     0\n",
       "Q21     0\n",
       "Q22     0\n",
       "Q23     0\n",
       "Q24     0\n",
       "Q25     0\n",
       "Q26     0\n",
       "Q27     0\n",
       "Q28     0\n",
       "Q29     0\n",
       "dtype: int64"
      ]
     },
     "execution_count": 15,
     "metadata": {},
     "output_type": "execute_result"
    }
   ],
   "source": [
    "# missing values\n",
    "df3.isnull().sum()"
   ]
  },
  {
   "cell_type": "code",
   "execution_count": 16,
   "metadata": {},
   "outputs": [
    {
     "name": "stdout",
     "output_type": "stream",
     "text": [
      "0\n"
     ]
    }
   ],
   "source": [
    "#the total number of missing values \n",
    "print(df3.isnull().values.sum())"
   ]
  },
  {
   "cell_type": "code",
   "execution_count": 17,
   "metadata": {},
   "outputs": [
    {
     "data": {
      "text/plain": [
       "Index(['Q1', 'Q2', 'Q3', 'Q8', 'Q9', 'Q10', 'Q11', 'Q12', 'Q13', 'Q14', 'Q15',\n",
       "       'Q16', 'Q17', 'Q18', 'Q18a', 'Q19', 'Q20', 'Q21', 'Q22', 'Q23', 'Q24',\n",
       "       'Q25', 'Q26', 'Q27', 'Q28', 'Q29'],\n",
       "      dtype='object')"
      ]
     },
     "execution_count": 17,
     "metadata": {},
     "output_type": "execute_result"
    }
   ],
   "source": [
    "df3.columns"
   ]
  },
  {
   "cell_type": "markdown",
   "metadata": {},
   "source": [
    "# Nominal Features Encoding"
   ]
  },
  {
   "cell_type": "code",
   "execution_count": 18,
   "metadata": {},
   "outputs": [
    {
     "data": {
      "text/plain": [
       "array(['44', '31', '39', '28', '29', '32', '43', '59', '25', '42', '22',\n",
       "       '41', '58', '35', '30', '38', '21', '33', '67', '24', '45', '27',\n",
       "       '49', '48', '57', '53', '47', '34', '36', '52', '55', '66', '68',\n",
       "       '26', '37', '69', '40', '75', '70', '62', '23', '20', '50', '60',\n",
       "       '61', '46', '51', '81', '71', '63', '72', '54', '64', '56', '65'],\n",
       "      dtype=object)"
      ]
     },
     "execution_count": 18,
     "metadata": {},
     "output_type": "execute_result"
    }
   ],
   "source": [
    "df3['Q1'].unique()"
   ]
  },
  {
   "cell_type": "code",
   "execution_count": 19,
   "metadata": {},
   "outputs": [
    {
     "data": {
      "text/plain": [
       "array(['Female', 'Male', 'Prefer not to say'], dtype=object)"
      ]
     },
     "execution_count": 19,
     "metadata": {},
     "output_type": "execute_result"
    }
   ],
   "source": [
    "df3['Q2'].unique()"
   ]
  },
  {
   "cell_type": "code",
   "execution_count": 20,
   "metadata": {},
   "outputs": [
    {
     "data": {
      "text/plain": [
       "array(['Michigan', 'Iowa', 'Georgia', 'New York', 'Illinois',\n",
       "       'West Virginia', 'Utah', 'Pennsylvania', 'Maryland', 'Ohio',\n",
       "       'I do not reside in the United States', 'Minnesota', 'Colorado',\n",
       "       'Connecticut', 'Louisiana', 'Missouri', 'Florida', 'Puerto Rico',\n",
       "       'Virginia', 'Indiana', 'California', 'Washington', 'Kansas',\n",
       "       'Alabama', 'Massachusetts', 'North Carolina', 'Texas',\n",
       "       'South Carolina', 'Oregon'], dtype=object)"
      ]
     },
     "execution_count": 20,
     "metadata": {},
     "output_type": "execute_result"
    }
   ],
   "source": [
    "df3['Q3'].unique()"
   ]
  },
  {
   "cell_type": "code",
   "execution_count": 21,
   "metadata": {},
   "outputs": [
    {
     "data": {
      "text/plain": [
       "Index(['Q1', 'Q2', 'Q3', 'Q8', 'Q9', 'Q10', 'Q11', 'Q12', 'Q13', 'Q14', 'Q15',\n",
       "       'Q16', 'Q17', 'Q18', 'Q18a', 'Q19', 'Q20', 'Q21', 'Q22', 'Q23', 'Q24',\n",
       "       'Q25', 'Q26', 'Q27', 'Q28', 'Q29'],\n",
       "      dtype='object')"
      ]
     },
     "execution_count": 21,
     "metadata": {},
     "output_type": "execute_result"
    }
   ],
   "source": [
    "df3.columns"
   ]
  },
  {
   "cell_type": "code",
   "execution_count": 22,
   "metadata": {},
   "outputs": [
    {
     "data": {
      "text/plain": [
       "array(['Yes', 'No'], dtype=object)"
      ]
     },
     "execution_count": 22,
     "metadata": {},
     "output_type": "execute_result"
    }
   ],
   "source": [
    "df3['Q8'].unique()"
   ]
  },
  {
   "cell_type": "code",
   "execution_count": 23,
   "metadata": {},
   "outputs": [
    {
     "data": {
      "text/plain": [
       "array(['1', '2', 'Yes', 'Not applicable', 'No', 'No,Not applicable'],\n",
       "      dtype=object)"
      ]
     },
     "execution_count": 23,
     "metadata": {},
     "output_type": "execute_result"
    }
   ],
   "source": [
    "df3['Q9'].unique()"
   ]
  },
  {
   "cell_type": "code",
   "execution_count": 24,
   "metadata": {},
   "outputs": [
    {
     "data": {
      "text/plain": [
       "array(['Are you conducting clinical video visits with your patients from your home?',\n",
       "       nan, '2', '1', '1,2', 'Yes', 'Not applicable', 'No',\n",
       "       'No,Not applicable', 'Yes,Not applicable', 'Yes,No'], dtype=object)"
      ]
     },
     "execution_count": 24,
     "metadata": {},
     "output_type": "execute_result"
    }
   ],
   "source": [
    "df['Q9'].unique()"
   ]
  },
  {
   "cell_type": "code",
   "execution_count": 25,
   "metadata": {},
   "outputs": [
    {
     "data": {
      "text/plain": [
       "array(['Yes', 'No'], dtype=object)"
      ]
     },
     "execution_count": 25,
     "metadata": {},
     "output_type": "execute_result"
    }
   ],
   "source": [
    "df3['Q10'].unique()"
   ]
  },
  {
   "cell_type": "code",
   "execution_count": 26,
   "metadata": {},
   "outputs": [
    {
     "data": {
      "text/plain": [
       "array(['Not applicable', 'Yes', 'No'], dtype=object)"
      ]
     },
     "execution_count": 26,
     "metadata": {},
     "output_type": "execute_result"
    }
   ],
   "source": [
    "df3['Q11'].unique()"
   ]
  },
  {
   "cell_type": "code",
   "execution_count": 27,
   "metadata": {},
   "outputs": [
    {
     "data": {
      "text/plain": [
       "array(['Are children home from school in the house?', nan, '1', '2',\n",
       "       'Not applicable', 'Yes', 'No'], dtype=object)"
      ]
     },
     "execution_count": 27,
     "metadata": {},
     "output_type": "execute_result"
    }
   ],
   "source": [
    "df['Q11'].unique()"
   ]
  },
  {
   "cell_type": "code",
   "execution_count": 28,
   "metadata": {},
   "outputs": [
    {
     "data": {
      "text/plain": [
       "Index(['Q1', 'Q2', 'Q3', 'Q8', 'Q9', 'Q10', 'Q11', 'Q12', 'Q13', 'Q14', 'Q15',\n",
       "       'Q16', 'Q17', 'Q18', 'Q18a', 'Q19', 'Q20', 'Q21', 'Q22', 'Q23', 'Q24',\n",
       "       'Q25', 'Q26', 'Q27', 'Q28', 'Q29'],\n",
       "      dtype='object')"
      ]
     },
     "execution_count": 28,
     "metadata": {},
     "output_type": "execute_result"
    }
   ],
   "source": [
    "df3.columns"
   ]
  },
  {
   "cell_type": "code",
   "execution_count": 29,
   "metadata": {},
   "outputs": [
    {
     "data": {
      "text/plain": [
       "array(['Yes', 'No'], dtype=object)"
      ]
     },
     "execution_count": 29,
     "metadata": {},
     "output_type": "execute_result"
    }
   ],
   "source": [
    "df3['Q14'].unique()"
   ]
  },
  {
   "cell_type": "code",
   "execution_count": 30,
   "metadata": {},
   "outputs": [
    {
     "data": {
      "text/plain": [
       "array(['Has the number of your work hours per week changed?', nan, 'Yes',\n",
       "       'No'], dtype=object)"
      ]
     },
     "execution_count": 30,
     "metadata": {},
     "output_type": "execute_result"
    }
   ],
   "source": [
    "df['Q14'].unique()"
   ]
  },
  {
   "cell_type": "code",
   "execution_count": 31,
   "metadata": {},
   "outputs": [
    {
     "data": {
      "text/plain": [
       "array(['Yes', 'No'], dtype=object)"
      ]
     },
     "execution_count": 31,
     "metadata": {},
     "output_type": "execute_result"
    }
   ],
   "source": [
    "df3['Q15'].unique()"
   ]
  },
  {
   "cell_type": "code",
   "execution_count": 32,
   "metadata": {},
   "outputs": [
    {
     "data": {
      "text/plain": [
       "array(['Have you varied your work schedule?', nan, 'Yes', 'No'],\n",
       "      dtype=object)"
      ]
     },
     "execution_count": 32,
     "metadata": {},
     "output_type": "execute_result"
    }
   ],
   "source": [
    "df['Q15'].unique()"
   ]
  },
  {
   "cell_type": "code",
   "execution_count": 33,
   "metadata": {},
   "outputs": [
    {
     "data": {
      "text/plain": [
       "array(['Yes', 'No'], dtype=object)"
      ]
     },
     "execution_count": 33,
     "metadata": {},
     "output_type": "execute_result"
    }
   ],
   "source": [
    "df3['Q16'].unique()"
   ]
  },
  {
   "cell_type": "code",
   "execution_count": 34,
   "metadata": {},
   "outputs": [
    {
     "data": {
      "text/plain": [
       "array(['Have your sleep patterns changed?', 'Yes', 'No', nan],\n",
       "      dtype=object)"
      ]
     },
     "execution_count": 34,
     "metadata": {},
     "output_type": "execute_result"
    }
   ],
   "source": [
    "df['Q16'].unique()"
   ]
  },
  {
   "cell_type": "code",
   "execution_count": 35,
   "metadata": {},
   "outputs": [
    {
     "data": {
      "text/plain": [
       "array(['No', 'Yes'], dtype=object)"
      ]
     },
     "execution_count": 35,
     "metadata": {},
     "output_type": "execute_result"
    }
   ],
   "source": [
    "df3['Q17'].unique()"
   ]
  },
  {
   "cell_type": "code",
   "execution_count": 36,
   "metadata": {},
   "outputs": [
    {
     "data": {
      "text/plain": [
       "array(['Has the number of naps you are taking changed?', nan, 'No', 'Yes'],\n",
       "      dtype=object)"
      ]
     },
     "execution_count": 36,
     "metadata": {},
     "output_type": "execute_result"
    }
   ],
   "source": [
    "df['Q17'].unique()"
   ]
  },
  {
   "cell_type": "code",
   "execution_count": 37,
   "metadata": {},
   "outputs": [
    {
     "data": {
      "text/plain": [
       "array(['Yes'], dtype=object)"
      ]
     },
     "execution_count": 37,
     "metadata": {},
     "output_type": "execute_result"
    }
   ],
   "source": [
    "df3['Q18'].unique()"
   ]
  },
  {
   "cell_type": "code",
   "execution_count": 38,
   "metadata": {},
   "outputs": [
    {
     "data": {
      "text/plain": [
       "array(['Has the amount of alcohol you are consuming\\nchanged?', 'Yes',\n",
       "       'No', nan], dtype=object)"
      ]
     },
     "execution_count": 38,
     "metadata": {},
     "output_type": "execute_result"
    }
   ],
   "source": [
    "df['Q18'].unique()"
   ]
  },
  {
   "cell_type": "code",
   "execution_count": 39,
   "metadata": {},
   "outputs": [
    {
     "data": {
      "text/plain": [
       "array(['2-3 times a week', 'Once a month or less', 'Never',\n",
       "       '2-4 times a month', '4 or more times a week'], dtype=object)"
      ]
     },
     "execution_count": 39,
     "metadata": {},
     "output_type": "execute_result"
    }
   ],
   "source": [
    "df3['Q19'].unique()"
   ]
  },
  {
   "cell_type": "code",
   "execution_count": 40,
   "metadata": {},
   "outputs": [
    {
     "data": {
      "text/plain": [
       "array(['In January 2020, approximately how often did you have a drink containing alcohol?',\n",
       "       nan, '2-3 times a week', '2-4 times a month',\n",
       "       'Once a month or less', '4 or more times a week', 'Never'],\n",
       "      dtype=object)"
      ]
     },
     "execution_count": 40,
     "metadata": {},
     "output_type": "execute_result"
    }
   ],
   "source": [
    "df['Q19'].unique()"
   ]
  },
  {
   "cell_type": "code",
   "execution_count": 41,
   "metadata": {},
   "outputs": [
    {
     "data": {
      "text/plain": [
       "array(['No', 'Yes'], dtype=object)"
      ]
     },
     "execution_count": 41,
     "metadata": {},
     "output_type": "execute_result"
    }
   ],
   "source": [
    "df3['Q23'].unique()"
   ]
  },
  {
   "cell_type": "code",
   "execution_count": 42,
   "metadata": {},
   "outputs": [
    {
     "data": {
      "text/plain": [
       "array(['Has\\nthe amount of news you are consuming increased since the end of Feb, 2020?',\n",
       "       nan, 'No', 'Yes'], dtype=object)"
      ]
     },
     "execution_count": 42,
     "metadata": {},
     "output_type": "execute_result"
    }
   ],
   "source": [
    "df['Q23'].unique()"
   ]
  },
  {
   "cell_type": "code",
   "execution_count": 43,
   "metadata": {},
   "outputs": [
    {
     "data": {
      "text/plain": [
       "array(['Yes', 'No'], dtype=object)"
      ]
     },
     "execution_count": 43,
     "metadata": {},
     "output_type": "execute_result"
    }
   ],
   "source": [
    "df3['Q25'].unique()"
   ]
  },
  {
   "cell_type": "code",
   "execution_count": 44,
   "metadata": {},
   "outputs": [
    {
     "data": {
      "text/plain": [
       "array(['Have\\nyou had more \\x93screen time\\x94 (e.g. use of smartphone, tablet, etc.) around\\nbedtime?',\n",
       "       nan, 'No', 'Yes'], dtype=object)"
      ]
     },
     "execution_count": 44,
     "metadata": {},
     "output_type": "execute_result"
    }
   ],
   "source": [
    "df['Q25'].unique()"
   ]
  },
  {
   "cell_type": "code",
   "execution_count": 45,
   "metadata": {},
   "outputs": [
    {
     "data": {
      "text/plain": [
       "array(['Yes', 'No'], dtype=object)"
      ]
     },
     "execution_count": 45,
     "metadata": {},
     "output_type": "execute_result"
    }
   ],
   "source": [
    "df3['Q26'].unique()"
   ]
  },
  {
   "cell_type": "code",
   "execution_count": 46,
   "metadata": {},
   "outputs": [
    {
     "data": {
      "text/plain": [
       "array(['Have you changed your movement/exercise?', 'Yes', 'No', nan],\n",
       "      dtype=object)"
      ]
     },
     "execution_count": 46,
     "metadata": {},
     "output_type": "execute_result"
    }
   ],
   "source": [
    "df['Q26'].unique()"
   ]
  },
  {
   "cell_type": "code",
   "execution_count": 47,
   "metadata": {},
   "outputs": [
    {
     "data": {
      "text/plain": [
       "array(['Yes', 'No'], dtype=object)"
      ]
     },
     "execution_count": 47,
     "metadata": {},
     "output_type": "execute_result"
    }
   ],
   "source": [
    "df3['Q27'].unique()"
   ]
  },
  {
   "cell_type": "code",
   "execution_count": 48,
   "metadata": {},
   "outputs": [
    {
     "data": {
      "text/plain": [
       "array(['Has the quality of your diet changed?', 'Yes', 'No', nan],\n",
       "      dtype=object)"
      ]
     },
     "execution_count": 48,
     "metadata": {},
     "output_type": "execute_result"
    }
   ],
   "source": [
    "df['Q27'].unique()"
   ]
  },
  {
   "cell_type": "code",
   "execution_count": 49,
   "metadata": {},
   "outputs": [
    {
     "data": {
      "text/plain": [
       "array(['Yes', 'No'], dtype=object)"
      ]
     },
     "execution_count": 49,
     "metadata": {},
     "output_type": "execute_result"
    }
   ],
   "source": [
    "df3['Q28'].unique()"
   ]
  },
  {
   "cell_type": "code",
   "execution_count": 50,
   "metadata": {},
   "outputs": [
    {
     "data": {
      "text/plain": [
       "array(['Has the amount of food you have been eating per day changed?',\n",
       "       'Yes', 'No', nan], dtype=object)"
      ]
     },
     "execution_count": 50,
     "metadata": {},
     "output_type": "execute_result"
    }
   ],
   "source": [
    "df['Q28'].unique()"
   ]
  },
  {
   "cell_type": "code",
   "execution_count": 51,
   "metadata": {},
   "outputs": [
    {
     "data": {
      "text/plain": [
       "array(['Yes', 'No'], dtype=object)"
      ]
     },
     "execution_count": 51,
     "metadata": {},
     "output_type": "execute_result"
    }
   ],
   "source": [
    "df3['Q29'].unique()"
   ]
  },
  {
   "cell_type": "code",
   "execution_count": 52,
   "metadata": {},
   "outputs": [
    {
     "data": {
      "text/plain": [
       "array(['Has your mood changed?', 'Yes', 'No', nan], dtype=object)"
      ]
     },
     "execution_count": 52,
     "metadata": {},
     "output_type": "execute_result"
    }
   ],
   "source": [
    "df['Q29'].unique()"
   ]
  },
  {
   "cell_type": "markdown",
   "metadata": {},
   "source": [
    "# Ordinal Feature"
   ]
  },
  {
   "cell_type": "code",
   "execution_count": 53,
   "metadata": {},
   "outputs": [
    {
     "data": {
      "text/plain": [
       "array(['8', '6', '7', '7.75', '7:15', '6-May', '10', '1.5', '9', '8-Jul',\n",
       "       '7-Jun', '7.5', 'seven', '6.5', '5', '8.5', '10-Aug', '9-Aug',\n",
       "       '5.7', '9-Jul', '4', '7 hours', '7-7.5', '7.3', '8-Jun'],\n",
       "      dtype=object)"
      ]
     },
     "execution_count": 53,
     "metadata": {},
     "output_type": "execute_result"
    }
   ],
   "source": [
    "df3['Q12'].unique()"
   ]
  },
  {
   "cell_type": "code",
   "execution_count": 54,
   "metadata": {},
   "outputs": [
    {
     "data": {
      "text/plain": [
       "array(['9', '5.5', '7', '6', '8', '7:30', '7.5', '6-May', '5-Apr', '4',\n",
       "       '6.5', '5', '4.5', 'seven', '7-Jun', '8-May', '10', 'Na', '8.5',\n",
       "       '9.5', '10-May', '6 (but much more variability)', '6 to 7',\n",
       "       '8-Jul', '8-Jun', '10-Aug', '4.3', '7.45', '3', '7-7.5', '10-Sep'],\n",
       "      dtype=object)"
      ]
     },
     "execution_count": 54,
     "metadata": {},
     "output_type": "execute_result"
    }
   ],
   "source": [
    "df3['Q13'].unique()"
   ]
  },
  {
   "cell_type": "code",
   "execution_count": 55,
   "metadata": {},
   "outputs": [
    {
     "data": {
      "text/plain": [
       "array(['2-3 times a week', 'Once a month or less', 'Never',\n",
       "       '2-4 times a month', '4 or more times a week'], dtype=object)"
      ]
     },
     "execution_count": 55,
     "metadata": {},
     "output_type": "execute_result"
    }
   ],
   "source": [
    "df3['Q19'].unique()"
   ]
  },
  {
   "cell_type": "code",
   "execution_count": 56,
   "metadata": {},
   "outputs": [
    {
     "data": {
      "text/plain": [
       "array(['4 or more times a week', '2-3 times a week', '2-4 times a month',\n",
       "       'Never', 'Once a month or less'], dtype=object)"
      ]
     },
     "execution_count": 56,
     "metadata": {},
     "output_type": "execute_result"
    }
   ],
   "source": [
    "df3['Q20'].unique()"
   ]
  },
  {
   "cell_type": "code",
   "execution_count": 57,
   "metadata": {},
   "outputs": [
    {
     "data": {
      "text/plain": [
       "array(['Never', '2-3 times a week', 'Once a month or less',\n",
       "       '2-4 times a month', '4 or more times a week'], dtype=object)"
      ]
     },
     "execution_count": 57,
     "metadata": {},
     "output_type": "execute_result"
    }
   ],
   "source": [
    "df3['Q21'].unique()"
   ]
  },
  {
   "cell_type": "code",
   "execution_count": 58,
   "metadata": {},
   "outputs": [
    {
     "data": {
      "text/plain": [
       "array(['Never', '2-3 times a week', 'Once a month or less',\n",
       "       '2-4 times a month', '4 or more times a week'], dtype=object)"
      ]
     },
     "execution_count": 58,
     "metadata": {},
     "output_type": "execute_result"
    }
   ],
   "source": [
    "df3['Q22'].unique()"
   ]
  },
  {
   "cell_type": "code",
   "execution_count": 59,
   "metadata": {},
   "outputs": [
    {
     "data": {
      "text/plain": [
       "array(['0-.5 hour', '1-2 hours', '0.51- 1 hour', '2-3 hours', '3+ hours'],\n",
       "      dtype=object)"
      ]
     },
     "execution_count": 59,
     "metadata": {},
     "output_type": "execute_result"
    }
   ],
   "source": [
    "df3['Q24'].unique()"
   ]
  },
  {
   "cell_type": "code",
   "execution_count": 60,
   "metadata": {
    "scrolled": true
   },
   "outputs": [
    {
     "data": {
      "text/html": [
       "<div>\n",
       "<style scoped>\n",
       "    .dataframe tbody tr th:only-of-type {\n",
       "        vertical-align: middle;\n",
       "    }\n",
       "\n",
       "    .dataframe tbody tr th {\n",
       "        vertical-align: top;\n",
       "    }\n",
       "\n",
       "    .dataframe thead th {\n",
       "        text-align: right;\n",
       "    }\n",
       "</style>\n",
       "<table border=\"1\" class=\"dataframe\">\n",
       "  <thead>\n",
       "    <tr style=\"text-align: right;\">\n",
       "      <th></th>\n",
       "      <th>Q1</th>\n",
       "      <th>Q2</th>\n",
       "      <th>Q3</th>\n",
       "      <th>Q8</th>\n",
       "      <th>Q9</th>\n",
       "      <th>Q10</th>\n",
       "      <th>Q11</th>\n",
       "      <th>Q12</th>\n",
       "      <th>Q13</th>\n",
       "      <th>Q14</th>\n",
       "      <th>Q15</th>\n",
       "      <th>Q16</th>\n",
       "      <th>Q17</th>\n",
       "      <th>Q18</th>\n",
       "      <th>Q18a</th>\n",
       "      <th>Q19</th>\n",
       "      <th>Q20</th>\n",
       "      <th>Q21</th>\n",
       "      <th>Q22</th>\n",
       "      <th>Q23</th>\n",
       "      <th>Q24</th>\n",
       "      <th>Q25</th>\n",
       "      <th>Q26</th>\n",
       "      <th>Q27</th>\n",
       "      <th>Q28</th>\n",
       "      <th>Q29</th>\n",
       "    </tr>\n",
       "  </thead>\n",
       "  <tbody>\n",
       "    <tr>\n",
       "      <th>12</th>\n",
       "      <td>44</td>\n",
       "      <td>Female</td>\n",
       "      <td>Michigan</td>\n",
       "      <td>Yes</td>\n",
       "      <td>1</td>\n",
       "      <td>Yes</td>\n",
       "      <td>Not applicable</td>\n",
       "      <td>8</td>\n",
       "      <td>9</td>\n",
       "      <td>Yes</td>\n",
       "      <td>Yes</td>\n",
       "      <td>Yes</td>\n",
       "      <td>No</td>\n",
       "      <td>Yes</td>\n",
       "      <td>I am drinking more alcohol</td>\n",
       "      <td>2-3 times a week</td>\n",
       "      <td>4 or more times a week</td>\n",
       "      <td>Never</td>\n",
       "      <td>Never</td>\n",
       "      <td>No</td>\n",
       "      <td>0-.5 hour</td>\n",
       "      <td>Yes</td>\n",
       "      <td>Yes</td>\n",
       "      <td>Yes</td>\n",
       "      <td>Yes</td>\n",
       "      <td>Yes</td>\n",
       "    </tr>\n",
       "    <tr>\n",
       "      <th>13</th>\n",
       "      <td>31</td>\n",
       "      <td>Male</td>\n",
       "      <td>Iowa</td>\n",
       "      <td>No</td>\n",
       "      <td>2</td>\n",
       "      <td>No</td>\n",
       "      <td>Not applicable</td>\n",
       "      <td>6</td>\n",
       "      <td>5.5</td>\n",
       "      <td>Yes</td>\n",
       "      <td>No</td>\n",
       "      <td>No</td>\n",
       "      <td>No</td>\n",
       "      <td>Yes</td>\n",
       "      <td>I am drinking more alcohol</td>\n",
       "      <td>2-3 times a week</td>\n",
       "      <td>2-3 times a week</td>\n",
       "      <td>Never</td>\n",
       "      <td>Never</td>\n",
       "      <td>Yes</td>\n",
       "      <td>1-2 hours</td>\n",
       "      <td>Yes</td>\n",
       "      <td>No</td>\n",
       "      <td>Yes</td>\n",
       "      <td>No</td>\n",
       "      <td>Yes</td>\n",
       "    </tr>\n",
       "    <tr>\n",
       "      <th>16</th>\n",
       "      <td>39</td>\n",
       "      <td>Female</td>\n",
       "      <td>Michigan</td>\n",
       "      <td>Yes</td>\n",
       "      <td>2</td>\n",
       "      <td>Yes</td>\n",
       "      <td>Yes</td>\n",
       "      <td>7</td>\n",
       "      <td>7</td>\n",
       "      <td>Yes</td>\n",
       "      <td>No</td>\n",
       "      <td>Yes</td>\n",
       "      <td>No</td>\n",
       "      <td>Yes</td>\n",
       "      <td>I am drinking more alcohol</td>\n",
       "      <td>2-3 times a week</td>\n",
       "      <td>4 or more times a week</td>\n",
       "      <td>Never</td>\n",
       "      <td>Never</td>\n",
       "      <td>Yes</td>\n",
       "      <td>0.51- 1 hour</td>\n",
       "      <td>No</td>\n",
       "      <td>No</td>\n",
       "      <td>Yes</td>\n",
       "      <td>Yes</td>\n",
       "      <td>Yes</td>\n",
       "    </tr>\n",
       "    <tr>\n",
       "      <th>18</th>\n",
       "      <td>28</td>\n",
       "      <td>Female</td>\n",
       "      <td>Michigan</td>\n",
       "      <td>Yes</td>\n",
       "      <td>2</td>\n",
       "      <td>Yes</td>\n",
       "      <td>Yes</td>\n",
       "      <td>7</td>\n",
       "      <td>7</td>\n",
       "      <td>No</td>\n",
       "      <td>Yes</td>\n",
       "      <td>No</td>\n",
       "      <td>No</td>\n",
       "      <td>Yes</td>\n",
       "      <td>I am drinking more alcohol</td>\n",
       "      <td>Once a month or less</td>\n",
       "      <td>2-4 times a month</td>\n",
       "      <td>Never</td>\n",
       "      <td>Never</td>\n",
       "      <td>Yes</td>\n",
       "      <td>1-2 hours</td>\n",
       "      <td>Yes</td>\n",
       "      <td>Yes</td>\n",
       "      <td>No</td>\n",
       "      <td>Yes</td>\n",
       "      <td>Yes</td>\n",
       "    </tr>\n",
       "    <tr>\n",
       "      <th>21</th>\n",
       "      <td>29</td>\n",
       "      <td>Female</td>\n",
       "      <td>Michigan</td>\n",
       "      <td>Yes</td>\n",
       "      <td>2</td>\n",
       "      <td>No</td>\n",
       "      <td>Not applicable</td>\n",
       "      <td>7</td>\n",
       "      <td>6</td>\n",
       "      <td>No</td>\n",
       "      <td>No</td>\n",
       "      <td>Yes</td>\n",
       "      <td>Yes</td>\n",
       "      <td>Yes</td>\n",
       "      <td>I am drinking more alcohol</td>\n",
       "      <td>Once a month or less</td>\n",
       "      <td>4 or more times a week</td>\n",
       "      <td>Never</td>\n",
       "      <td>Never</td>\n",
       "      <td>Yes</td>\n",
       "      <td>1-2 hours</td>\n",
       "      <td>Yes</td>\n",
       "      <td>Yes</td>\n",
       "      <td>Yes</td>\n",
       "      <td>Yes</td>\n",
       "      <td>No</td>\n",
       "    </tr>\n",
       "    <tr>\n",
       "      <th>...</th>\n",
       "      <td>...</td>\n",
       "      <td>...</td>\n",
       "      <td>...</td>\n",
       "      <td>...</td>\n",
       "      <td>...</td>\n",
       "      <td>...</td>\n",
       "      <td>...</td>\n",
       "      <td>...</td>\n",
       "      <td>...</td>\n",
       "      <td>...</td>\n",
       "      <td>...</td>\n",
       "      <td>...</td>\n",
       "      <td>...</td>\n",
       "      <td>...</td>\n",
       "      <td>...</td>\n",
       "      <td>...</td>\n",
       "      <td>...</td>\n",
       "      <td>...</td>\n",
       "      <td>...</td>\n",
       "      <td>...</td>\n",
       "      <td>...</td>\n",
       "      <td>...</td>\n",
       "      <td>...</td>\n",
       "      <td>...</td>\n",
       "      <td>...</td>\n",
       "      <td>...</td>\n",
       "    </tr>\n",
       "    <tr>\n",
       "      <th>894</th>\n",
       "      <td>29</td>\n",
       "      <td>Female</td>\n",
       "      <td>Georgia</td>\n",
       "      <td>Yes</td>\n",
       "      <td>Not applicable</td>\n",
       "      <td>Yes</td>\n",
       "      <td>Not applicable</td>\n",
       "      <td>8-Jun</td>\n",
       "      <td>8-Jun</td>\n",
       "      <td>No</td>\n",
       "      <td>No</td>\n",
       "      <td>Yes</td>\n",
       "      <td>No</td>\n",
       "      <td>Yes</td>\n",
       "      <td>I am drinking more alcohol</td>\n",
       "      <td>Once a month or less</td>\n",
       "      <td>2-4 times a month</td>\n",
       "      <td>Never</td>\n",
       "      <td>Never</td>\n",
       "      <td>Yes</td>\n",
       "      <td>2-3 hours</td>\n",
       "      <td>Yes</td>\n",
       "      <td>Yes</td>\n",
       "      <td>Yes</td>\n",
       "      <td>Yes</td>\n",
       "      <td>Yes</td>\n",
       "    </tr>\n",
       "    <tr>\n",
       "      <th>895</th>\n",
       "      <td>44</td>\n",
       "      <td>Male</td>\n",
       "      <td>Michigan</td>\n",
       "      <td>Yes</td>\n",
       "      <td>Yes</td>\n",
       "      <td>No</td>\n",
       "      <td>Yes</td>\n",
       "      <td>7</td>\n",
       "      <td>7.5</td>\n",
       "      <td>Yes</td>\n",
       "      <td>Yes</td>\n",
       "      <td>No</td>\n",
       "      <td>No</td>\n",
       "      <td>Yes</td>\n",
       "      <td>I am drinking more alcohol</td>\n",
       "      <td>2-3 times a week</td>\n",
       "      <td>2-3 times a week</td>\n",
       "      <td>Never</td>\n",
       "      <td>Never</td>\n",
       "      <td>No</td>\n",
       "      <td>0-.5 hour</td>\n",
       "      <td>No</td>\n",
       "      <td>Yes</td>\n",
       "      <td>No</td>\n",
       "      <td>Yes</td>\n",
       "      <td>No</td>\n",
       "    </tr>\n",
       "    <tr>\n",
       "      <th>896</th>\n",
       "      <td>47</td>\n",
       "      <td>Female</td>\n",
       "      <td>California</td>\n",
       "      <td>Yes</td>\n",
       "      <td>Yes</td>\n",
       "      <td>No</td>\n",
       "      <td>Yes</td>\n",
       "      <td>6</td>\n",
       "      <td>7</td>\n",
       "      <td>Yes</td>\n",
       "      <td>Yes</td>\n",
       "      <td>Yes</td>\n",
       "      <td>Yes</td>\n",
       "      <td>Yes</td>\n",
       "      <td>I am drinking more alcohol</td>\n",
       "      <td>2-4 times a month</td>\n",
       "      <td>2-3 times a week</td>\n",
       "      <td>Never</td>\n",
       "      <td>Never</td>\n",
       "      <td>Yes</td>\n",
       "      <td>3+ hours</td>\n",
       "      <td>Yes</td>\n",
       "      <td>Yes</td>\n",
       "      <td>Yes</td>\n",
       "      <td>Yes</td>\n",
       "      <td>Yes</td>\n",
       "    </tr>\n",
       "    <tr>\n",
       "      <th>897</th>\n",
       "      <td>58</td>\n",
       "      <td>Female</td>\n",
       "      <td>Michigan</td>\n",
       "      <td>No</td>\n",
       "      <td>No</td>\n",
       "      <td>No</td>\n",
       "      <td>No</td>\n",
       "      <td>9-Aug</td>\n",
       "      <td>10-Sep</td>\n",
       "      <td>Yes</td>\n",
       "      <td>Yes</td>\n",
       "      <td>Yes</td>\n",
       "      <td>No</td>\n",
       "      <td>Yes</td>\n",
       "      <td>I am drinking more alcohol</td>\n",
       "      <td>2-4 times a month</td>\n",
       "      <td>2-3 times a week</td>\n",
       "      <td>Never</td>\n",
       "      <td>Never</td>\n",
       "      <td>Yes</td>\n",
       "      <td>2-3 hours</td>\n",
       "      <td>Yes</td>\n",
       "      <td>Yes</td>\n",
       "      <td>Yes</td>\n",
       "      <td>Yes</td>\n",
       "      <td>Yes</td>\n",
       "    </tr>\n",
       "    <tr>\n",
       "      <th>908</th>\n",
       "      <td>66</td>\n",
       "      <td>Female</td>\n",
       "      <td>Michigan</td>\n",
       "      <td>No</td>\n",
       "      <td>No,Not applicable</td>\n",
       "      <td>No</td>\n",
       "      <td>No</td>\n",
       "      <td>8</td>\n",
       "      <td>8</td>\n",
       "      <td>No</td>\n",
       "      <td>Yes</td>\n",
       "      <td>No</td>\n",
       "      <td>No</td>\n",
       "      <td>Yes</td>\n",
       "      <td>I am drinking more alcohol</td>\n",
       "      <td>2-3 times a week</td>\n",
       "      <td>2-3 times a week</td>\n",
       "      <td>Never</td>\n",
       "      <td>2-4 times a month</td>\n",
       "      <td>Yes</td>\n",
       "      <td>1-2 hours</td>\n",
       "      <td>No</td>\n",
       "      <td>Yes</td>\n",
       "      <td>Yes</td>\n",
       "      <td>No</td>\n",
       "      <td>Yes</td>\n",
       "    </tr>\n",
       "  </tbody>\n",
       "</table>\n",
       "<p>273 rows × 26 columns</p>\n",
       "</div>"
      ],
      "text/plain": [
       "     Q1      Q2          Q3   Q8                 Q9  Q10             Q11  \\\n",
       "12   44  Female    Michigan  Yes                  1  Yes  Not applicable   \n",
       "13   31    Male        Iowa   No                  2   No  Not applicable   \n",
       "16   39  Female    Michigan  Yes                  2  Yes             Yes   \n",
       "18   28  Female    Michigan  Yes                  2  Yes             Yes   \n",
       "21   29  Female    Michigan  Yes                  2   No  Not applicable   \n",
       "..   ..     ...         ...  ...                ...  ...             ...   \n",
       "894  29  Female     Georgia  Yes     Not applicable  Yes  Not applicable   \n",
       "895  44    Male    Michigan  Yes                Yes   No             Yes   \n",
       "896  47  Female  California  Yes                Yes   No             Yes   \n",
       "897  58  Female    Michigan   No                 No   No              No   \n",
       "908  66  Female    Michigan   No  No,Not applicable   No              No   \n",
       "\n",
       "       Q12     Q13  Q14  Q15  Q16  Q17  Q18                        Q18a  \\\n",
       "12       8       9  Yes  Yes  Yes   No  Yes  I am drinking more alcohol   \n",
       "13       6     5.5  Yes   No   No   No  Yes  I am drinking more alcohol   \n",
       "16       7       7  Yes   No  Yes   No  Yes  I am drinking more alcohol   \n",
       "18       7       7   No  Yes   No   No  Yes  I am drinking more alcohol   \n",
       "21       7       6   No   No  Yes  Yes  Yes  I am drinking more alcohol   \n",
       "..     ...     ...  ...  ...  ...  ...  ...                         ...   \n",
       "894  8-Jun   8-Jun   No   No  Yes   No  Yes  I am drinking more alcohol   \n",
       "895      7     7.5  Yes  Yes   No   No  Yes  I am drinking more alcohol   \n",
       "896      6       7  Yes  Yes  Yes  Yes  Yes  I am drinking more alcohol   \n",
       "897  9-Aug  10-Sep  Yes  Yes  Yes   No  Yes  I am drinking more alcohol   \n",
       "908      8       8   No  Yes   No   No  Yes  I am drinking more alcohol   \n",
       "\n",
       "                      Q19                     Q20    Q21                Q22  \\\n",
       "12       2-3 times a week  4 or more times a week  Never              Never   \n",
       "13       2-3 times a week        2-3 times a week  Never              Never   \n",
       "16       2-3 times a week  4 or more times a week  Never              Never   \n",
       "18   Once a month or less       2-4 times a month  Never              Never   \n",
       "21   Once a month or less  4 or more times a week  Never              Never   \n",
       "..                    ...                     ...    ...                ...   \n",
       "894  Once a month or less       2-4 times a month  Never              Never   \n",
       "895      2-3 times a week        2-3 times a week  Never              Never   \n",
       "896     2-4 times a month        2-3 times a week  Never              Never   \n",
       "897     2-4 times a month        2-3 times a week  Never              Never   \n",
       "908      2-3 times a week        2-3 times a week  Never  2-4 times a month   \n",
       "\n",
       "     Q23           Q24  Q25  Q26  Q27  Q28  Q29  \n",
       "12    No     0-.5 hour  Yes  Yes  Yes  Yes  Yes  \n",
       "13   Yes     1-2 hours  Yes   No  Yes   No  Yes  \n",
       "16   Yes  0.51- 1 hour   No   No  Yes  Yes  Yes  \n",
       "18   Yes     1-2 hours  Yes  Yes   No  Yes  Yes  \n",
       "21   Yes     1-2 hours  Yes  Yes  Yes  Yes   No  \n",
       "..   ...           ...  ...  ...  ...  ...  ...  \n",
       "894  Yes     2-3 hours  Yes  Yes  Yes  Yes  Yes  \n",
       "895   No     0-.5 hour   No  Yes   No  Yes   No  \n",
       "896  Yes      3+ hours  Yes  Yes  Yes  Yes  Yes  \n",
       "897  Yes     2-3 hours  Yes  Yes  Yes  Yes  Yes  \n",
       "908  Yes     1-2 hours   No  Yes  Yes   No  Yes  \n",
       "\n",
       "[273 rows x 26 columns]"
      ]
     },
     "execution_count": 60,
     "metadata": {},
     "output_type": "execute_result"
    }
   ],
   "source": [
    "df3"
   ]
  },
  {
   "cell_type": "code",
   "execution_count": 61,
   "metadata": {},
   "outputs": [],
   "source": [
    "# create excel writer object\n",
    "writer = pd.ExcelWriter('output.xlsx')\n",
    "# write dataframe to excel\n",
    "df3.to_excel(writer)\n",
    "# save the excel\n",
    "writer.save()\n"
   ]
  },
  {
   "cell_type": "code",
   "execution_count": 62,
   "metadata": {},
   "outputs": [
    {
     "data": {
      "text/plain": [
       "Text(0.5, 0, 'Count')"
      ]
     },
     "execution_count": 62,
     "metadata": {},
     "output_type": "execute_result"
    },
    {
     "data": {
      "image/png": "[encoded data removed]",
      "text/plain": [
       "<Figure size 576x576 with 1 Axes>"
      ]
     },
     "metadata": {
      "needs_background": "light"
     },
     "output_type": "display_data"
    }
   ],
   "source": [
    "df3['Q1'].value_counts()[:50].plot(kind='barh', figsize=(8, 8), color='#86bf91', zorder=2, width=0.55)\n",
    "plt.xlabel('Count')\n"
   ]
  },
  {
   "cell_type": "code",
   "execution_count": 63,
   "metadata": {},
   "outputs": [
    {
     "data": {
      "text/plain": [
       "0      What is your gender?\n",
       "1                       NaN\n",
       "2                       NaN\n",
       "3                       NaN\n",
       "4                       NaN\n",
       "               ...         \n",
       "910                    Male\n",
       "911                  Female\n",
       "912                  Female\n",
       "913                  Female\n",
       "914                  Female\n",
       "Name: Q2, Length: 915, dtype: object"
      ]
     },
     "execution_count": 63,
     "metadata": {},
     "output_type": "execute_result"
    }
   ],
   "source": [
    "df['Q2']"
   ]
  },
  {
   "cell_type": "code",
   "execution_count": 64,
   "metadata": {},
   "outputs": [
    {
     "data": {
      "text/plain": [
       "Text(0.5, 0, 'Count')"
      ]
     },
     "execution_count": 64,
     "metadata": {},
     "output_type": "execute_result"
    },
    {
     "data": {
      "image/png": "[encoded data removed]",
      "text/plain": [
       "<Figure size 576x576 with 1 Axes>"
      ]
     },
     "metadata": {
      "needs_background": "light"
     },
     "output_type": "display_data"
    }
   ],
   "source": [
    "df3['Q2'].value_counts()[:2].plot(kind='barh', figsize=(8, 8), color='#86bf91', zorder=2, width=0.55)\n",
    "plt.xlabel('Count')\n"
   ]
  },
  {
   "cell_type": "code",
   "execution_count": null,
   "metadata": {},
   "outputs": [],
   "source": []
  },
  {
   "cell_type": "code",
   "execution_count": 65,
   "metadata": {},
   "outputs": [
    {
     "data": {
      "text/plain": [
       "0      50 States, D.C. and Puerto Rico\n",
       "1                                  NaN\n",
       "2                                  NaN\n",
       "3                                  NaN\n",
       "4                                  NaN\n",
       "                    ...               \n",
       "910                            Florida\n",
       "911                           Michigan\n",
       "912                           Michigan\n",
       "913                          Wisconsin\n",
       "914                           Michigan\n",
       "Name: Q3, Length: 915, dtype: object"
      ]
     },
     "execution_count": 65,
     "metadata": {},
     "output_type": "execute_result"
    }
   ],
   "source": [
    "df['Q3']"
   ]
  },
  {
   "cell_type": "code",
   "execution_count": 66,
   "metadata": {},
   "outputs": [
    {
     "data": {
      "text/plain": [
       "Text(0.5, 0, 'Count')"
      ]
     },
     "execution_count": 66,
     "metadata": {},
     "output_type": "execute_result"
    },
    {
     "data": {
      "image/png": "[encoded data removed]",
      "text/plain": [
       "<Figure size 576x576 with 1 Axes>"
      ]
     },
     "metadata": {
      "needs_background": "light"
     },
     "output_type": "display_data"
    }
   ],
   "source": [
    "df3['Q3'].value_counts()[:20].plot(kind='barh', figsize=(8, 8), color='#86bf91', zorder=2, width=0.55)\n",
    "plt.xlabel('Count')\n"
   ]
  },
  {
   "cell_type": "code",
   "execution_count": 67,
   "metadata": {},
   "outputs": [
    {
     "data": {
      "text/plain": [
       "0      Are you currently conducting your job mostly f...\n",
       "1                                                    NaN\n",
       "2                                                     No\n",
       "3                                                    Yes\n",
       "4                                                    NaN\n",
       "                             ...                        \n",
       "910                                                   No\n",
       "911                                                  Yes\n",
       "912                                                   No\n",
       "913                                                   No\n",
       "914                                                   No\n",
       "Name: Q8, Length: 915, dtype: object"
      ]
     },
     "execution_count": 67,
     "metadata": {},
     "output_type": "execute_result"
    }
   ],
   "source": [
    "df['Q8']"
   ]
  },
  {
   "cell_type": "code",
   "execution_count": 68,
   "metadata": {},
   "outputs": [
    {
     "data": {
      "text/plain": [
       "Text(0.5, 0, 'Count')"
      ]
     },
     "execution_count": 68,
     "metadata": {},
     "output_type": "execute_result"
    },
    {
     "data": {
      "image/png": "[encoded data removed]",
      "text/plain": [
       "<Figure size 576x576 with 1 Axes>"
      ]
     },
     "metadata": {
      "needs_background": "light"
     },
     "output_type": "display_data"
    }
   ],
   "source": [
    "df3['Q8'].value_counts()[:20].plot(kind='barh', figsize=(8, 8), color='#86bf91', zorder=2, width=0.55)\n",
    "plt.xlabel('Count')\n"
   ]
  },
  {
   "cell_type": "code",
   "execution_count": 69,
   "metadata": {},
   "outputs": [
    {
     "data": {
      "text/plain": [
       "0      Are you conducting clinical video visits with ...\n",
       "1                                                    NaN\n",
       "2                                                      2\n",
       "3                                                      1\n",
       "4                                                    NaN\n",
       "                             ...                        \n",
       "910                                       Not applicable\n",
       "911                                       Not applicable\n",
       "912                                    No,Not applicable\n",
       "913                                                   No\n",
       "914                                       Not applicable\n",
       "Name: Q9, Length: 915, dtype: object"
      ]
     },
     "execution_count": 69,
     "metadata": {},
     "output_type": "execute_result"
    }
   ],
   "source": [
    "df['Q9']"
   ]
  },
  {
   "cell_type": "code",
   "execution_count": 70,
   "metadata": {},
   "outputs": [
    {
     "data": {
      "text/plain": [
       "Text(0.5, 0, 'Count')"
      ]
     },
     "execution_count": 70,
     "metadata": {},
     "output_type": "execute_result"
    },
    {
     "data": {
      "image/png": "[encoded data removed]",
      "text/plain": [
       "<Figure size 576x576 with 1 Axes>"
      ]
     },
     "metadata": {
      "needs_background": "light"
     },
     "output_type": "display_data"
    }
   ],
   "source": [
    "df3['Q9'].value_counts()[:20].plot(kind='barh', figsize=(8, 8), color='#86bf91', zorder=2, width=0.55)\n",
    "plt.xlabel('Count')\n"
   ]
  },
  {
   "cell_type": "code",
   "execution_count": 71,
   "metadata": {},
   "outputs": [
    {
     "data": {
      "text/plain": [
       "0      Does\\nyour work require you to follow a fixed ...\n",
       "1                                                    NaN\n",
       "2                                                     No\n",
       "3                                                     No\n",
       "4                                                    NaN\n",
       "                             ...                        \n",
       "910                                                   No\n",
       "911                                                  Yes\n",
       "912                                                  NaN\n",
       "913                                                  NaN\n",
       "914                                                   No\n",
       "Name: Q10, Length: 915, dtype: object"
      ]
     },
     "execution_count": 71,
     "metadata": {},
     "output_type": "execute_result"
    }
   ],
   "source": [
    "df['Q10']"
   ]
  },
  {
   "cell_type": "code",
   "execution_count": 72,
   "metadata": {},
   "outputs": [
    {
     "data": {
      "text/plain": [
       "Text(0.5, 0, 'Count')"
      ]
     },
     "execution_count": 72,
     "metadata": {},
     "output_type": "execute_result"
    },
    {
     "data": {
      "image/png": "[encoded data removed]",
      "text/plain": [
       "<Figure size 576x576 with 1 Axes>"
      ]
     },
     "metadata": {
      "needs_background": "light"
     },
     "output_type": "display_data"
    }
   ],
   "source": [
    "df3['Q10'].value_counts()[:20].plot(kind='barh', figsize=(8, 8), color='#86bf91', zorder=2, width=0.55)\n",
    "plt.xlabel('Count')\n"
   ]
  },
  {
   "cell_type": "code",
   "execution_count": 73,
   "metadata": {},
   "outputs": [
    {
     "data": {
      "text/plain": [
       "0      Are children home from school in the house?\n",
       "1                                              NaN\n",
       "2                                                1\n",
       "3                                                1\n",
       "4                                              NaN\n",
       "                          ...                     \n",
       "910                                 Not applicable\n",
       "911                                             No\n",
       "912                                            NaN\n",
       "913                                            NaN\n",
       "914                                            Yes\n",
       "Name: Q11, Length: 915, dtype: object"
      ]
     },
     "execution_count": 73,
     "metadata": {},
     "output_type": "execute_result"
    }
   ],
   "source": [
    "df['Q11']"
   ]
  },
  {
   "cell_type": "code",
   "execution_count": 74,
   "metadata": {},
   "outputs": [
    {
     "data": {
      "text/plain": [
       "Text(0.5, 0, 'Count')"
      ]
     },
     "execution_count": 74,
     "metadata": {},
     "output_type": "execute_result"
    },
    {
     "data": {
      "image/png": "[encoded data removed]",
      "text/plain": [
       "<Figure size 576x576 with 1 Axes>"
      ]
     },
     "metadata": {
      "needs_background": "light"
     },
     "output_type": "display_data"
    }
   ],
   "source": [
    "df3['Q11'].value_counts()[:20].plot(kind='barh', figsize=(8, 8), color='#86bf91', zorder=2, width=0.55)\n",
    "plt.xlabel('Count')\n"
   ]
  },
  {
   "cell_type": "code",
   "execution_count": 75,
   "metadata": {},
   "outputs": [
    {
     "data": {
      "text/plain": [
       "0      Approximately how many hours did you sleep on ...\n",
       "1                                                    NaN\n",
       "2                                                    NaN\n",
       "3                                                    NaN\n",
       "4                                                    NaN\n",
       "                             ...                        \n",
       "910                                                  NaN\n",
       "911                                                  7.5\n",
       "912                                                  NaN\n",
       "913                                                  NaN\n",
       "914                                                7-Jun\n",
       "Name: Q12, Length: 915, dtype: object"
      ]
     },
     "execution_count": 75,
     "metadata": {},
     "output_type": "execute_result"
    }
   ],
   "source": [
    "df['Q12']"
   ]
  },
  {
   "cell_type": "code",
   "execution_count": 76,
   "metadata": {},
   "outputs": [
    {
     "data": {
      "text/plain": [
       "Text(0.5, 0, 'Count')"
      ]
     },
     "execution_count": 76,
     "metadata": {},
     "output_type": "execute_result"
    },
    {
     "data": {
      "image/png": "[encoded data removed]",
      "text/plain": [
       "<Figure size 576x576 with 1 Axes>"
      ]
     },
     "metadata": {
      "needs_background": "light"
     },
     "output_type": "display_data"
    }
   ],
   "source": [
    "df3['Q12'].value_counts()[:10].plot(kind='barh', figsize=(8, 8), color='#86bf91', zorder=2, width=0.55)\n",
    "plt.xlabel('Count')\n"
   ]
  },
  {
   "cell_type": "code",
   "execution_count": 77,
   "metadata": {},
   "outputs": [
    {
     "data": {
      "text/plain": [
       "0      Has the number of your work hours per week cha...\n",
       "1                                                    NaN\n",
       "2                                                    Yes\n",
       "3                                                    Yes\n",
       "4                                                    NaN\n",
       "                             ...                        \n",
       "910                                                  NaN\n",
       "911                                                   No\n",
       "912                                                  NaN\n",
       "913                                                  NaN\n",
       "914                                                   No\n",
       "Name: Q14, Length: 915, dtype: object"
      ]
     },
     "execution_count": 77,
     "metadata": {},
     "output_type": "execute_result"
    }
   ],
   "source": [
    "df['Q14']"
   ]
  },
  {
   "cell_type": "code",
   "execution_count": 78,
   "metadata": {},
   "outputs": [
    {
     "data": {
      "text/plain": [
       "Text(0.5, 0, 'Count')"
      ]
     },
     "execution_count": 78,
     "metadata": {},
     "output_type": "execute_result"
    },
    {
     "data": {
      "image/png": "[encoded data removed]",
      "text/plain": [
       "<Figure size 576x576 with 1 Axes>"
      ]
     },
     "metadata": {
      "needs_background": "light"
     },
     "output_type": "display_data"
    }
   ],
   "source": [
    "df3['Q13'].value_counts()[:20].plot(kind='barh', figsize=(8, 8), color='#86bf91', zorder=2, width=0.55)\n",
    "plt.xlabel('Count')\n"
   ]
  },
  {
   "cell_type": "code",
   "execution_count": 79,
   "metadata": {},
   "outputs": [
    {
     "data": {
      "text/plain": [
       "Text(0.5, 0, 'Count')"
      ]
     },
     "execution_count": 79,
     "metadata": {},
     "output_type": "execute_result"
    },
    {
     "data": {
      "image/png": "[encoded data removed]",
      "text/plain": [
       "<Figure size 576x576 with 1 Axes>"
      ]
     },
     "metadata": {
      "needs_background": "light"
     },
     "output_type": "display_data"
    }
   ],
   "source": [
    "df3['Q14'].value_counts()[:20].plot(kind='barh', figsize=(8, 8), color='#86bf91', zorder=2, width=0.55)\n",
    "plt.xlabel('Count')\n"
   ]
  },
  {
   "cell_type": "code",
   "execution_count": null,
   "metadata": {},
   "outputs": [],
   "source": []
  },
  {
   "cell_type": "code",
   "execution_count": 80,
   "metadata": {},
   "outputs": [
    {
     "data": {
      "text/plain": [
       "0      Have you varied your work schedule?\n",
       "1                                      NaN\n",
       "2                                      NaN\n",
       "3                                      NaN\n",
       "4                                      NaN\n",
       "                      ...                 \n",
       "910                                    NaN\n",
       "911                                     No\n",
       "912                                    NaN\n",
       "913                                    NaN\n",
       "914                                    Yes\n",
       "Name: Q15, Length: 915, dtype: object"
      ]
     },
     "execution_count": 80,
     "metadata": {},
     "output_type": "execute_result"
    }
   ],
   "source": [
    "df['Q15']"
   ]
  },
  {
   "cell_type": "code",
   "execution_count": 81,
   "metadata": {},
   "outputs": [
    {
     "data": {
      "text/plain": [
       "Text(0.5, 0, 'Count')"
      ]
     },
     "execution_count": 81,
     "metadata": {},
     "output_type": "execute_result"
    },
    {
     "data": {
      "image/png": "[encoded data removed]",
      "text/plain": [
       "<Figure size 576x576 with 1 Axes>"
      ]
     },
     "metadata": {
      "needs_background": "light"
     },
     "output_type": "display_data"
    }
   ],
   "source": [
    "df3['Q15'].value_counts()[:20].plot(kind='barh', figsize=(8, 8), color='#86bf91', zorder=2, width=0.55)\n",
    "plt.xlabel('Count')\n"
   ]
  },
  {
   "cell_type": "code",
   "execution_count": 82,
   "metadata": {},
   "outputs": [
    {
     "data": {
      "text/plain": [
       "Text(0.5, 0, 'Count')"
      ]
     },
     "execution_count": 82,
     "metadata": {},
     "output_type": "execute_result"
    },
    {
     "data": {
      "image/png": "[encoded data removed]",
      "text/plain": [
       "<Figure size 576x576 with 1 Axes>"
      ]
     },
     "metadata": {
      "needs_background": "light"
     },
     "output_type": "display_data"
    }
   ],
   "source": [
    "df3['Q16'].value_counts()[:20].plot(kind='barh', figsize=(8, 8), color='#86bf91', zorder=2, width=0.55)\n",
    "plt.xlabel('Count')\n"
   ]
  },
  {
   "cell_type": "code",
   "execution_count": 83,
   "metadata": {},
   "outputs": [
    {
     "data": {
      "text/plain": [
       "Text(0.5, 0, 'Count')"
      ]
     },
     "execution_count": 83,
     "metadata": {},
     "output_type": "execute_result"
    },
    {
     "data": {
      "image/png": "[encoded data removed]",
      "text/plain": [
       "<Figure size 576x576 with 1 Axes>"
      ]
     },
     "metadata": {
      "needs_background": "light"
     },
     "output_type": "display_data"
    }
   ],
   "source": [
    "df3['Q17'].value_counts()[:20].plot(kind='barh', figsize=(8, 8), color='#86bf91', zorder=2, width=0.55)\n",
    "plt.xlabel('Count')\n"
   ]
  },
  {
   "cell_type": "code",
   "execution_count": 84,
   "metadata": {},
   "outputs": [
    {
     "data": {
      "text/plain": [
       "Text(0.5, 0, 'Count')"
      ]
     },
     "execution_count": 84,
     "metadata": {},
     "output_type": "execute_result"
    },
    {
     "data": {
      "image/png": "[encoded data removed]",
      "text/plain": [
       "<Figure size 576x576 with 1 Axes>"
      ]
     },
     "metadata": {
      "needs_background": "light"
     },
     "output_type": "display_data"
    }
   ],
   "source": [
    "df3['Q18'].value_counts()[:20].plot(kind='barh', figsize=(8, 8), color='#86bf91', zorder=2, width=0.55)\n",
    "plt.xlabel('Count')\n"
   ]
  },
  {
   "cell_type": "code",
   "execution_count": 85,
   "metadata": {},
   "outputs": [
    {
     "data": {
      "text/plain": [
       "Text(0.5, 0, 'Count')"
      ]
     },
     "execution_count": 85,
     "metadata": {},
     "output_type": "execute_result"
    },
    {
     "data": {
      "image/png": "[encoded data removed]",
      "text/plain": [
       "<Figure size 576x576 with 1 Axes>"
      ]
     },
     "metadata": {
      "needs_background": "light"
     },
     "output_type": "display_data"
    }
   ],
   "source": [
    "df3['Q18a'].value_counts()[:20].plot(kind='barh', figsize=(8, 8), color='#86bf91', zorder=2, width=0.55)\n",
    "plt.xlabel('Count')\n"
   ]
  },
  {
   "cell_type": "code",
   "execution_count": 86,
   "metadata": {},
   "outputs": [
    {
     "data": {
      "text/plain": [
       "Text(0.5, 0, 'Count')"
      ]
     },
     "execution_count": 86,
     "metadata": {},
     "output_type": "execute_result"
    },
    {
     "data": {
      "image/png": "[encoded data removed]",
      "text/plain": [
       "<Figure size 576x576 with 1 Axes>"
      ]
     },
     "metadata": {
      "needs_background": "light"
     },
     "output_type": "display_data"
    }
   ],
   "source": [
    "df3['Q19'].value_counts()[:20].plot(kind='barh', figsize=(8, 8), color='#86bf91', zorder=2, width=0.55)\n",
    "plt.xlabel('Count')\n"
   ]
  },
  {
   "cell_type": "code",
   "execution_count": 87,
   "metadata": {},
   "outputs": [
    {
     "data": {
      "text/plain": [
       "Text(0.5, 0, 'Count')"
      ]
     },
     "execution_count": 87,
     "metadata": {},
     "output_type": "execute_result"
    },
    {
     "data": {
      "image/png": "[encoded data removed]",
      "text/plain": [
       "<Figure size 576x576 with 1 Axes>"
      ]
     },
     "metadata": {
      "needs_background": "light"
     },
     "output_type": "display_data"
    }
   ],
   "source": [
    "df3['Q20'].value_counts()[:20].plot(kind='barh', figsize=(8, 8), color='#86bf91', zorder=2, width=0.55)\n",
    "plt.xlabel('Count')\n"
   ]
  },
  {
   "cell_type": "code",
   "execution_count": 88,
   "metadata": {},
   "outputs": [
    {
     "data": {
      "text/plain": [
       "Text(0.5, 0, 'Count')"
      ]
     },
     "execution_count": 88,
     "metadata": {},
     "output_type": "execute_result"
    },
    {
     "data": {
      "image/png": "[encoded data removed]",
      "text/plain": [
       "<Figure size 576x576 with 1 Axes>"
      ]
     },
     "metadata": {
      "needs_background": "light"
     },
     "output_type": "display_data"
    }
   ],
   "source": [
    "df3['Q21'].value_counts()[:20].plot(kind='barh', figsize=(8, 8), color='#86bf91', zorder=2, width=0.55)\n",
    "plt.xlabel('Count')\n"
   ]
  },
  {
   "cell_type": "code",
   "execution_count": 89,
   "metadata": {},
   "outputs": [
    {
     "data": {
      "text/plain": [
       "Text(0.5, 0, 'Count')"
      ]
     },
     "execution_count": 89,
     "metadata": {},
     "output_type": "execute_result"
    },
    {
     "data": {
      "image/png": "[encoded data removed]",
      "text/plain": [
       "<Figure size 576x576 with 1 Axes>"
      ]
     },
     "metadata": {
      "needs_background": "light"
     },
     "output_type": "display_data"
    }
   ],
   "source": [
    "df3['Q22'].value_counts()[:20].plot(kind='barh', figsize=(8, 8), color='#86bf91', zorder=2, width=0.55)\n",
    "plt.xlabel('Count')\n"
   ]
  },
  {
   "cell_type": "code",
   "execution_count": 90,
   "metadata": {},
   "outputs": [
    {
     "data": {
      "text/plain": [
       "Text(0.5, 0, 'Count')"
      ]
     },
     "execution_count": 90,
     "metadata": {},
     "output_type": "execute_result"
    },
    {
     "data": {
      "image/png": "[encoded data removed]",
      "text/plain": [
       "<Figure size 576x576 with 1 Axes>"
      ]
     },
     "metadata": {
      "needs_background": "light"
     },
     "output_type": "display_data"
    }
   ],
   "source": [
    "df3['Q23'].value_counts()[:20].plot(kind='barh', figsize=(8, 8), color='#86bf91', zorder=2, width=0.55)\n",
    "plt.xlabel('Count')\n"
   ]
  },
  {
   "cell_type": "code",
   "execution_count": 91,
   "metadata": {},
   "outputs": [
    {
     "data": {
      "text/plain": [
       "Text(0.5, 0, 'Count')"
      ]
     },
     "execution_count": 91,
     "metadata": {},
     "output_type": "execute_result"
    },
    {
     "data": {
      "image/png": "[encoded data removed]",
      "text/plain": [
       "<Figure size 576x576 with 1 Axes>"
      ]
     },
     "metadata": {
      "needs_background": "light"
     },
     "output_type": "display_data"
    }
   ],
   "source": [
    "df3['Q24'].value_counts()[:20].plot(kind='barh', figsize=(8, 8), color='#86bf91', zorder=2, width=0.55)\n",
    "plt.xlabel('Count')\n"
   ]
  },
  {
   "cell_type": "code",
   "execution_count": 92,
   "metadata": {},
   "outputs": [
    {
     "data": {
      "text/plain": [
       "Text(0.5, 0, 'Count')"
      ]
     },
     "execution_count": 92,
     "metadata": {},
     "output_type": "execute_result"
    },
    {
     "data": {
      "image/png": "[encoded data removed]",
      "text/plain": [
       "<Figure size 576x576 with 1 Axes>"
      ]
     },
     "metadata": {
      "needs_background": "light"
     },
     "output_type": "display_data"
    }
   ],
   "source": [
    "df3['Q25'].value_counts()[:20].plot(kind='barh', figsize=(8, 8), color='#86bf91', zorder=2, width=0.55)\n",
    "plt.xlabel('Count')\n"
   ]
  },
  {
   "cell_type": "code",
   "execution_count": 93,
   "metadata": {},
   "outputs": [
    {
     "data": {
      "text/plain": [
       "Text(0.5, 0, 'Count')"
      ]
     },
     "execution_count": 93,
     "metadata": {},
     "output_type": "execute_result"
    },
    {
     "data": {
      "image/png": "[encoded data removed]",
      "text/plain": [
       "<Figure size 576x576 with 1 Axes>"
      ]
     },
     "metadata": {
      "needs_background": "light"
     },
     "output_type": "display_data"
    }
   ],
   "source": [
    "df3['Q26'].value_counts()[:20].plot(kind='barh', figsize=(8, 8), color='#86bf91', zorder=2, width=0.55)\n",
    "plt.xlabel('Count')\n"
   ]
  },
  {
   "cell_type": "code",
   "execution_count": 94,
   "metadata": {},
   "outputs": [
    {
     "data": {
      "text/plain": [
       "Text(0.5, 0, 'Count')"
      ]
     },
     "execution_count": 94,
     "metadata": {},
     "output_type": "execute_result"
    },
    {
     "data": {
      "image/png": "[encoded data removed]",
      "text/plain": [
       "<Figure size 576x576 with 1 Axes>"
      ]
     },
     "metadata": {
      "needs_background": "light"
     },
     "output_type": "display_data"
    }
   ],
   "source": [
    "df3['Q27'].value_counts()[:20].plot(kind='barh', figsize=(8, 8), color='#86bf91', zorder=2, width=0.55)\n",
    "plt.xlabel('Count')\n"
   ]
  },
  {
   "cell_type": "code",
   "execution_count": 95,
   "metadata": {},
   "outputs": [
    {
     "data": {
      "text/plain": [
       "Text(0.5, 0, 'Count')"
      ]
     },
     "execution_count": 95,
     "metadata": {},
     "output_type": "execute_result"
    },
    {
     "data": {
      "image/png": "[encoded data removed]",
      "text/plain": [
       "<Figure size 576x576 with 1 Axes>"
      ]
     },
     "metadata": {
      "needs_background": "light"
     },
     "output_type": "display_data"
    }
   ],
   "source": [
    "df3['Q28'].value_counts()[:20].plot(kind='barh', figsize=(8, 8), color='#86bf91', zorder=2, width=0.55)\n",
    "plt.xlabel('Count')\n"
   ]
  },
  {
   "cell_type": "code",
   "execution_count": 96,
   "metadata": {},
   "outputs": [
    {
     "data": {
      "text/plain": [
       "Text(0.5, 0, 'Count')"
      ]
     },
     "execution_count": 96,
     "metadata": {},
     "output_type": "execute_result"
    },
    {
     "data": {
      "image/png": "[encoded data removed]",
      "text/plain": [
       "<Figure size 576x576 with 1 Axes>"
      ]
     },
     "metadata": {
      "needs_background": "light"
     },
     "output_type": "display_data"
    }
   ],
   "source": [
    "df3['Q29'].value_counts()[:20].plot(kind='barh', figsize=(8, 8), color='red', zorder=2, width=0.55)\n",
    "plt.xlabel('Count')\n"
   ]
  },
  {
   "cell_type": "code",
   "execution_count": null,
   "metadata": {},
   "outputs": [],
   "source": []
  },
  {
   "cell_type": "code",
   "execution_count": null,
   "metadata": {},
   "outputs": [],
   "source": []
  },
  {
   "cell_type": "markdown",
   "metadata": {},
   "source": [
    "We Now Encode the variables categorical values into numeric values"
   ]
  },
  {
   "cell_type": "code",
   "execution_count": 97,
   "metadata": {},
   "outputs": [
    {
     "data": {
      "text/plain": [
       "array(['44', '31', '39', '28', '29', '32', '43', '59', '25', '42', '22',\n",
       "       '41', '58', '35', '30', '38', '21', '33', '67', '24', '45', '27',\n",
       "       '49', '48', '57', '53', '47', '34', '36', '52', '55', '66', '68',\n",
       "       '26', '37', '69', '40', '75', '70', '62', '23', '20', '50', '60',\n",
       "       '61', '46', '51', '81', '71', '63', '72', '54', '64', '56', '65'],\n",
       "      dtype=object)"
      ]
     },
     "execution_count": 97,
     "metadata": {},
     "output_type": "execute_result"
    }
   ],
   "source": [
    "df3['Q1'].unique()"
   ]
  },
  {
   "cell_type": "code",
   "execution_count": 98,
   "metadata": {},
   "outputs": [
    {
     "data": {
      "text/plain": [
       "12     4\n",
       "13     3\n",
       "16     3\n",
       "18     2\n",
       "21     2\n",
       "      ..\n",
       "894    2\n",
       "895    4\n",
       "896    4\n",
       "897    5\n",
       "908    6\n",
       "Name: Q1, Length: 273, dtype: int64"
      ]
     },
     "execution_count": 98,
     "metadata": {},
     "output_type": "execute_result"
    }
   ],
   "source": [
    "Q1_mapping={'44':4, '31':3, '39':3, '28':2, '29':2, '32':3, '43':4, '59':5, '25':2, '42':4, '22':2,\n",
    "       '41':4, '58':5, '35':3, '30':3, '38':3, '21':2, '33':3, '67':6, '24':2, '45':4, '27':2,\n",
    "       '49':4, '48':4, '57':5, '53':5, '47':4, '34':3, '36':3, '52':5, '55':5, '66':6, '68':6,\n",
    "       '26':2, '37':3, '69':6, '40':4, '75':7, '70':7, '62':6, '23':2, '20':2, '50':5, '60':6,\n",
    "       '61':6, '46':4, '51':5, '81':8, '71':7, '63':6, '72':7, '54':5, '64':6, '56':5, '65':6 }\n",
    "df3['Q1']= df3['Q1'].map(Q1_mapping)\n",
    "df3['Q1']"
   ]
  },
  {
   "cell_type": "code",
   "execution_count": 325,
   "metadata": {},
   "outputs": [
    {
     "data": {
      "text/plain": [
       "0.0"
      ]
     },
     "execution_count": 325,
     "metadata": {},
     "output_type": "execute_result"
    }
   ],
   "source": [
    "len(df4[(df4['Q18a']==2)&(df4['Q1']==1)])/len(df4)*100"
   ]
  },
  {
   "cell_type": "code",
   "execution_count": 99,
   "metadata": {},
   "outputs": [
    {
     "data": {
      "text/plain": [
       "0"
      ]
     },
     "execution_count": 99,
     "metadata": {},
     "output_type": "execute_result"
    }
   ],
   "source": [
    "# missing values\n",
    "df3['Q1'].isnull().sum()"
   ]
  },
  {
   "cell_type": "code",
   "execution_count": 100,
   "metadata": {},
   "outputs": [
    {
     "data": {
      "text/plain": [
       "array(['Female', 'Male', 'Prefer not to say'], dtype=object)"
      ]
     },
     "execution_count": 100,
     "metadata": {},
     "output_type": "execute_result"
    }
   ],
   "source": [
    "df3['Q2'].unique()"
   ]
  },
  {
   "cell_type": "code",
   "execution_count": 101,
   "metadata": {},
   "outputs": [
    {
     "data": {
      "text/plain": [
       "12     1\n",
       "13     2\n",
       "16     1\n",
       "18     1\n",
       "21     1\n",
       "      ..\n",
       "894    1\n",
       "895    2\n",
       "896    1\n",
       "897    1\n",
       "908    1\n",
       "Name: Q2, Length: 273, dtype: int64"
      ]
     },
     "execution_count": 101,
     "metadata": {},
     "output_type": "execute_result"
    }
   ],
   "source": [
    "Q2_mapping={ 'Female':1,\n",
    "       'Male':2, 'Prefer not to say':0 }\n",
    "df3['Q2']= df3['Q2'].map(Q2_mapping)\n",
    "df3['Q2']"
   ]
  },
  {
   "cell_type": "code",
   "execution_count": 308,
   "metadata": {},
   "outputs": [
    {
     "data": {
      "text/plain": [
       "0.3663003663003663"
      ]
     },
     "execution_count": 308,
     "metadata": {},
     "output_type": "execute_result"
    }
   ],
   "source": [
    "len(df4[(df4['Q18a']==2)&(df4['Q2']==0)])/len(df4)*100"
   ]
  },
  {
   "cell_type": "code",
   "execution_count": 303,
   "metadata": {},
   "outputs": [
    {
     "data": {
      "text/plain": [
       "9.523809523809524"
      ]
     },
     "execution_count": 303,
     "metadata": {},
     "output_type": "execute_result"
    }
   ],
   "source": [
    "26/273*100\n"
   ]
  },
  {
   "cell_type": "code",
   "execution_count": 300,
   "metadata": {},
   "outputs": [
    {
     "data": {
      "text/plain": [
       "1"
      ]
     },
     "execution_count": 300,
     "metadata": {},
     "output_type": "execute_result"
    }
   ],
   "source": [
    "len(df4[df4['Q2']==0])"
   ]
  },
  {
   "cell_type": "code",
   "execution_count": 102,
   "metadata": {},
   "outputs": [
    {
     "data": {
      "text/plain": [
       "0"
      ]
     },
     "execution_count": 102,
     "metadata": {},
     "output_type": "execute_result"
    }
   ],
   "source": [
    "# missing values\n",
    "df3['Q2'].isnull().sum()"
   ]
  },
  {
   "cell_type": "code",
   "execution_count": 103,
   "metadata": {},
   "outputs": [
    {
     "data": {
      "text/plain": [
       "array(['Michigan', 'Iowa', 'Georgia', 'New York', 'Illinois',\n",
       "       'West Virginia', 'Utah', 'Pennsylvania', 'Maryland', 'Ohio',\n",
       "       'I do not reside in the United States', 'Minnesota', 'Colorado',\n",
       "       'Connecticut', 'Louisiana', 'Missouri', 'Florida', 'Puerto Rico',\n",
       "       'Virginia', 'Indiana', 'California', 'Washington', 'Kansas',\n",
       "       'Alabama', 'Massachusetts', 'North Carolina', 'Texas',\n",
       "       'South Carolina', 'Oregon'], dtype=object)"
      ]
     },
     "execution_count": 103,
     "metadata": {},
     "output_type": "execute_result"
    }
   ],
   "source": [
    "df3['Q3'].unique()"
   ]
  },
  {
   "cell_type": "code",
   "execution_count": 104,
   "metadata": {},
   "outputs": [
    {
     "data": {
      "text/plain": [
       "12      1\n",
       "13      2\n",
       "16      1\n",
       "18      1\n",
       "21      1\n",
       "       ..\n",
       "894     5\n",
       "895     1\n",
       "896    19\n",
       "897     1\n",
       "908     1\n",
       "Name: Q3, Length: 273, dtype: int64"
      ]
     },
     "execution_count": 104,
     "metadata": {},
     "output_type": "execute_result"
    }
   ],
   "source": [
    "Q3_mapping={'Michigan':1, 'Iowa':2, 'Missouri':3,\n",
    "       'Ohio':4, 'Georgia':5, 'Mississippi':6, 'New York':7, 'West Virginia':8,\n",
    "       'Colorado':9, 'Virginia':10, 'Illinois':11, 'Oregon':12, 'Arizona':13, 'Utah':14,\n",
    "       'Pennsylvania':15, 'Florida':16, 'Kansas':17, 'Idaho':18, 'California':19,\n",
    "       'I do not reside in the United States':20, 'Minnesota':21, 'Oklahoma':22,\n",
    "       'Louisiana':23, 'Texas':24, 'Puerto Rico':25, 'Washington':26, 'Nebraska':27,\n",
    "       'Kentucky':28, 'Massachusetts':29, 'Tennessee':30, 'Indiana':31, 'Alabama':32,\n",
    "       'Maryland':33, 'Wisconsin':34, 'North Carolina':35, 'New Jersey':36,\n",
    "       'New Mexico':37, 'Vermont':38, 'South Carolina':39, 'Arkansas':40,\n",
    "       'Connecticut':41 }\n",
    "df3['Q3']= df3['Q3'].map(Q3_mapping)\n",
    "df3['Q3']"
   ]
  },
  {
   "cell_type": "code",
   "execution_count": null,
   "metadata": {},
   "outputs": [],
   "source": [
    "Feat=['Michigan','Iowa','Georgia','New York','Illinois']\n"
   ]
  },
  {
   "cell_type": "code",
   "execution_count": 334,
   "metadata": {},
   "outputs": [
    {
     "data": {
      "text/plain": [
       "array([ 1,  2,  5,  7, 11,  8, 14, 15, 33,  4, 20, 21,  9, 41, 23,  3, 16,\n",
       "       25, 10, 31, 19, 26, 17, 32, 29, 35, 24, 39, 12], dtype=int64)"
      ]
     },
     "execution_count": 334,
     "metadata": {},
     "output_type": "execute_result"
    }
   ],
   "source": [
    "df4['Q3'].unique()"
   ]
  },
  {
   "cell_type": "code",
   "execution_count": 335,
   "metadata": {},
   "outputs": [],
   "source": [
    "a=df4['Q3'].unique()\n",
    "e=[]\n",
    "for i in a:\n",
    "    b=len(df4[(df4['Q3']==i)])/len(df4)*100\n",
    "    e.append(b)\n",
    "    "
   ]
  },
  {
   "cell_type": "code",
   "execution_count": 336,
   "metadata": {},
   "outputs": [
    {
     "data": {
      "text/plain": [
       "[72.16117216117216,\n",
       " 0.3663003663003663,\n",
       " 1.8315018315018317,\n",
       " 2.93040293040293,\n",
       " 1.465201465201465,\n",
       " 0.3663003663003663,\n",
       " 0.7326007326007326,\n",
       " 1.8315018315018317,\n",
       " 0.7326007326007326,\n",
       " 1.8315018315018317,\n",
       " 4.029304029304029,\n",
       " 1.465201465201465,\n",
       " 0.7326007326007326,\n",
       " 0.3663003663003663,\n",
       " 0.3663003663003663,\n",
       " 0.7326007326007326,\n",
       " 0.7326007326007326,\n",
       " 0.3663003663003663,\n",
       " 0.7326007326007326,\n",
       " 0.3663003663003663,\n",
       " 2.197802197802198,\n",
       " 0.7326007326007326,\n",
       " 0.3663003663003663,\n",
       " 0.3663003663003663,\n",
       " 0.3663003663003663,\n",
       " 0.3663003663003663,\n",
       " 0.3663003663003663,\n",
       " 0.3663003663003663,\n",
       " 0.7326007326007326]"
      ]
     },
     "execution_count": 336,
     "metadata": {},
     "output_type": "execute_result"
    }
   ],
   "source": [
    "t=101\n",
    "model = RandomForestClassifier(n_estimators=4, max_depth=3)\n",
    "model.fit(X_train,y_train)\n",
    "\n",
    "C = ['Q1', 'Q2', 'Q3', 'Q8', 'Q9', 'Q10', 'Q11', 'Q12', 'Q13', 'Q14', 'Q15',\n",
    "       'Q16', 'Q17', 'Q19', 'Q20', 'Q21', 'Q22', 'Q23', 'Q24', 'Q25', 'Q26',\n",
    "       'Q27', 'Q28', 'Q29']\n",
    "    \n",
    "\n",
    "importance = model.feature_importances_\n",
    "\n",
    "# summarize feature importance\n",
    "for i,v in enumerate(importance):\n",
    "\tprint('Feature: %0d, Score: %.5f' % (i,v))\n",
    "import matplotlib.pyplot as plt\n",
    "\n",
    "GC = e\n",
    "\n",
    "maxList=GC\n",
    "NewList=[i[0] for i in sorted(enumerate(maxList), key=lambda k: k[1], reverse=True)]\n",
    "Feat=[]\n",
    "Score=[]\n",
    "for i in range(len(NewList)):\n",
    "    if GC[NewList[i]]!=0:\n",
    "        Feat.append(C[NewList[i]])\n",
    "        Score.append(GC[NewList[i]])\n",
    "    \n",
    "# plotting a line plot after changing it's width and height\n",
    "f = plt.figure()\n",
    "f.set_figwidth(10)\n",
    "f.set_figheight(8)\n",
    "plt.xticks(rotation=45, ha='right')\n",
    "plt.grid(True)\n",
    "\n",
    "plt.bar(Feat, Score)\n",
    "plt.ylabel('Importance')\n",
    "plt.xlabel('Feature')\n",
    "plt.show()\n",
    "fig = plt.figure(figsize=(8,8))\n",
    "plt.pie(Score, labels=Feat, autopct='%.4f%%', pctdistance=.8, labeldistance=1.01,colors=['lightgreen','lightgrey','lightblue','pink','crimson','gold','c','orange','red','white','brown','g','y','lightyellow'])\n",
    "plt.title(\"Feature importance of a random forest containing 4 trees of maximum depth of 3\", bbox={'facecolor':'1.0', 'pad':5})\n",
    "plt.show()"
   ]
  },
  {
   "cell_type": "code",
   "execution_count": 333,
   "metadata": {},
   "outputs": [
    {
     "data": {
      "text/plain": [
       "8.791208791208792"
      ]
     },
     "execution_count": 333,
     "metadata": {},
     "output_type": "execute_result"
    }
   ],
   "source": [
    "len(df4[(df4['Q18a']==1)&(df4['Q3']==1)])/len(df4)*100"
   ]
  },
  {
   "cell_type": "code",
   "execution_count": 105,
   "metadata": {},
   "outputs": [
    {
     "data": {
      "text/plain": [
       "0"
      ]
     },
     "execution_count": 105,
     "metadata": {},
     "output_type": "execute_result"
    }
   ],
   "source": [
    "# missing values\n",
    "df3['Q3'].isnull().sum()"
   ]
  },
  {
   "cell_type": "code",
   "execution_count": 106,
   "metadata": {},
   "outputs": [
    {
     "data": {
      "text/plain": [
       "array(['Yes', 'No'], dtype=object)"
      ]
     },
     "execution_count": 106,
     "metadata": {},
     "output_type": "execute_result"
    }
   ],
   "source": [
    "df3['Q8'].unique()"
   ]
  },
  {
   "cell_type": "code",
   "execution_count": 107,
   "metadata": {},
   "outputs": [
    {
     "name": "stdout",
     "output_type": "stream",
     "text": [
      "{'Q8': {'No': 1, 'Yes': 2}}\n"
     ]
    },
    {
     "data": {
      "text/plain": [
       "array([2, 1], dtype=int64)"
      ]
     },
     "execution_count": 107,
     "metadata": {},
     "output_type": "execute_result"
    }
   ],
   "source": [
    "labels = df3['Q8'].astype('category').cat.categories.tolist()\n",
    "Q8_mapping = {'Q8' : {k: v for k,v in zip(labels,list(range(1,len(labels)+1)))}}\n",
    "print(Q8_mapping)\n",
    "df3.replace(Q8_mapping, inplace=True)\n",
    "df3['Q8'].unique()"
   ]
  },
  {
   "cell_type": "code",
   "execution_count": 108,
   "metadata": {},
   "outputs": [
    {
     "data": {
      "text/plain": [
       "array(['1', '2', 'Yes', 'Not applicable', 'No', 'No,Not applicable'],\n",
       "      dtype=object)"
      ]
     },
     "execution_count": 108,
     "metadata": {},
     "output_type": "execute_result"
    }
   ],
   "source": [
    "df3['Q9'].unique()"
   ]
  },
  {
   "cell_type": "code",
   "execution_count": 109,
   "metadata": {},
   "outputs": [
    {
     "data": {
      "text/plain": [
       "array(['Are you conducting clinical video visits with your patients from your home?',\n",
       "       nan, '2', '1', '1,2', 'Yes', 'Not applicable', 'No',\n",
       "       'No,Not applicable', 'Yes,Not applicable', 'Yes,No'], dtype=object)"
      ]
     },
     "execution_count": 109,
     "metadata": {},
     "output_type": "execute_result"
    }
   ],
   "source": [
    "df['Q9'].unique()"
   ]
  },
  {
   "cell_type": "code",
   "execution_count": 110,
   "metadata": {},
   "outputs": [
    {
     "data": {
      "text/plain": [
       "12     2\n",
       "13     2\n",
       "16     2\n",
       "18     2\n",
       "21     2\n",
       "      ..\n",
       "894    1\n",
       "895    2\n",
       "896    2\n",
       "897    1\n",
       "908    1\n",
       "Name: Q9, Length: 273, dtype: int64"
      ]
     },
     "execution_count": 110,
     "metadata": {},
     "output_type": "execute_result"
    }
   ],
   "source": [
    "Q9_mapping={'1':2, '2':2, 'Yes':2, 'Not applicable':1, 'No':1, 'No,Not applicable':1}\n",
    "df3['Q9']= df3['Q9'].map(Q9_mapping)\n",
    "df3['Q9']\n"
   ]
  },
  {
   "cell_type": "code",
   "execution_count": 111,
   "metadata": {},
   "outputs": [
    {
     "data": {
      "text/plain": [
       "0"
      ]
     },
     "execution_count": 111,
     "metadata": {},
     "output_type": "execute_result"
    }
   ],
   "source": [
    "# missing values\n",
    "df3['Q9'].isnull().sum()"
   ]
  },
  {
   "cell_type": "code",
   "execution_count": 112,
   "metadata": {},
   "outputs": [
    {
     "data": {
      "text/plain": [
       "array(['Yes', 'No'], dtype=object)"
      ]
     },
     "execution_count": 112,
     "metadata": {},
     "output_type": "execute_result"
    }
   ],
   "source": [
    "df3['Q10'].unique()"
   ]
  },
  {
   "cell_type": "code",
   "execution_count": 113,
   "metadata": {},
   "outputs": [
    {
     "name": "stdout",
     "output_type": "stream",
     "text": [
      "{'Q10': {'No': 1, 'Yes': 2}}\n"
     ]
    },
    {
     "data": {
      "text/plain": [
       "array([2, 1], dtype=int64)"
      ]
     },
     "execution_count": 113,
     "metadata": {},
     "output_type": "execute_result"
    }
   ],
   "source": [
    "labels = df3['Q10'].astype('category').cat.categories.tolist()\n",
    "Q10_mapping = {'Q10' : {k: v for k,v in zip(labels,list(range(1,len(labels)+1)))}}\n",
    "print(Q10_mapping)\n",
    "df3.replace(Q10_mapping, inplace=True)\n",
    "df3['Q10'].unique()"
   ]
  },
  {
   "cell_type": "code",
   "execution_count": 114,
   "metadata": {},
   "outputs": [
    {
     "data": {
      "text/plain": [
       "array(['Not applicable', 'Yes', 'No'], dtype=object)"
      ]
     },
     "execution_count": 114,
     "metadata": {},
     "output_type": "execute_result"
    }
   ],
   "source": [
    "df3['Q11'].unique()"
   ]
  },
  {
   "cell_type": "code",
   "execution_count": 115,
   "metadata": {},
   "outputs": [
    {
     "data": {
      "text/plain": [
       "array(['Are children home from school in the house?', nan, '1', '2',\n",
       "       'Not applicable', 'Yes', 'No'], dtype=object)"
      ]
     },
     "execution_count": 115,
     "metadata": {},
     "output_type": "execute_result"
    }
   ],
   "source": [
    "df['Q11'].unique()"
   ]
  },
  {
   "cell_type": "code",
   "execution_count": 116,
   "metadata": {},
   "outputs": [
    {
     "data": {
      "text/plain": [
       "12     1\n",
       "13     1\n",
       "16     2\n",
       "18     2\n",
       "21     1\n",
       "      ..\n",
       "894    1\n",
       "895    2\n",
       "896    2\n",
       "897    1\n",
       "908    1\n",
       "Name: Q11, Length: 273, dtype: int64"
      ]
     },
     "execution_count": 116,
     "metadata": {},
     "output_type": "execute_result"
    }
   ],
   "source": [
    "Q11_mapping={'Not applicable':1, 'Yes':2, 'No':1 }\n",
    "df3['Q11']= df3['Q11'].map(Q11_mapping)\n",
    "df3['Q11']"
   ]
  },
  {
   "cell_type": "code",
   "execution_count": 117,
   "metadata": {},
   "outputs": [
    {
     "data": {
      "text/plain": [
       "0"
      ]
     },
     "execution_count": 117,
     "metadata": {},
     "output_type": "execute_result"
    }
   ],
   "source": [
    "# missing values\n",
    "df3['Q11'].isnull().sum()"
   ]
  },
  {
   "cell_type": "code",
   "execution_count": 118,
   "metadata": {},
   "outputs": [
    {
     "data": {
      "text/plain": [
       "array(['Yes', 'No'], dtype=object)"
      ]
     },
     "execution_count": 118,
     "metadata": {},
     "output_type": "execute_result"
    }
   ],
   "source": [
    "df3['Q14'].unique()"
   ]
  },
  {
   "cell_type": "code",
   "execution_count": 119,
   "metadata": {},
   "outputs": [
    {
     "data": {
      "text/plain": [
       "12     2\n",
       "13     2\n",
       "16     2\n",
       "18     1\n",
       "21     1\n",
       "      ..\n",
       "894    1\n",
       "895    2\n",
       "896    2\n",
       "897    2\n",
       "908    1\n",
       "Name: Q14, Length: 273, dtype: int64"
      ]
     },
     "execution_count": 119,
     "metadata": {},
     "output_type": "execute_result"
    }
   ],
   "source": [
    "Q14_mapping={'Yes':2, 'No':1 }\n",
    "df3['Q14']= df3['Q14'].map(Q14_mapping)\n",
    "df3['Q14']"
   ]
  },
  {
   "cell_type": "code",
   "execution_count": 120,
   "metadata": {},
   "outputs": [
    {
     "data": {
      "text/plain": [
       "0"
      ]
     },
     "execution_count": 120,
     "metadata": {},
     "output_type": "execute_result"
    }
   ],
   "source": [
    "# missing values\n",
    "df3['Q14'].isnull().sum()"
   ]
  },
  {
   "cell_type": "code",
   "execution_count": 121,
   "metadata": {},
   "outputs": [
    {
     "data": {
      "text/plain": [
       "array(['Yes', 'No'], dtype=object)"
      ]
     },
     "execution_count": 121,
     "metadata": {},
     "output_type": "execute_result"
    }
   ],
   "source": [
    "df3['Q15'].unique()"
   ]
  },
  {
   "cell_type": "code",
   "execution_count": 122,
   "metadata": {},
   "outputs": [
    {
     "data": {
      "text/plain": [
       "12     2\n",
       "13     1\n",
       "16     1\n",
       "18     2\n",
       "21     1\n",
       "      ..\n",
       "894    1\n",
       "895    2\n",
       "896    2\n",
       "897    2\n",
       "908    2\n",
       "Name: Q15, Length: 273, dtype: int64"
      ]
     },
     "execution_count": 122,
     "metadata": {},
     "output_type": "execute_result"
    }
   ],
   "source": [
    "Q15_mapping={'Yes':2, 'No':1 }\n",
    "df3['Q15']= df3['Q15'].map(Q15_mapping)\n",
    "df3['Q15']"
   ]
  },
  {
   "cell_type": "code",
   "execution_count": 123,
   "metadata": {},
   "outputs": [
    {
     "data": {
      "text/plain": [
       "0"
      ]
     },
     "execution_count": 123,
     "metadata": {},
     "output_type": "execute_result"
    }
   ],
   "source": [
    "# missing values\n",
    "df3['Q15'].isnull().sum()"
   ]
  },
  {
   "cell_type": "code",
   "execution_count": 124,
   "metadata": {},
   "outputs": [
    {
     "data": {
      "text/plain": [
       "array(['Yes', 'No'], dtype=object)"
      ]
     },
     "execution_count": 124,
     "metadata": {},
     "output_type": "execute_result"
    }
   ],
   "source": [
    "df3['Q16'].unique()"
   ]
  },
  {
   "cell_type": "code",
   "execution_count": 125,
   "metadata": {},
   "outputs": [
    {
     "data": {
      "text/plain": [
       "array(['Have your sleep patterns changed?', 'Yes', 'No', nan],\n",
       "      dtype=object)"
      ]
     },
     "execution_count": 125,
     "metadata": {},
     "output_type": "execute_result"
    }
   ],
   "source": [
    "df['Q16'].unique()"
   ]
  },
  {
   "cell_type": "code",
   "execution_count": 126,
   "metadata": {},
   "outputs": [
    {
     "data": {
      "text/plain": [
       "12     2\n",
       "13     1\n",
       "16     2\n",
       "18     1\n",
       "21     2\n",
       "      ..\n",
       "894    2\n",
       "895    1\n",
       "896    2\n",
       "897    2\n",
       "908    1\n",
       "Name: Q16, Length: 273, dtype: int64"
      ]
     },
     "execution_count": 126,
     "metadata": {},
     "output_type": "execute_result"
    }
   ],
   "source": [
    "Q16_mapping={'Yes':2, 'No':1 }\n",
    "df3['Q16']= df3['Q16'].map(Q16_mapping)\n",
    "df3['Q16']"
   ]
  },
  {
   "cell_type": "code",
   "execution_count": 127,
   "metadata": {},
   "outputs": [
    {
     "data": {
      "text/plain": [
       "0"
      ]
     },
     "execution_count": 127,
     "metadata": {},
     "output_type": "execute_result"
    }
   ],
   "source": [
    "# missing values\n",
    "df3['Q16'].isnull().sum()"
   ]
  },
  {
   "cell_type": "code",
   "execution_count": 128,
   "metadata": {},
   "outputs": [
    {
     "data": {
      "text/plain": [
       "array(['No', 'Yes'], dtype=object)"
      ]
     },
     "execution_count": 128,
     "metadata": {},
     "output_type": "execute_result"
    }
   ],
   "source": [
    "df3['Q17'].unique()"
   ]
  },
  {
   "cell_type": "code",
   "execution_count": 129,
   "metadata": {},
   "outputs": [
    {
     "data": {
      "text/plain": [
       "12     1\n",
       "13     1\n",
       "16     1\n",
       "18     1\n",
       "21     2\n",
       "      ..\n",
       "894    1\n",
       "895    1\n",
       "896    2\n",
       "897    1\n",
       "908    1\n",
       "Name: Q17, Length: 273, dtype: int64"
      ]
     },
     "execution_count": 129,
     "metadata": {},
     "output_type": "execute_result"
    }
   ],
   "source": [
    "Q17_mapping={'Yes':2, 'No':1 }\n",
    "df3['Q17']= df3['Q17'].map(Q17_mapping)\n",
    "df3['Q17']"
   ]
  },
  {
   "cell_type": "code",
   "execution_count": 130,
   "metadata": {},
   "outputs": [
    {
     "data": {
      "text/plain": [
       "0"
      ]
     },
     "execution_count": 130,
     "metadata": {},
     "output_type": "execute_result"
    }
   ],
   "source": [
    "# missing values\n",
    "df3['Q17'].isnull().sum()"
   ]
  },
  {
   "cell_type": "code",
   "execution_count": 131,
   "metadata": {},
   "outputs": [
    {
     "data": {
      "text/plain": [
       "array(['Yes'], dtype=object)"
      ]
     },
     "execution_count": 131,
     "metadata": {},
     "output_type": "execute_result"
    }
   ],
   "source": [
    "df3['Q18'].unique()"
   ]
  },
  {
   "cell_type": "code",
   "execution_count": 132,
   "metadata": {},
   "outputs": [
    {
     "data": {
      "text/plain": [
       "12     2\n",
       "13     2\n",
       "16     2\n",
       "18     2\n",
       "21     2\n",
       "      ..\n",
       "894    2\n",
       "895    2\n",
       "896    2\n",
       "897    2\n",
       "908    2\n",
       "Name: Q18, Length: 273, dtype: int64"
      ]
     },
     "execution_count": 132,
     "metadata": {},
     "output_type": "execute_result"
    }
   ],
   "source": [
    "Q18_mapping={'Yes':2, 'No':1 }\n",
    "df3['Q18']= df3['Q18'].map(Q18_mapping)\n",
    "df3['Q18']"
   ]
  },
  {
   "cell_type": "code",
   "execution_count": 133,
   "metadata": {},
   "outputs": [
    {
     "data": {
      "text/plain": [
       "0"
      ]
     },
     "execution_count": 133,
     "metadata": {},
     "output_type": "execute_result"
    }
   ],
   "source": [
    "# missing values\n",
    "df3['Q18'].isnull().sum()"
   ]
  },
  {
   "cell_type": "code",
   "execution_count": 134,
   "metadata": {},
   "outputs": [
    {
     "data": {
      "text/plain": [
       "array(['I am drinking more alcohol', 'I am drinking less alcohol'],\n",
       "      dtype=object)"
      ]
     },
     "execution_count": 134,
     "metadata": {},
     "output_type": "execute_result"
    }
   ],
   "source": [
    "df3['Q18a'].unique()"
   ]
  },
  {
   "cell_type": "code",
   "execution_count": 135,
   "metadata": {},
   "outputs": [
    {
     "data": {
      "text/plain": [
       "12     2\n",
       "13     2\n",
       "16     2\n",
       "18     2\n",
       "21     2\n",
       "      ..\n",
       "894    2\n",
       "895    2\n",
       "896    2\n",
       "897    2\n",
       "908    2\n",
       "Name: Q18a, Length: 273, dtype: int64"
      ]
     },
     "execution_count": 135,
     "metadata": {},
     "output_type": "execute_result"
    }
   ],
   "source": [
    "Q18a_mapping={'I am drinking more alcohol':2, 'I am drinking less alcohol':1 }\n",
    "df3['Q18a']= df3['Q18a'].map(Q18a_mapping)\n",
    "df3['Q18a']"
   ]
  },
  {
   "cell_type": "code",
   "execution_count": 136,
   "metadata": {},
   "outputs": [
    {
     "data": {
      "text/plain": [
       "0"
      ]
     },
     "execution_count": 136,
     "metadata": {},
     "output_type": "execute_result"
    }
   ],
   "source": [
    "# missing values\n",
    "df3['Q18a'].isnull().sum()"
   ]
  },
  {
   "cell_type": "code",
   "execution_count": 137,
   "metadata": {},
   "outputs": [
    {
     "data": {
      "text/plain": [
       "array(['No', 'Yes'], dtype=object)"
      ]
     },
     "execution_count": 137,
     "metadata": {},
     "output_type": "execute_result"
    }
   ],
   "source": [
    "df3['Q23'].unique()"
   ]
  },
  {
   "cell_type": "code",
   "execution_count": 138,
   "metadata": {},
   "outputs": [
    {
     "data": {
      "text/plain": [
       "12     1\n",
       "13     2\n",
       "16     2\n",
       "18     2\n",
       "21     2\n",
       "      ..\n",
       "894    2\n",
       "895    1\n",
       "896    2\n",
       "897    2\n",
       "908    2\n",
       "Name: Q23, Length: 273, dtype: int64"
      ]
     },
     "execution_count": 138,
     "metadata": {},
     "output_type": "execute_result"
    }
   ],
   "source": [
    "Q23_mapping={'Yes':2, 'No':1 }\n",
    "df3['Q23']= df3['Q23'].map(Q23_mapping)\n",
    "df3['Q23']"
   ]
  },
  {
   "cell_type": "code",
   "execution_count": 139,
   "metadata": {},
   "outputs": [
    {
     "data": {
      "text/plain": [
       "array(['Yes', 'No'], dtype=object)"
      ]
     },
     "execution_count": 139,
     "metadata": {},
     "output_type": "execute_result"
    }
   ],
   "source": [
    "df3['Q25'].unique()"
   ]
  },
  {
   "cell_type": "code",
   "execution_count": 140,
   "metadata": {},
   "outputs": [
    {
     "data": {
      "text/plain": [
       "12     2\n",
       "13     2\n",
       "16     1\n",
       "18     2\n",
       "21     2\n",
       "      ..\n",
       "894    2\n",
       "895    1\n",
       "896    2\n",
       "897    2\n",
       "908    1\n",
       "Name: Q25, Length: 273, dtype: int64"
      ]
     },
     "execution_count": 140,
     "metadata": {},
     "output_type": "execute_result"
    }
   ],
   "source": [
    "Q25_mapping={'Yes':2, 'No':1 }\n",
    "df3['Q25']= df3['Q25'].map(Q25_mapping)\n",
    "df3['Q25']"
   ]
  },
  {
   "cell_type": "code",
   "execution_count": 141,
   "metadata": {},
   "outputs": [
    {
     "data": {
      "text/plain": [
       "array(['Yes', 'No'], dtype=object)"
      ]
     },
     "execution_count": 141,
     "metadata": {},
     "output_type": "execute_result"
    }
   ],
   "source": [
    "df3['Q26'].unique()"
   ]
  },
  {
   "cell_type": "code",
   "execution_count": 142,
   "metadata": {},
   "outputs": [
    {
     "data": {
      "text/plain": [
       "12     2\n",
       "13     1\n",
       "16     1\n",
       "18     2\n",
       "21     2\n",
       "      ..\n",
       "894    2\n",
       "895    2\n",
       "896    2\n",
       "897    2\n",
       "908    2\n",
       "Name: Q26, Length: 273, dtype: int64"
      ]
     },
     "execution_count": 142,
     "metadata": {},
     "output_type": "execute_result"
    }
   ],
   "source": [
    "Q26_mapping={'Yes':2, 'No':1 }\n",
    "df3['Q26']= df3['Q26'].map(Q26_mapping)\n",
    "df3['Q26']"
   ]
  },
  {
   "cell_type": "code",
   "execution_count": 143,
   "metadata": {},
   "outputs": [
    {
     "data": {
      "text/plain": [
       "array(['Yes', 'No'], dtype=object)"
      ]
     },
     "execution_count": 143,
     "metadata": {},
     "output_type": "execute_result"
    }
   ],
   "source": [
    "df3['Q27'].unique()"
   ]
  },
  {
   "cell_type": "code",
   "execution_count": 144,
   "metadata": {},
   "outputs": [
    {
     "data": {
      "text/plain": [
       "12     2\n",
       "13     2\n",
       "16     2\n",
       "18     1\n",
       "21     2\n",
       "      ..\n",
       "894    2\n",
       "895    1\n",
       "896    2\n",
       "897    2\n",
       "908    2\n",
       "Name: Q27, Length: 273, dtype: int64"
      ]
     },
     "execution_count": 144,
     "metadata": {},
     "output_type": "execute_result"
    }
   ],
   "source": [
    "Q27_mapping={'Yes':2, 'No':1 }\n",
    "df3['Q27']= df3['Q27'].map(Q27_mapping)\n",
    "df3['Q27']"
   ]
  },
  {
   "cell_type": "code",
   "execution_count": 145,
   "metadata": {},
   "outputs": [
    {
     "data": {
      "text/plain": [
       "array(['Yes', 'No'], dtype=object)"
      ]
     },
     "execution_count": 145,
     "metadata": {},
     "output_type": "execute_result"
    }
   ],
   "source": [
    "df3['Q28'].unique()"
   ]
  },
  {
   "cell_type": "code",
   "execution_count": 146,
   "metadata": {},
   "outputs": [
    {
     "data": {
      "text/plain": [
       "12     2\n",
       "13     1\n",
       "16     2\n",
       "18     2\n",
       "21     2\n",
       "      ..\n",
       "894    2\n",
       "895    2\n",
       "896    2\n",
       "897    2\n",
       "908    1\n",
       "Name: Q28, Length: 273, dtype: int64"
      ]
     },
     "execution_count": 146,
     "metadata": {},
     "output_type": "execute_result"
    }
   ],
   "source": [
    "Q28_mapping={'Yes':2, 'No':1 }\n",
    "df3['Q28']= df3['Q28'].map(Q28_mapping)\n",
    "df3['Q28']"
   ]
  },
  {
   "cell_type": "code",
   "execution_count": 147,
   "metadata": {},
   "outputs": [
    {
     "data": {
      "text/plain": [
       "array(['Yes', 'No'], dtype=object)"
      ]
     },
     "execution_count": 147,
     "metadata": {},
     "output_type": "execute_result"
    }
   ],
   "source": [
    "df3['Q29'].unique()"
   ]
  },
  {
   "cell_type": "code",
   "execution_count": 148,
   "metadata": {},
   "outputs": [
    {
     "data": {
      "text/plain": [
       "12     2\n",
       "13     2\n",
       "16     2\n",
       "18     2\n",
       "21     1\n",
       "      ..\n",
       "894    2\n",
       "895    1\n",
       "896    2\n",
       "897    2\n",
       "908    2\n",
       "Name: Q29, Length: 273, dtype: int64"
      ]
     },
     "execution_count": 148,
     "metadata": {},
     "output_type": "execute_result"
    }
   ],
   "source": [
    "Q29_mapping={'Yes':2, 'No':1 }\n",
    "df3['Q29']= df3['Q29'].map(Q29_mapping)\n",
    "df3['Q29']"
   ]
  },
  {
   "cell_type": "code",
   "execution_count": 149,
   "metadata": {},
   "outputs": [
    {
     "data": {
      "text/plain": [
       "array(['8', '6', '7', '7.75', '7:15', '6-May', '10', '1.5', '9', '8-Jul',\n",
       "       '7-Jun', '7.5', 'seven', '6.5', '5', '8.5', '10-Aug', '9-Aug',\n",
       "       '5.7', '9-Jul', '4', '7 hours', '7-7.5', '7.3', '8-Jun'],\n",
       "      dtype=object)"
      ]
     },
     "execution_count": 149,
     "metadata": {},
     "output_type": "execute_result"
    }
   ],
   "source": [
    "df3['Q12'].unique()"
   ]
  },
  {
   "cell_type": "code",
   "execution_count": 150,
   "metadata": {},
   "outputs": [
    {
     "data": {
      "text/plain": [
       "12     8\n",
       "13     6\n",
       "16     7\n",
       "18     7\n",
       "21     7\n",
       "      ..\n",
       "894    8\n",
       "895    7\n",
       "896    6\n",
       "897    9\n",
       "908    8\n",
       "Name: Q12, Length: 273, dtype: int64"
      ]
     },
     "execution_count": 150,
     "metadata": {},
     "output_type": "execute_result"
    }
   ],
   "source": [
    "Q12_mapping={'8':8, '6':6, '7':7, '7.75':8, '7:15':7, '6-May':6, '10':10, '1.5':2, '9':9, '8-Jul':8,\n",
    "       '7-Jun':7, '7.5':8, 'seven':7, '6.5':7, '5':5, '8.5':9, '10-Aug':10, '9-Aug':9,\n",
    "       '5.7':6, '9-Jul':9, '4':4, '7 hours':7, '7-7.5':7, '7.3':7, '8-Jun':8}\n",
    "df3['Q12']= df3['Q12'].map(Q12_mapping)\n",
    "df3['Q12']\n"
   ]
  },
  {
   "cell_type": "code",
   "execution_count": 151,
   "metadata": {},
   "outputs": [
    {
     "data": {
      "text/plain": [
       "0"
      ]
     },
     "execution_count": 151,
     "metadata": {},
     "output_type": "execute_result"
    }
   ],
   "source": [
    "# missing values\n",
    "df3['Q12'].isnull().sum()"
   ]
  },
  {
   "cell_type": "code",
   "execution_count": 152,
   "metadata": {},
   "outputs": [
    {
     "data": {
      "text/plain": [
       "array(['9', '5.5', '7', '6', '8', '7:30', '7.5', '6-May', '5-Apr', '4',\n",
       "       '6.5', '5', '4.5', 'seven', '7-Jun', '8-May', '10', 'Na', '8.5',\n",
       "       '9.5', '10-May', '6 (but much more variability)', '6 to 7',\n",
       "       '8-Jul', '8-Jun', '10-Aug', '4.3', '7.45', '3', '7-7.5', '10-Sep'],\n",
       "      dtype=object)"
      ]
     },
     "execution_count": 152,
     "metadata": {},
     "output_type": "execute_result"
    }
   ],
   "source": [
    "df3['Q13'].unique()"
   ]
  },
  {
   "cell_type": "code",
   "execution_count": 153,
   "metadata": {},
   "outputs": [
    {
     "data": {
      "text/plain": [
       "12      9\n",
       "13      5\n",
       "16      7\n",
       "18      7\n",
       "21      6\n",
       "       ..\n",
       "894     8\n",
       "895     8\n",
       "896     7\n",
       "897    10\n",
       "908     8\n",
       "Name: Q13, Length: 273, dtype: int64"
      ]
     },
     "execution_count": 153,
     "metadata": {},
     "output_type": "execute_result"
    }
   ],
   "source": [
    "Q13_mapping={'9':9, '5.5':5, '7':7, '6':6, '8':8, '7:30':8, '7.5':8, '6-May':6, '5-Apr':5, '4':4,\n",
    "       '6.5':7, '5':5, '4.5':5, 'seven':7, '7-Jun':7, '8-May':8, '10':10, 'Na':6, '8.5':9,\n",
    "       '9.5':9, '10-May':10, '6 (but much more variability)':6, '6 to 7':6,\n",
    "       '8-Jul':8, '8-Jun':8, '10-Aug':10, '4.3':5, '7.45':8, '3':3, '7-7.5':7, '10-Sep':10 }\n",
    "df3['Q13']= df3['Q13'].map(Q13_mapping)\n",
    "df3['Q13']"
   ]
  },
  {
   "cell_type": "code",
   "execution_count": 154,
   "metadata": {},
   "outputs": [
    {
     "data": {
      "text/plain": [
       "0"
      ]
     },
     "execution_count": 154,
     "metadata": {},
     "output_type": "execute_result"
    }
   ],
   "source": [
    "# missing values\n",
    "df3['Q13'].isnull().sum()"
   ]
  },
  {
   "cell_type": "code",
   "execution_count": 155,
   "metadata": {},
   "outputs": [
    {
     "data": {
      "text/plain": [
       "array(['2-3 times a week', 'Once a month or less', 'Never',\n",
       "       '2-4 times a month', '4 or more times a week'], dtype=object)"
      ]
     },
     "execution_count": 155,
     "metadata": {},
     "output_type": "execute_result"
    }
   ],
   "source": [
    "df3['Q19'].unique()"
   ]
  },
  {
   "cell_type": "code",
   "execution_count": 156,
   "metadata": {},
   "outputs": [
    {
     "data": {
      "text/plain": [
       "12     3\n",
       "13     3\n",
       "16     3\n",
       "18     2\n",
       "21     2\n",
       "      ..\n",
       "894    2\n",
       "895    3\n",
       "896    4\n",
       "897    4\n",
       "908    3\n",
       "Name: Q19, Length: 273, dtype: int64"
      ]
     },
     "execution_count": 156,
     "metadata": {},
     "output_type": "execute_result"
    }
   ],
   "source": [
    "# Converting the Ordinal Categorical features into integers\n",
    "Q19_mapping={'4 or more times a week':5, '2-4 times a month':4,  '2-3 times a week':3,  'Once a month or less':2, 'Never':1  }\n",
    "df3['Q19']= df3['Q19'].map(Q19_mapping)\n",
    "df3['Q19']"
   ]
  },
  {
   "cell_type": "code",
   "execution_count": 157,
   "metadata": {},
   "outputs": [
    {
     "data": {
      "text/plain": [
       "0"
      ]
     },
     "execution_count": 157,
     "metadata": {},
     "output_type": "execute_result"
    }
   ],
   "source": [
    "# missing values\n",
    "df3['Q19'].isnull().sum()"
   ]
  },
  {
   "cell_type": "code",
   "execution_count": 158,
   "metadata": {},
   "outputs": [
    {
     "data": {
      "text/plain": [
       "array(['4 or more times a week', '2-3 times a week', '2-4 times a month',\n",
       "       'Never', 'Once a month or less'], dtype=object)"
      ]
     },
     "execution_count": 158,
     "metadata": {},
     "output_type": "execute_result"
    }
   ],
   "source": [
    "df3['Q20'].unique()"
   ]
  },
  {
   "cell_type": "code",
   "execution_count": 159,
   "metadata": {},
   "outputs": [
    {
     "data": {
      "text/plain": [
       "12     5\n",
       "13     3\n",
       "16     5\n",
       "18     4\n",
       "21     5\n",
       "      ..\n",
       "894    4\n",
       "895    3\n",
       "896    3\n",
       "897    3\n",
       "908    3\n",
       "Name: Q20, Length: 273, dtype: int64"
      ]
     },
     "execution_count": 159,
     "metadata": {},
     "output_type": "execute_result"
    }
   ],
   "source": [
    "# Converting the Ordinal Categorical features into integers\n",
    "Q20_mapping={'4 or more times a week':5, '2-4 times a month':4,  '2-3 times a week':3,  'Once a month or less':2, 'Never':1  }\n",
    "df3['Q20']= df3['Q20'].map(Q20_mapping)\n",
    "df3['Q20']"
   ]
  },
  {
   "cell_type": "code",
   "execution_count": 160,
   "metadata": {},
   "outputs": [
    {
     "data": {
      "text/plain": [
       "0"
      ]
     },
     "execution_count": 160,
     "metadata": {},
     "output_type": "execute_result"
    }
   ],
   "source": [
    "# missing values\n",
    "df3['Q20'].isnull().sum()"
   ]
  },
  {
   "cell_type": "code",
   "execution_count": 161,
   "metadata": {},
   "outputs": [
    {
     "data": {
      "text/plain": [
       "array(['Never', '2-3 times a week', 'Once a month or less',\n",
       "       '2-4 times a month', '4 or more times a week'], dtype=object)"
      ]
     },
     "execution_count": 161,
     "metadata": {},
     "output_type": "execute_result"
    }
   ],
   "source": [
    "df3['Q21'].unique()"
   ]
  },
  {
   "cell_type": "code",
   "execution_count": 162,
   "metadata": {},
   "outputs": [
    {
     "data": {
      "text/plain": [
       "12     1\n",
       "13     1\n",
       "16     1\n",
       "18     1\n",
       "21     1\n",
       "      ..\n",
       "894    1\n",
       "895    1\n",
       "896    1\n",
       "897    1\n",
       "908    1\n",
       "Name: Q21, Length: 273, dtype: int64"
      ]
     },
     "execution_count": 162,
     "metadata": {},
     "output_type": "execute_result"
    }
   ],
   "source": [
    "# Converting the Ordinal Categorical features into integers\n",
    "Q21_mapping={'4 or more times a week':5, '2-4 times a month':4,  '2-3 times a week':3,  'Once a month or less':2, 'Never':1  }\n",
    "df3['Q21']= df3['Q21'].map(Q21_mapping)\n",
    "df3['Q21']"
   ]
  },
  {
   "cell_type": "code",
   "execution_count": 163,
   "metadata": {},
   "outputs": [
    {
     "data": {
      "text/plain": [
       "0"
      ]
     },
     "execution_count": 163,
     "metadata": {},
     "output_type": "execute_result"
    }
   ],
   "source": [
    "# missing values\n",
    "df3['Q21'].isnull().sum()"
   ]
  },
  {
   "cell_type": "code",
   "execution_count": 164,
   "metadata": {},
   "outputs": [
    {
     "data": {
      "text/plain": [
       "array(['Never', '2-3 times a week', 'Once a month or less',\n",
       "       '2-4 times a month', '4 or more times a week'], dtype=object)"
      ]
     },
     "execution_count": 164,
     "metadata": {},
     "output_type": "execute_result"
    }
   ],
   "source": [
    "# missing values\n",
    "df3['Q21'].isnull().sum()\n",
    "df3['Q22'].unique()"
   ]
  },
  {
   "cell_type": "code",
   "execution_count": 165,
   "metadata": {},
   "outputs": [
    {
     "data": {
      "text/plain": [
       "12     1\n",
       "13     1\n",
       "16     1\n",
       "18     1\n",
       "21     1\n",
       "      ..\n",
       "894    1\n",
       "895    1\n",
       "896    1\n",
       "897    1\n",
       "908    4\n",
       "Name: Q22, Length: 273, dtype: int64"
      ]
     },
     "execution_count": 165,
     "metadata": {},
     "output_type": "execute_result"
    }
   ],
   "source": [
    "# Converting the Ordinal Categorical features into integers\n",
    "Q22_mapping={'4 or more times a week':5, '2-4 times a month':4,  '2-3 times a week':3,  'Once a month or less':2, 'Never':1  }\n",
    "df3['Q22']= df3['Q22'].map(Q22_mapping)\n",
    "df3['Q22']"
   ]
  },
  {
   "cell_type": "code",
   "execution_count": 166,
   "metadata": {},
   "outputs": [
    {
     "data": {
      "text/plain": [
       "0"
      ]
     },
     "execution_count": 166,
     "metadata": {},
     "output_type": "execute_result"
    }
   ],
   "source": [
    "# missing values\n",
    "df3['Q22'].isnull().sum()\n"
   ]
  },
  {
   "cell_type": "code",
   "execution_count": 167,
   "metadata": {},
   "outputs": [
    {
     "data": {
      "text/plain": [
       "array(['0-.5 hour', '1-2 hours', '0.51- 1 hour', '2-3 hours', '3+ hours'],\n",
       "      dtype=object)"
      ]
     },
     "execution_count": 167,
     "metadata": {},
     "output_type": "execute_result"
    }
   ],
   "source": [
    "# missing values\n",
    "df3['Q21'].isnull().sum()\n",
    "df3['Q24'].unique()"
   ]
  },
  {
   "cell_type": "code",
   "execution_count": 168,
   "metadata": {},
   "outputs": [
    {
     "data": {
      "text/plain": [
       "12     1\n",
       "13     2\n",
       "16     3\n",
       "18     2\n",
       "21     2\n",
       "      ..\n",
       "894    4\n",
       "895    1\n",
       "896    5\n",
       "897    4\n",
       "908    2\n",
       "Name: Q24, Length: 273, dtype: int64"
      ]
     },
     "execution_count": 168,
     "metadata": {},
     "output_type": "execute_result"
    }
   ],
   "source": [
    "# Converting the Ordinal Categorical features into integers\n",
    "Q24_mapping={'0-.5 hour':1, '1-2 hours':2, '0.51- 1 hour':3, '2-3 hours':4, '3+ hours':5 }\n",
    "df3['Q24']= df3['Q24'].map(Q24_mapping)\n",
    "df3['Q24']"
   ]
  },
  {
   "cell_type": "code",
   "execution_count": 169,
   "metadata": {},
   "outputs": [
    {
     "data": {
      "text/plain": [
       "0"
      ]
     },
     "execution_count": 169,
     "metadata": {},
     "output_type": "execute_result"
    }
   ],
   "source": [
    "# missing values\n",
    "df3['Q24'].isnull().sum()\n"
   ]
  },
  {
   "cell_type": "code",
   "execution_count": 170,
   "metadata": {},
   "outputs": [
    {
     "data": {
      "text/plain": [
       "array([2, 1], dtype=int64)"
      ]
     },
     "execution_count": 170,
     "metadata": {},
     "output_type": "execute_result"
    }
   ],
   "source": [
    "# missing values\n",
    "df3['Q29'].unique()"
   ]
  },
  {
   "cell_type": "code",
   "execution_count": 171,
   "metadata": {},
   "outputs": [
    {
     "data": {
      "text/plain": [
       "array([1, 2, 0], dtype=int64)"
      ]
     },
     "execution_count": 171,
     "metadata": {},
     "output_type": "execute_result"
    }
   ],
   "source": [
    "df3['Q2'].unique()"
   ]
  },
  {
   "cell_type": "code",
   "execution_count": null,
   "metadata": {},
   "outputs": [],
   "source": []
  },
  {
   "cell_type": "code",
   "execution_count": null,
   "metadata": {},
   "outputs": [],
   "source": []
  },
  {
   "cell_type": "code",
   "execution_count": 172,
   "metadata": {},
   "outputs": [
    {
     "data": {
      "text/html": [
       "<div>\n",
       "<style scoped>\n",
       "    .dataframe tbody tr th:only-of-type {\n",
       "        vertical-align: middle;\n",
       "    }\n",
       "\n",
       "    .dataframe tbody tr th {\n",
       "        vertical-align: top;\n",
       "    }\n",
       "\n",
       "    .dataframe thead th {\n",
       "        text-align: right;\n",
       "    }\n",
       "</style>\n",
       "<table border=\"1\" class=\"dataframe\">\n",
       "  <thead>\n",
       "    <tr style=\"text-align: right;\">\n",
       "      <th></th>\n",
       "      <th>Q1</th>\n",
       "      <th>Q2</th>\n",
       "      <th>Q3</th>\n",
       "      <th>Q8</th>\n",
       "      <th>Q9</th>\n",
       "      <th>Q10</th>\n",
       "      <th>Q11</th>\n",
       "      <th>Q12</th>\n",
       "      <th>Q13</th>\n",
       "      <th>Q14</th>\n",
       "      <th>Q15</th>\n",
       "      <th>Q16</th>\n",
       "      <th>Q17</th>\n",
       "      <th>Q18</th>\n",
       "      <th>Q18a</th>\n",
       "      <th>Q19</th>\n",
       "      <th>Q20</th>\n",
       "      <th>Q21</th>\n",
       "      <th>Q22</th>\n",
       "      <th>Q23</th>\n",
       "      <th>Q24</th>\n",
       "      <th>Q25</th>\n",
       "      <th>Q26</th>\n",
       "      <th>Q27</th>\n",
       "      <th>Q28</th>\n",
       "      <th>Q29</th>\n",
       "    </tr>\n",
       "  </thead>\n",
       "  <tbody>\n",
       "    <tr>\n",
       "      <th>12</th>\n",
       "      <td>4</td>\n",
       "      <td>1</td>\n",
       "      <td>1</td>\n",
       "      <td>2</td>\n",
       "      <td>2</td>\n",
       "      <td>2</td>\n",
       "      <td>1</td>\n",
       "      <td>8</td>\n",
       "      <td>9</td>\n",
       "      <td>2</td>\n",
       "      <td>2</td>\n",
       "      <td>2</td>\n",
       "      <td>1</td>\n",
       "      <td>2</td>\n",
       "      <td>2</td>\n",
       "      <td>3</td>\n",
       "      <td>5</td>\n",
       "      <td>1</td>\n",
       "      <td>1</td>\n",
       "      <td>1</td>\n",
       "      <td>1</td>\n",
       "      <td>2</td>\n",
       "      <td>2</td>\n",
       "      <td>2</td>\n",
       "      <td>2</td>\n",
       "      <td>2</td>\n",
       "    </tr>\n",
       "    <tr>\n",
       "      <th>13</th>\n",
       "      <td>3</td>\n",
       "      <td>2</td>\n",
       "      <td>2</td>\n",
       "      <td>1</td>\n",
       "      <td>2</td>\n",
       "      <td>1</td>\n",
       "      <td>1</td>\n",
       "      <td>6</td>\n",
       "      <td>5</td>\n",
       "      <td>2</td>\n",
       "      <td>1</td>\n",
       "      <td>1</td>\n",
       "      <td>1</td>\n",
       "      <td>2</td>\n",
       "      <td>2</td>\n",
       "      <td>3</td>\n",
       "      <td>3</td>\n",
       "      <td>1</td>\n",
       "      <td>1</td>\n",
       "      <td>2</td>\n",
       "      <td>2</td>\n",
       "      <td>2</td>\n",
       "      <td>1</td>\n",
       "      <td>2</td>\n",
       "      <td>1</td>\n",
       "      <td>2</td>\n",
       "    </tr>\n",
       "    <tr>\n",
       "      <th>16</th>\n",
       "      <td>3</td>\n",
       "      <td>1</td>\n",
       "      <td>1</td>\n",
       "      <td>2</td>\n",
       "      <td>2</td>\n",
       "      <td>2</td>\n",
       "      <td>2</td>\n",
       "      <td>7</td>\n",
       "      <td>7</td>\n",
       "      <td>2</td>\n",
       "      <td>1</td>\n",
       "      <td>2</td>\n",
       "      <td>1</td>\n",
       "      <td>2</td>\n",
       "      <td>2</td>\n",
       "      <td>3</td>\n",
       "      <td>5</td>\n",
       "      <td>1</td>\n",
       "      <td>1</td>\n",
       "      <td>2</td>\n",
       "      <td>3</td>\n",
       "      <td>1</td>\n",
       "      <td>1</td>\n",
       "      <td>2</td>\n",
       "      <td>2</td>\n",
       "      <td>2</td>\n",
       "    </tr>\n",
       "    <tr>\n",
       "      <th>18</th>\n",
       "      <td>2</td>\n",
       "      <td>1</td>\n",
       "      <td>1</td>\n",
       "      <td>2</td>\n",
       "      <td>2</td>\n",
       "      <td>2</td>\n",
       "      <td>2</td>\n",
       "      <td>7</td>\n",
       "      <td>7</td>\n",
       "      <td>1</td>\n",
       "      <td>2</td>\n",
       "      <td>1</td>\n",
       "      <td>1</td>\n",
       "      <td>2</td>\n",
       "      <td>2</td>\n",
       "      <td>2</td>\n",
       "      <td>4</td>\n",
       "      <td>1</td>\n",
       "      <td>1</td>\n",
       "      <td>2</td>\n",
       "      <td>2</td>\n",
       "      <td>2</td>\n",
       "      <td>2</td>\n",
       "      <td>1</td>\n",
       "      <td>2</td>\n",
       "      <td>2</td>\n",
       "    </tr>\n",
       "    <tr>\n",
       "      <th>21</th>\n",
       "      <td>2</td>\n",
       "      <td>1</td>\n",
       "      <td>1</td>\n",
       "      <td>2</td>\n",
       "      <td>2</td>\n",
       "      <td>1</td>\n",
       "      <td>1</td>\n",
       "      <td>7</td>\n",
       "      <td>6</td>\n",
       "      <td>1</td>\n",
       "      <td>1</td>\n",
       "      <td>2</td>\n",
       "      <td>2</td>\n",
       "      <td>2</td>\n",
       "      <td>2</td>\n",
       "      <td>2</td>\n",
       "      <td>5</td>\n",
       "      <td>1</td>\n",
       "      <td>1</td>\n",
       "      <td>2</td>\n",
       "      <td>2</td>\n",
       "      <td>2</td>\n",
       "      <td>2</td>\n",
       "      <td>2</td>\n",
       "      <td>2</td>\n",
       "      <td>1</td>\n",
       "    </tr>\n",
       "    <tr>\n",
       "      <th>...</th>\n",
       "      <td>...</td>\n",
       "      <td>...</td>\n",
       "      <td>...</td>\n",
       "      <td>...</td>\n",
       "      <td>...</td>\n",
       "      <td>...</td>\n",
       "      <td>...</td>\n",
       "      <td>...</td>\n",
       "      <td>...</td>\n",
       "      <td>...</td>\n",
       "      <td>...</td>\n",
       "      <td>...</td>\n",
       "      <td>...</td>\n",
       "      <td>...</td>\n",
       "      <td>...</td>\n",
       "      <td>...</td>\n",
       "      <td>...</td>\n",
       "      <td>...</td>\n",
       "      <td>...</td>\n",
       "      <td>...</td>\n",
       "      <td>...</td>\n",
       "      <td>...</td>\n",
       "      <td>...</td>\n",
       "      <td>...</td>\n",
       "      <td>...</td>\n",
       "      <td>...</td>\n",
       "    </tr>\n",
       "    <tr>\n",
       "      <th>894</th>\n",
       "      <td>2</td>\n",
       "      <td>1</td>\n",
       "      <td>5</td>\n",
       "      <td>2</td>\n",
       "      <td>1</td>\n",
       "      <td>2</td>\n",
       "      <td>1</td>\n",
       "      <td>8</td>\n",
       "      <td>8</td>\n",
       "      <td>1</td>\n",
       "      <td>1</td>\n",
       "      <td>2</td>\n",
       "      <td>1</td>\n",
       "      <td>2</td>\n",
       "      <td>2</td>\n",
       "      <td>2</td>\n",
       "      <td>4</td>\n",
       "      <td>1</td>\n",
       "      <td>1</td>\n",
       "      <td>2</td>\n",
       "      <td>4</td>\n",
       "      <td>2</td>\n",
       "      <td>2</td>\n",
       "      <td>2</td>\n",
       "      <td>2</td>\n",
       "      <td>2</td>\n",
       "    </tr>\n",
       "    <tr>\n",
       "      <th>895</th>\n",
       "      <td>4</td>\n",
       "      <td>2</td>\n",
       "      <td>1</td>\n",
       "      <td>2</td>\n",
       "      <td>2</td>\n",
       "      <td>1</td>\n",
       "      <td>2</td>\n",
       "      <td>7</td>\n",
       "      <td>8</td>\n",
       "      <td>2</td>\n",
       "      <td>2</td>\n",
       "      <td>1</td>\n",
       "      <td>1</td>\n",
       "      <td>2</td>\n",
       "      <td>2</td>\n",
       "      <td>3</td>\n",
       "      <td>3</td>\n",
       "      <td>1</td>\n",
       "      <td>1</td>\n",
       "      <td>1</td>\n",
       "      <td>1</td>\n",
       "      <td>1</td>\n",
       "      <td>2</td>\n",
       "      <td>1</td>\n",
       "      <td>2</td>\n",
       "      <td>1</td>\n",
       "    </tr>\n",
       "    <tr>\n",
       "      <th>896</th>\n",
       "      <td>4</td>\n",
       "      <td>1</td>\n",
       "      <td>19</td>\n",
       "      <td>2</td>\n",
       "      <td>2</td>\n",
       "      <td>1</td>\n",
       "      <td>2</td>\n",
       "      <td>6</td>\n",
       "      <td>7</td>\n",
       "      <td>2</td>\n",
       "      <td>2</td>\n",
       "      <td>2</td>\n",
       "      <td>2</td>\n",
       "      <td>2</td>\n",
       "      <td>2</td>\n",
       "      <td>4</td>\n",
       "      <td>3</td>\n",
       "      <td>1</td>\n",
       "      <td>1</td>\n",
       "      <td>2</td>\n",
       "      <td>5</td>\n",
       "      <td>2</td>\n",
       "      <td>2</td>\n",
       "      <td>2</td>\n",
       "      <td>2</td>\n",
       "      <td>2</td>\n",
       "    </tr>\n",
       "    <tr>\n",
       "      <th>897</th>\n",
       "      <td>5</td>\n",
       "      <td>1</td>\n",
       "      <td>1</td>\n",
       "      <td>1</td>\n",
       "      <td>1</td>\n",
       "      <td>1</td>\n",
       "      <td>1</td>\n",
       "      <td>9</td>\n",
       "      <td>10</td>\n",
       "      <td>2</td>\n",
       "      <td>2</td>\n",
       "      <td>2</td>\n",
       "      <td>1</td>\n",
       "      <td>2</td>\n",
       "      <td>2</td>\n",
       "      <td>4</td>\n",
       "      <td>3</td>\n",
       "      <td>1</td>\n",
       "      <td>1</td>\n",
       "      <td>2</td>\n",
       "      <td>4</td>\n",
       "      <td>2</td>\n",
       "      <td>2</td>\n",
       "      <td>2</td>\n",
       "      <td>2</td>\n",
       "      <td>2</td>\n",
       "    </tr>\n",
       "    <tr>\n",
       "      <th>908</th>\n",
       "      <td>6</td>\n",
       "      <td>1</td>\n",
       "      <td>1</td>\n",
       "      <td>1</td>\n",
       "      <td>1</td>\n",
       "      <td>1</td>\n",
       "      <td>1</td>\n",
       "      <td>8</td>\n",
       "      <td>8</td>\n",
       "      <td>1</td>\n",
       "      <td>2</td>\n",
       "      <td>1</td>\n",
       "      <td>1</td>\n",
       "      <td>2</td>\n",
       "      <td>2</td>\n",
       "      <td>3</td>\n",
       "      <td>3</td>\n",
       "      <td>1</td>\n",
       "      <td>4</td>\n",
       "      <td>2</td>\n",
       "      <td>2</td>\n",
       "      <td>1</td>\n",
       "      <td>2</td>\n",
       "      <td>2</td>\n",
       "      <td>1</td>\n",
       "      <td>2</td>\n",
       "    </tr>\n",
       "  </tbody>\n",
       "</table>\n",
       "<p>273 rows × 26 columns</p>\n",
       "</div>"
      ],
      "text/plain": [
       "     Q1  Q2  Q3  Q8  Q9  Q10  Q11  Q12  Q13  Q14  Q15  Q16  Q17  Q18  Q18a  \\\n",
       "12    4   1   1   2   2    2    1    8    9    2    2    2    1    2     2   \n",
       "13    3   2   2   1   2    1    1    6    5    2    1    1    1    2     2   \n",
       "16    3   1   1   2   2    2    2    7    7    2    1    2    1    2     2   \n",
       "18    2   1   1   2   2    2    2    7    7    1    2    1    1    2     2   \n",
       "21    2   1   1   2   2    1    1    7    6    1    1    2    2    2     2   \n",
       "..   ..  ..  ..  ..  ..  ...  ...  ...  ...  ...  ...  ...  ...  ...   ...   \n",
       "894   2   1   5   2   1    2    1    8    8    1    1    2    1    2     2   \n",
       "895   4   2   1   2   2    1    2    7    8    2    2    1    1    2     2   \n",
       "896   4   1  19   2   2    1    2    6    7    2    2    2    2    2     2   \n",
       "897   5   1   1   1   1    1    1    9   10    2    2    2    1    2     2   \n",
       "908   6   1   1   1   1    1    1    8    8    1    2    1    1    2     2   \n",
       "\n",
       "     Q19  Q20  Q21  Q22  Q23  Q24  Q25  Q26  Q27  Q28  Q29  \n",
       "12     3    5    1    1    1    1    2    2    2    2    2  \n",
       "13     3    3    1    1    2    2    2    1    2    1    2  \n",
       "16     3    5    1    1    2    3    1    1    2    2    2  \n",
       "18     2    4    1    1    2    2    2    2    1    2    2  \n",
       "21     2    5    1    1    2    2    2    2    2    2    1  \n",
       "..   ...  ...  ...  ...  ...  ...  ...  ...  ...  ...  ...  \n",
       "894    2    4    1    1    2    4    2    2    2    2    2  \n",
       "895    3    3    1    1    1    1    1    2    1    2    1  \n",
       "896    4    3    1    1    2    5    2    2    2    2    2  \n",
       "897    4    3    1    1    2    4    2    2    2    2    2  \n",
       "908    3    3    1    4    2    2    1    2    2    1    2  \n",
       "\n",
       "[273 rows x 26 columns]"
      ]
     },
     "execution_count": 172,
     "metadata": {},
     "output_type": "execute_result"
    }
   ],
   "source": [
    "df3"
   ]
  },
  {
   "cell_type": "code",
   "execution_count": 173,
   "metadata": {},
   "outputs": [
    {
     "data": {
      "text/plain": [
       "0"
      ]
     },
     "execution_count": 173,
     "metadata": {},
     "output_type": "execute_result"
    }
   ],
   "source": [
    "# missing values\n",
    "df3['Q1'].isnull().sum()"
   ]
  },
  {
   "cell_type": "code",
   "execution_count": 174,
   "metadata": {},
   "outputs": [
    {
     "data": {
      "text/plain": [
       "0"
      ]
     },
     "execution_count": 174,
     "metadata": {},
     "output_type": "execute_result"
    }
   ],
   "source": [
    "# missing values\n",
    "df3['Q2'].isnull().sum()"
   ]
  },
  {
   "cell_type": "code",
   "execution_count": 175,
   "metadata": {},
   "outputs": [
    {
     "data": {
      "text/plain": [
       "0"
      ]
     },
     "execution_count": 175,
     "metadata": {},
     "output_type": "execute_result"
    }
   ],
   "source": [
    "# missing values\n",
    "df3['Q3'].isnull().sum()"
   ]
  },
  {
   "cell_type": "code",
   "execution_count": 176,
   "metadata": {},
   "outputs": [
    {
     "data": {
      "text/plain": [
       "0"
      ]
     },
     "execution_count": 176,
     "metadata": {},
     "output_type": "execute_result"
    }
   ],
   "source": [
    "# missing values\n",
    "df3['Q8'].isnull().sum()"
   ]
  },
  {
   "cell_type": "code",
   "execution_count": 177,
   "metadata": {},
   "outputs": [
    {
     "data": {
      "text/plain": [
       "0"
      ]
     },
     "execution_count": 177,
     "metadata": {},
     "output_type": "execute_result"
    }
   ],
   "source": [
    "# missing values\n",
    "df3['Q9'].isnull().sum()"
   ]
  },
  {
   "cell_type": "code",
   "execution_count": 178,
   "metadata": {},
   "outputs": [
    {
     "data": {
      "text/plain": [
       "0"
      ]
     },
     "execution_count": 178,
     "metadata": {},
     "output_type": "execute_result"
    }
   ],
   "source": [
    "# missing values\n",
    "df3['Q10'].isnull().sum()"
   ]
  },
  {
   "cell_type": "code",
   "execution_count": 179,
   "metadata": {},
   "outputs": [
    {
     "data": {
      "text/plain": [
       "0"
      ]
     },
     "execution_count": 179,
     "metadata": {},
     "output_type": "execute_result"
    }
   ],
   "source": [
    "# missing values\n",
    "df3['Q11'].isnull().sum()"
   ]
  },
  {
   "cell_type": "code",
   "execution_count": 180,
   "metadata": {},
   "outputs": [
    {
     "data": {
      "text/plain": [
       "0"
      ]
     },
     "execution_count": 180,
     "metadata": {},
     "output_type": "execute_result"
    }
   ],
   "source": [
    "# missing values\n",
    "df3['Q12'].isnull().sum()"
   ]
  },
  {
   "cell_type": "code",
   "execution_count": 181,
   "metadata": {},
   "outputs": [
    {
     "data": {
      "text/plain": [
       "0"
      ]
     },
     "execution_count": 181,
     "metadata": {},
     "output_type": "execute_result"
    }
   ],
   "source": [
    "# missing values\n",
    "df3['Q13'].isnull().sum()"
   ]
  },
  {
   "cell_type": "code",
   "execution_count": 182,
   "metadata": {},
   "outputs": [
    {
     "data": {
      "text/plain": [
       "0"
      ]
     },
     "execution_count": 182,
     "metadata": {},
     "output_type": "execute_result"
    }
   ],
   "source": [
    "# missing values\n",
    "df3['Q14'].isnull().sum()"
   ]
  },
  {
   "cell_type": "code",
   "execution_count": 183,
   "metadata": {},
   "outputs": [
    {
     "data": {
      "text/plain": [
       "0"
      ]
     },
     "execution_count": 183,
     "metadata": {},
     "output_type": "execute_result"
    }
   ],
   "source": [
    "# missing values\n",
    "df3['Q15'].isnull().sum()"
   ]
  },
  {
   "cell_type": "code",
   "execution_count": 184,
   "metadata": {},
   "outputs": [
    {
     "data": {
      "text/plain": [
       "0"
      ]
     },
     "execution_count": 184,
     "metadata": {},
     "output_type": "execute_result"
    }
   ],
   "source": [
    "# missing values\n",
    "df3['Q16'].isnull().sum()"
   ]
  },
  {
   "cell_type": "code",
   "execution_count": 185,
   "metadata": {},
   "outputs": [
    {
     "data": {
      "text/plain": [
       "0"
      ]
     },
     "execution_count": 185,
     "metadata": {},
     "output_type": "execute_result"
    }
   ],
   "source": [
    "# missing values\n",
    "df3['Q17'].isnull().sum()"
   ]
  },
  {
   "cell_type": "code",
   "execution_count": 186,
   "metadata": {},
   "outputs": [
    {
     "data": {
      "text/plain": [
       "0"
      ]
     },
     "execution_count": 186,
     "metadata": {},
     "output_type": "execute_result"
    }
   ],
   "source": [
    "# missing values\n",
    "df3['Q18'].isnull().sum()"
   ]
  },
  {
   "cell_type": "code",
   "execution_count": 187,
   "metadata": {},
   "outputs": [
    {
     "data": {
      "text/plain": [
       "0"
      ]
     },
     "execution_count": 187,
     "metadata": {},
     "output_type": "execute_result"
    }
   ],
   "source": [
    "# missing values\n",
    "df3['Q19'].isnull().sum()"
   ]
  },
  {
   "cell_type": "code",
   "execution_count": 188,
   "metadata": {},
   "outputs": [
    {
     "data": {
      "text/plain": [
       "0"
      ]
     },
     "execution_count": 188,
     "metadata": {},
     "output_type": "execute_result"
    }
   ],
   "source": [
    "# missing values\n",
    "df3['Q20'].isnull().sum()"
   ]
  },
  {
   "cell_type": "code",
   "execution_count": 189,
   "metadata": {},
   "outputs": [
    {
     "data": {
      "text/plain": [
       "0"
      ]
     },
     "execution_count": 189,
     "metadata": {},
     "output_type": "execute_result"
    }
   ],
   "source": [
    "# missing values\n",
    "df3['Q21'].isnull().sum()"
   ]
  },
  {
   "cell_type": "code",
   "execution_count": 190,
   "metadata": {},
   "outputs": [
    {
     "data": {
      "text/plain": [
       "0"
      ]
     },
     "execution_count": 190,
     "metadata": {},
     "output_type": "execute_result"
    }
   ],
   "source": [
    "# missing values\n",
    "df3['Q22'].isnull().sum()"
   ]
  },
  {
   "cell_type": "code",
   "execution_count": 191,
   "metadata": {},
   "outputs": [
    {
     "data": {
      "text/plain": [
       "0"
      ]
     },
     "execution_count": 191,
     "metadata": {},
     "output_type": "execute_result"
    }
   ],
   "source": [
    "# missing values\n",
    "df3['Q23'].isnull().sum()"
   ]
  },
  {
   "cell_type": "code",
   "execution_count": 192,
   "metadata": {},
   "outputs": [
    {
     "data": {
      "text/plain": [
       "0"
      ]
     },
     "execution_count": 192,
     "metadata": {},
     "output_type": "execute_result"
    }
   ],
   "source": [
    "# missing values\n",
    "df3['Q24'].isnull().sum()"
   ]
  },
  {
   "cell_type": "code",
   "execution_count": 193,
   "metadata": {},
   "outputs": [
    {
     "data": {
      "text/plain": [
       "0"
      ]
     },
     "execution_count": 193,
     "metadata": {},
     "output_type": "execute_result"
    }
   ],
   "source": [
    "# missing values\n",
    "df3['Q25'].isnull().sum()"
   ]
  },
  {
   "cell_type": "code",
   "execution_count": 194,
   "metadata": {},
   "outputs": [
    {
     "data": {
      "text/plain": [
       "0"
      ]
     },
     "execution_count": 194,
     "metadata": {},
     "output_type": "execute_result"
    }
   ],
   "source": [
    "# missing values\n",
    "df3['Q26'].isnull().sum()"
   ]
  },
  {
   "cell_type": "code",
   "execution_count": 195,
   "metadata": {},
   "outputs": [
    {
     "data": {
      "text/plain": [
       "0"
      ]
     },
     "execution_count": 195,
     "metadata": {},
     "output_type": "execute_result"
    }
   ],
   "source": [
    "# missing values\n",
    "df3['Q27'].isnull().sum()"
   ]
  },
  {
   "cell_type": "code",
   "execution_count": 196,
   "metadata": {},
   "outputs": [
    {
     "data": {
      "text/plain": [
       "0"
      ]
     },
     "execution_count": 196,
     "metadata": {},
     "output_type": "execute_result"
    }
   ],
   "source": [
    "# missing values\n",
    "df3['Q28'].isnull().sum()"
   ]
  },
  {
   "cell_type": "code",
   "execution_count": 197,
   "metadata": {},
   "outputs": [
    {
     "data": {
      "text/plain": [
       "0"
      ]
     },
     "execution_count": 197,
     "metadata": {},
     "output_type": "execute_result"
    }
   ],
   "source": [
    "# missing values\n",
    "df3['Q29'].isnull().sum()"
   ]
  },
  {
   "cell_type": "code",
   "execution_count": 198,
   "metadata": {},
   "outputs": [
    {
     "data": {
      "text/plain": [
       "0"
      ]
     },
     "execution_count": 198,
     "metadata": {},
     "output_type": "execute_result"
    }
   ],
   "source": [
    "# missing values\n",
    "df3['Q18a'].isnull().sum()"
   ]
  },
  {
   "cell_type": "code",
   "execution_count": 199,
   "metadata": {},
   "outputs": [
    {
     "data": {
      "text/plain": [
       "0"
      ]
     },
     "execution_count": 199,
     "metadata": {},
     "output_type": "execute_result"
    }
   ],
   "source": [
    "# missing values\n",
    "df3['Q29'].isnull().sum()"
   ]
  },
  {
   "cell_type": "code",
   "execution_count": 200,
   "metadata": {},
   "outputs": [],
   "source": [
    "df4=df3"
   ]
  },
  {
   "cell_type": "code",
   "execution_count": 201,
   "metadata": {},
   "outputs": [
    {
     "data": {
      "text/plain": [
       "(273, 26)"
      ]
     },
     "execution_count": 201,
     "metadata": {},
     "output_type": "execute_result"
    }
   ],
   "source": [
    "df4.shape"
   ]
  },
  {
   "cell_type": "code",
   "execution_count": 202,
   "metadata": {},
   "outputs": [
    {
     "data": {
      "text/plain": [
       "Q1      0\n",
       "Q2      0\n",
       "Q3      0\n",
       "Q8      0\n",
       "Q9      0\n",
       "Q10     0\n",
       "Q11     0\n",
       "Q12     0\n",
       "Q13     0\n",
       "Q14     0\n",
       "Q15     0\n",
       "Q16     0\n",
       "Q17     0\n",
       "Q18     0\n",
       "Q18a    0\n",
       "Q19     0\n",
       "Q20     0\n",
       "Q21     0\n",
       "Q22     0\n",
       "Q23     0\n",
       "Q24     0\n",
       "Q25     0\n",
       "Q26     0\n",
       "Q27     0\n",
       "Q28     0\n",
       "Q29     0\n",
       "dtype: int64"
      ]
     },
     "execution_count": 202,
     "metadata": {},
     "output_type": "execute_result"
    }
   ],
   "source": [
    "# missing values\n",
    "df4.isnull().sum()"
   ]
  },
  {
   "cell_type": "code",
   "execution_count": 203,
   "metadata": {},
   "outputs": [],
   "source": [
    "# create excel writer object\n",
    "writer = pd.ExcelWriter('covidreasearchthesecondpaper.xlsx')\n",
    "# write dataframe to excel\n",
    "df4.to_excel(writer)\n",
    "# save the excel\n",
    "writer.save()"
   ]
  },
  {
   "cell_type": "code",
   "execution_count": null,
   "metadata": {},
   "outputs": [],
   "source": []
  },
  {
   "cell_type": "code",
   "execution_count": 204,
   "metadata": {},
   "outputs": [
    {
     "name": "stdout",
     "output_type": "stream",
     "text": [
      "Q1      int64\n",
      "Q2      int64\n",
      "Q3      int64\n",
      "Q8      int64\n",
      "Q9      int64\n",
      "Q10     int64\n",
      "Q11     int64\n",
      "Q12     int64\n",
      "Q13     int64\n",
      "Q14     int64\n",
      "Q15     int64\n",
      "Q16     int64\n",
      "Q17     int64\n",
      "Q18     int64\n",
      "Q18a    int64\n",
      "Q19     int64\n",
      "Q20     int64\n",
      "Q21     int64\n",
      "Q22     int64\n",
      "Q23     int64\n",
      "Q24     int64\n",
      "Q25     int64\n",
      "Q26     int64\n",
      "Q27     int64\n",
      "Q28     int64\n",
      "Q29     int64\n",
      "dtype: object\n"
     ]
    }
   ],
   "source": [
    "print(df4.dtypes)"
   ]
  },
  {
   "cell_type": "code",
   "execution_count": null,
   "metadata": {},
   "outputs": [],
   "source": []
  },
  {
   "cell_type": "code",
   "execution_count": null,
   "metadata": {},
   "outputs": [],
   "source": []
  },
  {
   "cell_type": "code",
   "execution_count": null,
   "metadata": {},
   "outputs": [],
   "source": []
  },
  {
   "cell_type": "markdown",
   "metadata": {},
   "source": [
    "The Dataset Has been Extracted"
   ]
  },
  {
   "cell_type": "code",
   "execution_count": null,
   "metadata": {},
   "outputs": [],
   "source": []
  },
  {
   "cell_type": "code",
   "execution_count": 205,
   "metadata": {},
   "outputs": [
    {
     "data": {
      "text/html": [
       "<div>\n",
       "<style scoped>\n",
       "    .dataframe tbody tr th:only-of-type {\n",
       "        vertical-align: middle;\n",
       "    }\n",
       "\n",
       "    .dataframe tbody tr th {\n",
       "        vertical-align: top;\n",
       "    }\n",
       "\n",
       "    .dataframe thead th {\n",
       "        text-align: right;\n",
       "    }\n",
       "</style>\n",
       "<table border=\"1\" class=\"dataframe\">\n",
       "  <thead>\n",
       "    <tr style=\"text-align: right;\">\n",
       "      <th></th>\n",
       "      <th>Q1</th>\n",
       "      <th>Q2</th>\n",
       "      <th>Q3</th>\n",
       "      <th>Q8</th>\n",
       "      <th>Q9</th>\n",
       "      <th>Q10</th>\n",
       "      <th>Q11</th>\n",
       "      <th>Q12</th>\n",
       "      <th>Q13</th>\n",
       "      <th>Q14</th>\n",
       "      <th>Q15</th>\n",
       "      <th>Q16</th>\n",
       "      <th>Q17</th>\n",
       "      <th>Q18</th>\n",
       "      <th>Q18a</th>\n",
       "      <th>Q19</th>\n",
       "      <th>Q20</th>\n",
       "      <th>Q21</th>\n",
       "      <th>Q22</th>\n",
       "      <th>Q23</th>\n",
       "      <th>Q24</th>\n",
       "      <th>Q25</th>\n",
       "      <th>Q26</th>\n",
       "      <th>Q27</th>\n",
       "      <th>Q28</th>\n",
       "      <th>Q29</th>\n",
       "    </tr>\n",
       "  </thead>\n",
       "  <tbody>\n",
       "    <tr>\n",
       "      <th>12</th>\n",
       "      <td>4</td>\n",
       "      <td>1</td>\n",
       "      <td>1</td>\n",
       "      <td>2</td>\n",
       "      <td>2</td>\n",
       "      <td>2</td>\n",
       "      <td>1</td>\n",
       "      <td>8</td>\n",
       "      <td>9</td>\n",
       "      <td>2</td>\n",
       "      <td>2</td>\n",
       "      <td>2</td>\n",
       "      <td>1</td>\n",
       "      <td>2</td>\n",
       "      <td>2</td>\n",
       "      <td>3</td>\n",
       "      <td>5</td>\n",
       "      <td>1</td>\n",
       "      <td>1</td>\n",
       "      <td>1</td>\n",
       "      <td>1</td>\n",
       "      <td>2</td>\n",
       "      <td>2</td>\n",
       "      <td>2</td>\n",
       "      <td>2</td>\n",
       "      <td>2</td>\n",
       "    </tr>\n",
       "    <tr>\n",
       "      <th>13</th>\n",
       "      <td>3</td>\n",
       "      <td>2</td>\n",
       "      <td>2</td>\n",
       "      <td>1</td>\n",
       "      <td>2</td>\n",
       "      <td>1</td>\n",
       "      <td>1</td>\n",
       "      <td>6</td>\n",
       "      <td>5</td>\n",
       "      <td>2</td>\n",
       "      <td>1</td>\n",
       "      <td>1</td>\n",
       "      <td>1</td>\n",
       "      <td>2</td>\n",
       "      <td>2</td>\n",
       "      <td>3</td>\n",
       "      <td>3</td>\n",
       "      <td>1</td>\n",
       "      <td>1</td>\n",
       "      <td>2</td>\n",
       "      <td>2</td>\n",
       "      <td>2</td>\n",
       "      <td>1</td>\n",
       "      <td>2</td>\n",
       "      <td>1</td>\n",
       "      <td>2</td>\n",
       "    </tr>\n",
       "    <tr>\n",
       "      <th>16</th>\n",
       "      <td>3</td>\n",
       "      <td>1</td>\n",
       "      <td>1</td>\n",
       "      <td>2</td>\n",
       "      <td>2</td>\n",
       "      <td>2</td>\n",
       "      <td>2</td>\n",
       "      <td>7</td>\n",
       "      <td>7</td>\n",
       "      <td>2</td>\n",
       "      <td>1</td>\n",
       "      <td>2</td>\n",
       "      <td>1</td>\n",
       "      <td>2</td>\n",
       "      <td>2</td>\n",
       "      <td>3</td>\n",
       "      <td>5</td>\n",
       "      <td>1</td>\n",
       "      <td>1</td>\n",
       "      <td>2</td>\n",
       "      <td>3</td>\n",
       "      <td>1</td>\n",
       "      <td>1</td>\n",
       "      <td>2</td>\n",
       "      <td>2</td>\n",
       "      <td>2</td>\n",
       "    </tr>\n",
       "    <tr>\n",
       "      <th>18</th>\n",
       "      <td>2</td>\n",
       "      <td>1</td>\n",
       "      <td>1</td>\n",
       "      <td>2</td>\n",
       "      <td>2</td>\n",
       "      <td>2</td>\n",
       "      <td>2</td>\n",
       "      <td>7</td>\n",
       "      <td>7</td>\n",
       "      <td>1</td>\n",
       "      <td>2</td>\n",
       "      <td>1</td>\n",
       "      <td>1</td>\n",
       "      <td>2</td>\n",
       "      <td>2</td>\n",
       "      <td>2</td>\n",
       "      <td>4</td>\n",
       "      <td>1</td>\n",
       "      <td>1</td>\n",
       "      <td>2</td>\n",
       "      <td>2</td>\n",
       "      <td>2</td>\n",
       "      <td>2</td>\n",
       "      <td>1</td>\n",
       "      <td>2</td>\n",
       "      <td>2</td>\n",
       "    </tr>\n",
       "    <tr>\n",
       "      <th>21</th>\n",
       "      <td>2</td>\n",
       "      <td>1</td>\n",
       "      <td>1</td>\n",
       "      <td>2</td>\n",
       "      <td>2</td>\n",
       "      <td>1</td>\n",
       "      <td>1</td>\n",
       "      <td>7</td>\n",
       "      <td>6</td>\n",
       "      <td>1</td>\n",
       "      <td>1</td>\n",
       "      <td>2</td>\n",
       "      <td>2</td>\n",
       "      <td>2</td>\n",
       "      <td>2</td>\n",
       "      <td>2</td>\n",
       "      <td>5</td>\n",
       "      <td>1</td>\n",
       "      <td>1</td>\n",
       "      <td>2</td>\n",
       "      <td>2</td>\n",
       "      <td>2</td>\n",
       "      <td>2</td>\n",
       "      <td>2</td>\n",
       "      <td>2</td>\n",
       "      <td>1</td>\n",
       "    </tr>\n",
       "    <tr>\n",
       "      <th>...</th>\n",
       "      <td>...</td>\n",
       "      <td>...</td>\n",
       "      <td>...</td>\n",
       "      <td>...</td>\n",
       "      <td>...</td>\n",
       "      <td>...</td>\n",
       "      <td>...</td>\n",
       "      <td>...</td>\n",
       "      <td>...</td>\n",
       "      <td>...</td>\n",
       "      <td>...</td>\n",
       "      <td>...</td>\n",
       "      <td>...</td>\n",
       "      <td>...</td>\n",
       "      <td>...</td>\n",
       "      <td>...</td>\n",
       "      <td>...</td>\n",
       "      <td>...</td>\n",
       "      <td>...</td>\n",
       "      <td>...</td>\n",
       "      <td>...</td>\n",
       "      <td>...</td>\n",
       "      <td>...</td>\n",
       "      <td>...</td>\n",
       "      <td>...</td>\n",
       "      <td>...</td>\n",
       "    </tr>\n",
       "    <tr>\n",
       "      <th>894</th>\n",
       "      <td>2</td>\n",
       "      <td>1</td>\n",
       "      <td>5</td>\n",
       "      <td>2</td>\n",
       "      <td>1</td>\n",
       "      <td>2</td>\n",
       "      <td>1</td>\n",
       "      <td>8</td>\n",
       "      <td>8</td>\n",
       "      <td>1</td>\n",
       "      <td>1</td>\n",
       "      <td>2</td>\n",
       "      <td>1</td>\n",
       "      <td>2</td>\n",
       "      <td>2</td>\n",
       "      <td>2</td>\n",
       "      <td>4</td>\n",
       "      <td>1</td>\n",
       "      <td>1</td>\n",
       "      <td>2</td>\n",
       "      <td>4</td>\n",
       "      <td>2</td>\n",
       "      <td>2</td>\n",
       "      <td>2</td>\n",
       "      <td>2</td>\n",
       "      <td>2</td>\n",
       "    </tr>\n",
       "    <tr>\n",
       "      <th>895</th>\n",
       "      <td>4</td>\n",
       "      <td>2</td>\n",
       "      <td>1</td>\n",
       "      <td>2</td>\n",
       "      <td>2</td>\n",
       "      <td>1</td>\n",
       "      <td>2</td>\n",
       "      <td>7</td>\n",
       "      <td>8</td>\n",
       "      <td>2</td>\n",
       "      <td>2</td>\n",
       "      <td>1</td>\n",
       "      <td>1</td>\n",
       "      <td>2</td>\n",
       "      <td>2</td>\n",
       "      <td>3</td>\n",
       "      <td>3</td>\n",
       "      <td>1</td>\n",
       "      <td>1</td>\n",
       "      <td>1</td>\n",
       "      <td>1</td>\n",
       "      <td>1</td>\n",
       "      <td>2</td>\n",
       "      <td>1</td>\n",
       "      <td>2</td>\n",
       "      <td>1</td>\n",
       "    </tr>\n",
       "    <tr>\n",
       "      <th>896</th>\n",
       "      <td>4</td>\n",
       "      <td>1</td>\n",
       "      <td>19</td>\n",
       "      <td>2</td>\n",
       "      <td>2</td>\n",
       "      <td>1</td>\n",
       "      <td>2</td>\n",
       "      <td>6</td>\n",
       "      <td>7</td>\n",
       "      <td>2</td>\n",
       "      <td>2</td>\n",
       "      <td>2</td>\n",
       "      <td>2</td>\n",
       "      <td>2</td>\n",
       "      <td>2</td>\n",
       "      <td>4</td>\n",
       "      <td>3</td>\n",
       "      <td>1</td>\n",
       "      <td>1</td>\n",
       "      <td>2</td>\n",
       "      <td>5</td>\n",
       "      <td>2</td>\n",
       "      <td>2</td>\n",
       "      <td>2</td>\n",
       "      <td>2</td>\n",
       "      <td>2</td>\n",
       "    </tr>\n",
       "    <tr>\n",
       "      <th>897</th>\n",
       "      <td>5</td>\n",
       "      <td>1</td>\n",
       "      <td>1</td>\n",
       "      <td>1</td>\n",
       "      <td>1</td>\n",
       "      <td>1</td>\n",
       "      <td>1</td>\n",
       "      <td>9</td>\n",
       "      <td>10</td>\n",
       "      <td>2</td>\n",
       "      <td>2</td>\n",
       "      <td>2</td>\n",
       "      <td>1</td>\n",
       "      <td>2</td>\n",
       "      <td>2</td>\n",
       "      <td>4</td>\n",
       "      <td>3</td>\n",
       "      <td>1</td>\n",
       "      <td>1</td>\n",
       "      <td>2</td>\n",
       "      <td>4</td>\n",
       "      <td>2</td>\n",
       "      <td>2</td>\n",
       "      <td>2</td>\n",
       "      <td>2</td>\n",
       "      <td>2</td>\n",
       "    </tr>\n",
       "    <tr>\n",
       "      <th>908</th>\n",
       "      <td>6</td>\n",
       "      <td>1</td>\n",
       "      <td>1</td>\n",
       "      <td>1</td>\n",
       "      <td>1</td>\n",
       "      <td>1</td>\n",
       "      <td>1</td>\n",
       "      <td>8</td>\n",
       "      <td>8</td>\n",
       "      <td>1</td>\n",
       "      <td>2</td>\n",
       "      <td>1</td>\n",
       "      <td>1</td>\n",
       "      <td>2</td>\n",
       "      <td>2</td>\n",
       "      <td>3</td>\n",
       "      <td>3</td>\n",
       "      <td>1</td>\n",
       "      <td>4</td>\n",
       "      <td>2</td>\n",
       "      <td>2</td>\n",
       "      <td>1</td>\n",
       "      <td>2</td>\n",
       "      <td>2</td>\n",
       "      <td>1</td>\n",
       "      <td>2</td>\n",
       "    </tr>\n",
       "  </tbody>\n",
       "</table>\n",
       "<p>273 rows × 26 columns</p>\n",
       "</div>"
      ],
      "text/plain": [
       "     Q1  Q2  Q3  Q8  Q9  Q10  Q11  Q12  Q13  Q14  Q15  Q16  Q17  Q18  Q18a  \\\n",
       "12    4   1   1   2   2    2    1    8    9    2    2    2    1    2     2   \n",
       "13    3   2   2   1   2    1    1    6    5    2    1    1    1    2     2   \n",
       "16    3   1   1   2   2    2    2    7    7    2    1    2    1    2     2   \n",
       "18    2   1   1   2   2    2    2    7    7    1    2    1    1    2     2   \n",
       "21    2   1   1   2   2    1    1    7    6    1    1    2    2    2     2   \n",
       "..   ..  ..  ..  ..  ..  ...  ...  ...  ...  ...  ...  ...  ...  ...   ...   \n",
       "894   2   1   5   2   1    2    1    8    8    1    1    2    1    2     2   \n",
       "895   4   2   1   2   2    1    2    7    8    2    2    1    1    2     2   \n",
       "896   4   1  19   2   2    1    2    6    7    2    2    2    2    2     2   \n",
       "897   5   1   1   1   1    1    1    9   10    2    2    2    1    2     2   \n",
       "908   6   1   1   1   1    1    1    8    8    1    2    1    1    2     2   \n",
       "\n",
       "     Q19  Q20  Q21  Q22  Q23  Q24  Q25  Q26  Q27  Q28  Q29  \n",
       "12     3    5    1    1    1    1    2    2    2    2    2  \n",
       "13     3    3    1    1    2    2    2    1    2    1    2  \n",
       "16     3    5    1    1    2    3    1    1    2    2    2  \n",
       "18     2    4    1    1    2    2    2    2    1    2    2  \n",
       "21     2    5    1    1    2    2    2    2    2    2    1  \n",
       "..   ...  ...  ...  ...  ...  ...  ...  ...  ...  ...  ...  \n",
       "894    2    4    1    1    2    4    2    2    2    2    2  \n",
       "895    3    3    1    1    1    1    1    2    1    2    1  \n",
       "896    4    3    1    1    2    5    2    2    2    2    2  \n",
       "897    4    3    1    1    2    4    2    2    2    2    2  \n",
       "908    3    3    1    4    2    2    1    2    2    1    2  \n",
       "\n",
       "[273 rows x 26 columns]"
      ]
     },
     "execution_count": 205,
     "metadata": {},
     "output_type": "execute_result"
    }
   ],
   "source": [
    "# load dataset\n",
    "data=pd.read_csv(\"covidreasearchthesecondpaper.csv\", index_col =0 )\n",
    "data"
   ]
  },
  {
   "cell_type": "code",
   "execution_count": 206,
   "metadata": {},
   "outputs": [],
   "source": [
    "df4=data"
   ]
  },
  {
   "cell_type": "markdown",
   "metadata": {},
   "source": [
    "Chi-Squared Test"
   ]
  },
  {
   "cell_type": "code",
   "execution_count": 207,
   "metadata": {},
   "outputs": [],
   "source": [
    "from bioinfokit.analys import stat, get_data"
   ]
  },
  {
   "cell_type": "code",
   "execution_count": 208,
   "metadata": {},
   "outputs": [],
   "source": [
    "res = stat()"
   ]
  },
  {
   "cell_type": "code",
   "execution_count": 209,
   "metadata": {},
   "outputs": [],
   "source": [
    "from scipy.stats import chi2_contingency\n",
    "from scipy.stats import chi2"
   ]
  },
  {
   "cell_type": "code",
   "execution_count": 210,
   "metadata": {},
   "outputs": [
    {
     "name": "stdout",
     "output_type": "stream",
     "text": [
      "Q1      int64\n",
      "Q2      int64\n",
      "Q3      int64\n",
      "Q8      int64\n",
      "Q9      int64\n",
      "Q10     int64\n",
      "Q11     int64\n",
      "Q12     int64\n",
      "Q13     int64\n",
      "Q14     int64\n",
      "Q15     int64\n",
      "Q16     int64\n",
      "Q17     int64\n",
      "Q18     int64\n",
      "Q18a    int64\n",
      "Q19     int64\n",
      "Q20     int64\n",
      "Q21     int64\n",
      "Q22     int64\n",
      "Q23     int64\n",
      "Q24     int64\n",
      "Q25     int64\n",
      "Q26     int64\n",
      "Q27     int64\n",
      "Q28     int64\n",
      "Q29     int64\n",
      "dtype: object\n"
     ]
    }
   ],
   "source": [
    "print(df4.dtypes)"
   ]
  },
  {
   "cell_type": "code",
   "execution_count": 211,
   "metadata": {},
   "outputs": [
    {
     "name": "stdout",
     "output_type": "stream",
     "text": [
      "Q1     2   3   4   5   6  7  8\n",
      "Q18a                          \n",
      "1      6   8  10   7   4  2  1\n",
      "2     35  81  55  37  24  3  0\n"
     ]
    }
   ],
   "source": [
    "# Constructing Contingency Table\n",
    "Q18aQ1 = pd.crosstab(df4['Q18a'],df4['Q1'],margins = False)\n",
    "table= Q18aQ1\n",
    "print(Q18aQ1)"
   ]
  },
  {
   "cell_type": "code",
   "execution_count": 212,
   "metadata": {},
   "outputs": [
    {
     "name": "stdout",
     "output_type": "stream",
     "text": [
      "dof=6\n",
      "[[ 5.70695971 12.38827839  9.04761905  6.12454212  3.8974359   0.6959707\n",
      "   0.13919414]\n",
      " [35.29304029 76.61172161 55.95238095 37.87545788 24.1025641   4.3040293\n",
      "   0.86080586]]\n",
      "probability=0.950, critical=12.592, stat=11.111\n",
      "Independent (fail to reject H0)\n",
      "significance=0.050, p=0.085\n",
      "Independent (fail to reject H0)\n"
     ]
    }
   ],
   "source": [
    "stat, p, dof, expected = chi2_contingency(table)\n",
    "print('dof=%d' % dof)\n",
    "print(expected)\n",
    "# interpret test-statistic\n",
    "prob = 0.95\n",
    "critical = chi2.ppf(prob, dof)\n",
    "print('probability=%.3f, critical=%.3f, stat=%.3f' % (prob, critical, stat))\n",
    "if abs(stat) >= critical:\n",
    "    print('Dependent (reject H0)')\n",
    "else:\n",
    "    print('Independent (fail to reject H0)')\n",
    "# interpret p-value\n",
    "alpha = 1.0 - prob\n",
    "print('significance=%.3f, p=%.3f' % (alpha, p))\n",
    "if p <= alpha:\n",
    "    print('Dependent (reject H0)')\n",
    "else:\n",
    "    print('Independent (fail to reject H0)')"
   ]
  },
  {
   "cell_type": "code",
   "execution_count": 213,
   "metadata": {},
   "outputs": [
    {
     "name": "stdout",
     "output_type": "stream",
     "text": [
      "Q2    0    1   2\n",
      "Q18a            \n",
      "1     0   26  12\n",
      "2     1  192  42\n",
      "dof=2\n",
      "[[1.39194139e-01 3.03443223e+01 7.51648352e+00]\n",
      " [8.60805861e-01 1.87655678e+02 4.64835165e+01]]\n",
      "probability=0.950, critical=5.991, stat=3.991\n",
      "Independent (fail to reject H0)\n",
      "significance=0.050, p=0.136\n",
      "Independent (fail to reject H0)\n"
     ]
    }
   ],
   "source": [
    "# Constructing Contingency Table\n",
    "Q18aQ2 = pd.crosstab(df4['Q18a'],df4['Q2'],margins = False)\n",
    "table= Q18aQ2\n",
    "print(Q18aQ2)\n",
    "stat, p, dof, expected = chi2_contingency(table)\n",
    "print('dof=%d' % dof)\n",
    "print(expected)\n",
    "# interpret test-statistic\n",
    "prob = 0.95\n",
    "critical = chi2.ppf(prob, dof)\n",
    "print('probability=%.3f, critical=%.3f, stat=%.3f' % (prob, critical, stat))\n",
    "if abs(stat) >= critical:\n",
    "    print('Dependent (reject H0)')\n",
    "else:\n",
    "    print('Independent (fail to reject H0)')\n",
    "# interpret p-value\n",
    "alpha = 1.0 - prob\n",
    "print('significance=%.3f, p=%.3f' % (alpha, p))\n",
    "if p <= alpha:\n",
    "    print('Dependent (reject H0)')\n",
    "else:\n",
    "    print('Independent (fail to reject H0)')"
   ]
  },
  {
   "cell_type": "code",
   "execution_count": 214,
   "metadata": {},
   "outputs": [
    {
     "name": "stdout",
     "output_type": "stream",
     "text": [
      "Q3     1   2   3   4   5   7   8   9   10  11  12  14  15  16  17  19  20  21  \\\n",
      "Q18a                                                                            \n",
      "1      24   0   1   1   0   1   0   1   0   0   0   0   2   0   0   1   5   1   \n",
      "2     173   1   1   4   5   7   1   1   2   4   2   2   3   2   1   5   6   3   \n",
      "\n",
      "Q3    23  24  25  26  29  31  32  33  35  39  41  \n",
      "Q18a                                              \n",
      "1      0   0   1   0   0   0   0   0   0   0   0  \n",
      "2      1   1   0   2   1   1   1   2   1   1   1  \n",
      "dof=28\n",
      "[[2.74212454e+01 1.39194139e-01 2.78388278e-01 6.95970696e-01\n",
      "  6.95970696e-01 1.11355311e+00 1.39194139e-01 2.78388278e-01\n",
      "  2.78388278e-01 5.56776557e-01 2.78388278e-01 2.78388278e-01\n",
      "  6.95970696e-01 2.78388278e-01 1.39194139e-01 8.35164835e-01\n",
      "  1.53113553e+00 5.56776557e-01 1.39194139e-01 1.39194139e-01\n",
      "  1.39194139e-01 2.78388278e-01 1.39194139e-01 1.39194139e-01\n",
      "  1.39194139e-01 2.78388278e-01 1.39194139e-01 1.39194139e-01\n",
      "  1.39194139e-01]\n",
      " [1.69578755e+02 8.60805861e-01 1.72161172e+00 4.30402930e+00\n",
      "  4.30402930e+00 6.88644689e+00 8.60805861e-01 1.72161172e+00\n",
      "  1.72161172e+00 3.44322344e+00 1.72161172e+00 1.72161172e+00\n",
      "  4.30402930e+00 1.72161172e+00 8.60805861e-01 5.16483516e+00\n",
      "  9.46886447e+00 3.44322344e+00 8.60805861e-01 8.60805861e-01\n",
      "  8.60805861e-01 1.72161172e+00 8.60805861e-01 8.60805861e-01\n",
      "  8.60805861e-01 1.72161172e+00 8.60805861e-01 8.60805861e-01\n",
      "  8.60805861e-01]]\n",
      "probability=0.950, critical=41.337, stat=28.784\n",
      "Independent (fail to reject H0)\n",
      "significance=0.050, p=0.424\n",
      "Independent (fail to reject H0)\n"
     ]
    }
   ],
   "source": [
    "# Constructing Contingency Table\n",
    "Q18aQ3 = pd.crosstab(df4['Q18a'],df4['Q3'],margins = False)\n",
    "table= Q18aQ3\n",
    "print(Q18aQ3)\n",
    "stat, p, dof, expected = chi2_contingency(table)\n",
    "print('dof=%d' % dof)\n",
    "print(expected)\n",
    "# interpret test-statistic\n",
    "prob = 0.95\n",
    "critical = chi2.ppf(prob, dof)\n",
    "print('probability=%.3f, critical=%.3f, stat=%.3f' % (prob, critical, stat))\n",
    "if abs(stat) >= critical:\n",
    "    print('Dependent (reject H0)')\n",
    "else:\n",
    "    print('Independent (fail to reject H0)')\n",
    "# interpret p-value\n",
    "alpha = 1.0 - prob\n",
    "print('significance=%.3f, p=%.3f' % (alpha, p))\n",
    "if p <= alpha:\n",
    "    print('Dependent (reject H0)')\n",
    "else:\n",
    "    print('Independent (fail to reject H0)')"
   ]
  },
  {
   "cell_type": "code",
   "execution_count": 215,
   "metadata": {},
   "outputs": [
    {
     "name": "stdout",
     "output_type": "stream",
     "text": [
      "Q8     1    2\n",
      "Q18a         \n",
      "1     11   27\n",
      "2     91  144\n",
      "dof=1\n",
      "[[ 14.1978022  23.8021978]\n",
      " [ 87.8021978 147.1978022]]\n",
      "probability=0.950, critical=3.841, stat=0.951\n",
      "Independent (fail to reject H0)\n",
      "significance=0.050, p=0.330\n",
      "Independent (fail to reject H0)\n"
     ]
    }
   ],
   "source": [
    "# Constructing Contingency Table\n",
    "Q18aQ8 = pd.crosstab(df4['Q18a'],df4['Q8'],margins = False)\n",
    "table= Q18aQ8\n",
    "print(Q18aQ8)\n",
    "stat, p, dof, expected = chi2_contingency(table)\n",
    "print('dof=%d' % dof)\n",
    "print(expected)\n",
    "# interpret test-statistic\n",
    "prob = 0.95\n",
    "critical = chi2.ppf(prob, dof)\n",
    "print('probability=%.3f, critical=%.3f, stat=%.3f' % (prob, critical, stat))\n",
    "if abs(stat) >= critical:\n",
    "    print('Dependent (reject H0)')\n",
    "else:\n",
    "    print('Independent (fail to reject H0)')\n",
    "# interpret p-value\n",
    "alpha = 1.0 - prob\n",
    "print('significance=%.3f, p=%.3f' % (alpha, p))\n",
    "if p <= alpha:\n",
    "    print('Dependent (reject H0)')\n",
    "else:\n",
    "    print('Independent (fail to reject H0)')"
   ]
  },
  {
   "cell_type": "code",
   "execution_count": 216,
   "metadata": {},
   "outputs": [
    {
     "name": "stdout",
     "output_type": "stream",
     "text": [
      "Q2    0    1   2\n",
      "Q18a            \n",
      "1     0   26  12\n",
      "2     1  192  42\n",
      "dof=1\n",
      "[[ 23.66300366  14.33699634]\n",
      " [146.33699634  88.66300366]]\n",
      "probability=0.950, critical=3.841, stat=0.003\n",
      "Independent (fail to reject H0)\n",
      "significance=0.050, p=0.953\n",
      "Independent (fail to reject H0)\n"
     ]
    }
   ],
   "source": [
    "# Constructing Contingency Table\n",
    "Q18aQ9 = pd.crosstab(df4['Q18a'],df4['Q9'],margins = False)\n",
    "table= Q18aQ9\n",
    "print(Q18aQ2)\n",
    "stat, p, dof, expected = chi2_contingency(table)\n",
    "print('dof=%d' % dof)\n",
    "print(expected)\n",
    "# interpret test-statistic\n",
    "prob = 0.95\n",
    "critical = chi2.ppf(prob, dof)\n",
    "print('probability=%.3f, critical=%.3f, stat=%.3f' % (prob, critical, stat))\n",
    "if abs(stat) >= critical:\n",
    "    print('Dependent (reject H0)')\n",
    "else:\n",
    "    print('Independent (fail to reject H0)')\n",
    "# interpret p-value\n",
    "alpha = 1.0 - prob\n",
    "print('significance=%.3f, p=%.3f' % (alpha, p))\n",
    "if p <= alpha:\n",
    "    print('Dependent (reject H0)')\n",
    "else:\n",
    "    print('Independent (fail to reject H0)')"
   ]
  },
  {
   "cell_type": "code",
   "execution_count": 217,
   "metadata": {},
   "outputs": [
    {
     "name": "stdout",
     "output_type": "stream",
     "text": [
      "Q10     1   2\n",
      "Q18a         \n",
      "1      23  15\n",
      "2     155  80\n",
      "dof=1\n",
      "[[ 24.77655678  13.22344322]\n",
      " [153.22344322  81.77655678]]\n",
      "probability=0.950, critical=3.841, stat=0.220\n",
      "Independent (fail to reject H0)\n",
      "significance=0.050, p=0.639\n",
      "Independent (fail to reject H0)\n"
     ]
    }
   ],
   "source": [
    "# Constructing Contingency Table\n",
    "Q18aQ10 = pd.crosstab(df4['Q18a'],df4['Q10'],margins = False)\n",
    "table= Q18aQ10\n",
    "print(Q18aQ10)\n",
    "stat, p, dof, expected = chi2_contingency(table)\n",
    "print('dof=%d' % dof)\n",
    "print(expected)\n",
    "# interpret test-statistic\n",
    "prob = 0.95\n",
    "critical = chi2.ppf(prob, dof)\n",
    "print('probability=%.3f, critical=%.3f, stat=%.3f' % (prob, critical, stat))\n",
    "if abs(stat) >= critical:\n",
    "    print('Dependent (reject H0)')\n",
    "else:\n",
    "    print('Independent (fail to reject H0)')\n",
    "# interpret p-value\n",
    "alpha = 1.0 - prob\n",
    "print('significance=%.3f, p=%.3f' % (alpha, p))\n",
    "if p <= alpha:\n",
    "    print('Dependent (reject H0)')\n",
    "else:\n",
    "    print('Independent (fail to reject H0)')"
   ]
  },
  {
   "cell_type": "code",
   "execution_count": 218,
   "metadata": {},
   "outputs": [
    {
     "name": "stdout",
     "output_type": "stream",
     "text": [
      "Q11     1    2\n",
      "Q18a          \n",
      "1      27   11\n",
      "2     123  112\n",
      "dof=1\n",
      "[[ 20.87912088  17.12087912]\n",
      " [129.12087912 105.87912088]]\n",
      "probability=0.950, critical=3.841, stat=3.902\n",
      "Dependent (reject H0)\n",
      "significance=0.050, p=0.048\n",
      "Dependent (reject H0)\n"
     ]
    }
   ],
   "source": [
    "# Constructing Contingency Table\n",
    "Q18aQ11 = pd.crosstab(df4['Q18a'],df4['Q11'],margins = False)\n",
    "table= Q18aQ11\n",
    "print(Q18aQ11)\n",
    "stat, p, dof, expected = chi2_contingency(table)\n",
    "print('dof=%d' % dof)\n",
    "print(expected)\n",
    "# interpret test-statistic\n",
    "prob = 0.95\n",
    "critical = chi2.ppf(prob, dof)\n",
    "print('probability=%.3f, critical=%.3f, stat=%.3f' % (prob, critical, stat))\n",
    "if abs(stat) >= critical:\n",
    "    print('Dependent (reject H0)')\n",
    "else:\n",
    "    print('Independent (fail to reject H0)')\n",
    "# interpret p-value\n",
    "alpha = 1.0 - prob\n",
    "print('significance=%.3f, p=%.3f' % (alpha, p))\n",
    "if p <= alpha:\n",
    "    print('Dependent (reject H0)')\n",
    "else:\n",
    "    print('Independent (fail to reject H0)')"
   ]
  },
  {
   "cell_type": "code",
   "execution_count": 219,
   "metadata": {},
   "outputs": [
    {
     "name": "stdout",
     "output_type": "stream",
     "text": [
      "Q12   2   4   5   6   7   8   9   10\n",
      "Q18a                                \n",
      "1      0   0   1   7  15  13   1   1\n",
      "2      1   1   3  27  91  98  13   1\n",
      "dof=7\n",
      "[[ 0.13919414  0.13919414  0.55677656  4.73260073 14.75457875 15.45054945\n",
      "   1.94871795  0.27838828]\n",
      " [ 0.86080586  0.86080586  3.44322344 29.26739927 91.24542125 95.54945055\n",
      "  12.05128205  1.72161172]]\n",
      "probability=0.950, critical=14.067, stat=5.161\n",
      "Independent (fail to reject H0)\n",
      "significance=0.050, p=0.640\n",
      "Independent (fail to reject H0)\n"
     ]
    }
   ],
   "source": [
    "# Constructing Contingency Table\n",
    "Q18aQ12 = pd.crosstab(df4['Q18a'],df4['Q12'],margins = False)\n",
    "table= Q18aQ12\n",
    "print(Q18aQ12)\n",
    "stat, p, dof, expected = chi2_contingency(table)\n",
    "print('dof=%d' % dof)\n",
    "print(expected)\n",
    "# interpret test-statistic\n",
    "prob = 0.95\n",
    "critical = chi2.ppf(prob, dof)\n",
    "print('probability=%.3f, critical=%.3f, stat=%.3f' % (prob, critical, stat))\n",
    "if abs(stat) >= critical:\n",
    "    print('Dependent (reject H0)')\n",
    "else:\n",
    "    print('Independent (fail to reject H0)')\n",
    "# interpret p-value\n",
    "alpha = 1.0 - prob\n",
    "print('significance=%.3f, p=%.3f' % (alpha, p))\n",
    "if p <= alpha:\n",
    "    print('Dependent (reject H0)')\n",
    "else:\n",
    "    print('Independent (fail to reject H0)')"
   ]
  },
  {
   "cell_type": "code",
   "execution_count": 220,
   "metadata": {},
   "outputs": [
    {
     "name": "stdout",
     "output_type": "stream",
     "text": [
      "Q13   3   4   5   6   7   8   9   10\n",
      "Q18a                                \n",
      "1      0   2   2   5  12  12   2   3\n",
      "2      1   5  29  40  58  77  21   4\n",
      "dof=7\n",
      "[[ 0.13919414  0.97435897  4.31501832  6.26373626  9.74358974 12.38827839\n",
      "   3.2014652   0.97435897]\n",
      " [ 0.86080586  6.02564103 26.68498168 38.73626374 60.25641026 76.61172161\n",
      "  19.7985348   6.02564103]]\n",
      "probability=0.950, critical=14.067, stat=9.192\n",
      "Independent (fail to reject H0)\n",
      "significance=0.050, p=0.239\n",
      "Independent (fail to reject H0)\n"
     ]
    }
   ],
   "source": [
    "# Constructing Contingency Table\n",
    "Q18aQ13 = pd.crosstab(df4['Q18a'],df4['Q13'],margins = False)\n",
    "table= Q18aQ13\n",
    "print(Q18aQ13)\n",
    "stat, p, dof, expected = chi2_contingency(table)\n",
    "print('dof=%d' % dof)\n",
    "print(expected)\n",
    "# interpret test-statistic\n",
    "prob = 0.95\n",
    "critical = chi2.ppf(prob, dof)\n",
    "print('probability=%.3f, critical=%.3f, stat=%.3f' % (prob, critical, stat))\n",
    "if abs(stat) >= critical:\n",
    "    print('Dependent (reject H0)')\n",
    "else:\n",
    "    print('Independent (fail to reject H0)')\n",
    "# interpret p-value\n",
    "alpha = 1.0 - prob\n",
    "print('significance=%.3f, p=%.3f' % (alpha, p))\n",
    "if p <= alpha:\n",
    "    print('Dependent (reject H0)')\n",
    "else:\n",
    "    print('Independent (fail to reject H0)')"
   ]
  },
  {
   "cell_type": "code",
   "execution_count": 221,
   "metadata": {},
   "outputs": [
    {
     "name": "stdout",
     "output_type": "stream",
     "text": [
      "Q14    1    2\n",
      "Q18a         \n",
      "1     15   23\n",
      "2     94  141\n",
      "dof=1\n",
      "[[ 15.17216117  22.82783883]\n",
      " [ 93.82783883 141.17216117]]\n",
      "probability=0.950, critical=3.841, stat=0.014\n",
      "Independent (fail to reject H0)\n",
      "significance=0.050, p=0.907\n",
      "Independent (fail to reject H0)\n"
     ]
    }
   ],
   "source": [
    "# Constructing Contingency Table\n",
    "Q18aQ14 = pd.crosstab(df4['Q18a'],df4['Q14'],margins = False)\n",
    "table= Q18aQ14\n",
    "print(Q18aQ14)\n",
    "stat, p, dof, expected = chi2_contingency(table)\n",
    "print('dof=%d' % dof)\n",
    "print(expected)\n",
    "# interpret test-statistic\n",
    "prob = 0.95\n",
    "critical = chi2.ppf(prob, dof)\n",
    "print('probability=%.3f, critical=%.3f, stat=%.3f' % (prob, critical, stat))\n",
    "if abs(stat) >= critical:\n",
    "    print('Dependent (reject H0)')\n",
    "else:\n",
    "    print('Independent (fail to reject H0)')\n",
    "# interpret p-value\n",
    "alpha = 1.0 - prob\n",
    "print('significance=%.3f, p=%.3f' % (alpha, p))\n",
    "if p <= alpha:\n",
    "    print('Dependent (reject H0)')\n",
    "else:\n",
    "    print('Independent (fail to reject H0)')"
   ]
  },
  {
   "cell_type": "code",
   "execution_count": 222,
   "metadata": {},
   "outputs": [
    {
     "name": "stdout",
     "output_type": "stream",
     "text": [
      "Q15    1    2\n",
      "Q18a         \n",
      "1     18   20\n",
      "2     68  167\n",
      "dof=1\n",
      "[[ 11.97069597  26.02930403]\n",
      " [ 74.02930403 160.97069597]]\n",
      "probability=0.950, critical=3.841, stat=4.331\n",
      "Dependent (reject H0)\n",
      "significance=0.050, p=0.037\n",
      "Dependent (reject H0)\n"
     ]
    }
   ],
   "source": [
    "# Constructing Contingency Table\n",
    "Q18aQ15 = pd.crosstab(df4['Q18a'],df4['Q15'],margins = False)\n",
    "table= Q18aQ15\n",
    "print(Q18aQ15)\n",
    "stat, p, dof, expected = chi2_contingency(table)\n",
    "print('dof=%d' % dof)\n",
    "print(expected)\n",
    "# interpret test-statistic\n",
    "prob = 0.95\n",
    "critical = chi2.ppf(prob, dof)\n",
    "print('probability=%.3f, critical=%.3f, stat=%.3f' % (prob, critical, stat))\n",
    "if abs(stat) >= critical:\n",
    "    print('Dependent (reject H0)')\n",
    "else:\n",
    "    print('Independent (fail to reject H0)')\n",
    "# interpret p-value\n",
    "alpha = 1.0 - prob\n",
    "print('significance=%.3f, p=%.3f' % (alpha, p))\n",
    "if p <= alpha:\n",
    "    print('Dependent (reject H0)')\n",
    "else:\n",
    "    print('Independent (fail to reject H0)')"
   ]
  },
  {
   "cell_type": "code",
   "execution_count": 223,
   "metadata": {},
   "outputs": [
    {
     "name": "stdout",
     "output_type": "stream",
     "text": [
      "Q16    1    2\n",
      "Q18a         \n",
      "1     11   27\n",
      "2     58  177\n",
      "dof=1\n",
      "[[  9.6043956  28.3956044]\n",
      " [ 59.3956044 175.6043956]]\n",
      "probability=0.950, critical=3.841, stat=0.130\n",
      "Independent (fail to reject H0)\n",
      "significance=0.050, p=0.719\n",
      "Independent (fail to reject H0)\n"
     ]
    }
   ],
   "source": [
    "# Constructing Contingency Table\n",
    "Q18aQ16 = pd.crosstab(df4['Q18a'],df4['Q16'],margins = False)\n",
    "table= Q18aQ16\n",
    "print(Q18aQ16)\n",
    "stat, p, dof, expected = chi2_contingency(table)\n",
    "print('dof=%d' % dof)\n",
    "print(expected)\n",
    "# interpret test-statistic\n",
    "prob = 0.95\n",
    "critical = chi2.ppf(prob, dof)\n",
    "print('probability=%.3f, critical=%.3f, stat=%.3f' % (prob, critical, stat))\n",
    "if abs(stat) >= critical:\n",
    "    print('Dependent (reject H0)')\n",
    "else:\n",
    "    print('Independent (fail to reject H0)')\n",
    "# interpret p-value\n",
    "alpha = 1.0 - prob\n",
    "print('significance=%.3f, p=%.3f' % (alpha, p))\n",
    "if p <= alpha:\n",
    "    print('Dependent (reject H0)')\n",
    "else:\n",
    "    print('Independent (fail to reject H0)')"
   ]
  },
  {
   "cell_type": "code",
   "execution_count": 224,
   "metadata": {},
   "outputs": [
    {
     "name": "stdout",
     "output_type": "stream",
     "text": [
      "Q17     1   2\n",
      "Q18a         \n",
      "1      30   8\n",
      "2     180  55\n",
      "dof=1\n",
      "[[ 29.23076923   8.76923077]\n",
      " [180.76923077  54.23076923]]\n",
      "probability=0.950, critical=3.841, stat=0.012\n",
      "Independent (fail to reject H0)\n",
      "significance=0.050, p=0.911\n",
      "Independent (fail to reject H0)\n"
     ]
    }
   ],
   "source": [
    "# Constructing Contingency Table\n",
    "Q18aQ17 = pd.crosstab(df4['Q18a'],df4['Q17'],margins = False)\n",
    "table= Q18aQ17\n",
    "print(Q18aQ17)\n",
    "stat, p, dof, expected = chi2_contingency(table)\n",
    "print('dof=%d' % dof)\n",
    "print(expected)\n",
    "# interpret test-statistic\n",
    "prob = 0.95\n",
    "critical = chi2.ppf(prob, dof)\n",
    "print('probability=%.3f, critical=%.3f, stat=%.3f' % (prob, critical, stat))\n",
    "if abs(stat) >= critical:\n",
    "    print('Dependent (reject H0)')\n",
    "else:\n",
    "    print('Independent (fail to reject H0)')\n",
    "# interpret p-value\n",
    "alpha = 1.0 - prob\n",
    "print('significance=%.3f, p=%.3f' % (alpha, p))\n",
    "if p <= alpha:\n",
    "    print('Dependent (reject H0)')\n",
    "else:\n",
    "    print('Independent (fail to reject H0)')"
   ]
  },
  {
   "cell_type": "code",
   "execution_count": 225,
   "metadata": {},
   "outputs": [
    {
     "name": "stdout",
     "output_type": "stream",
     "text": [
      "Q19   1   2   3   4   5\n",
      "Q18a                   \n",
      "1     1   4  18  11   4\n",
      "2     4  47  80  86  18\n",
      "dof=4\n",
      "[[ 0.6959707   7.0989011  13.64102564 13.5018315   3.06227106]\n",
      " [ 4.3040293  43.9010989  84.35897436 83.4981685  18.93772894]]\n",
      "probability=0.950, critical=9.488, stat=4.216\n",
      "Independent (fail to reject H0)\n",
      "significance=0.050, p=0.378\n",
      "Independent (fail to reject H0)\n"
     ]
    }
   ],
   "source": [
    "# Constructing Contingency Table\n",
    "Q18aQ19 = pd.crosstab(df4['Q18a'],df4['Q19'],margins = False)\n",
    "table= Q18aQ19\n",
    "print(Q18aQ19)\n",
    "stat, p, dof, expected = chi2_contingency(table)\n",
    "print('dof=%d' % dof)\n",
    "print(expected)\n",
    "# interpret test-statistic\n",
    "prob = 0.95\n",
    "critical = chi2.ppf(prob, dof)\n",
    "print('probability=%.3f, critical=%.3f, stat=%.3f' % (prob, critical, stat))\n",
    "if abs(stat) >= critical:\n",
    "    print('Dependent (reject H0)')\n",
    "else:\n",
    "    print('Independent (fail to reject H0)')\n",
    "# interpret p-value\n",
    "alpha = 1.0 - prob\n",
    "print('significance=%.3f, p=%.3f' % (alpha, p))\n",
    "if p <= alpha:\n",
    "    print('Dependent (reject H0)')\n",
    "else:\n",
    "    print('Independent (fail to reject H0)')"
   ]
  },
  {
   "cell_type": "code",
   "execution_count": 226,
   "metadata": {},
   "outputs": [
    {
     "name": "stdout",
     "output_type": "stream",
     "text": [
      "Q20   1  2   3   4    5\n",
      "Q18a                   \n",
      "1     9  9   6  13    1\n",
      "2     0  2  99  28  106\n",
      "dof=4\n",
      "[[ 1.25274725  1.53113553 14.61538462  5.70695971 14.89377289]\n",
      " [ 7.74725275  9.46886447 90.38461538 35.29304029 92.10622711]]\n",
      "probability=0.950, critical=9.488, stat=129.766\n",
      "Dependent (reject H0)\n",
      "significance=0.050, p=0.000\n",
      "Dependent (reject H0)\n"
     ]
    }
   ],
   "source": [
    "# Constructing Contingency Table\n",
    "Q18aQ20 = pd.crosstab(df4['Q18a'],df4['Q20'],margins = False)\n",
    "table= Q18aQ20\n",
    "print(Q18aQ20)\n",
    "stat, p, dof, expected = chi2_contingency(table)\n",
    "print('dof=%d' % dof)\n",
    "print(expected)\n",
    "# interpret test-statistic\n",
    "prob = 0.95\n",
    "critical = chi2.ppf(prob, dof)\n",
    "print('probability=%.3f, critical=%.3f, stat=%.3f' % (prob, critical, stat))\n",
    "if abs(stat) >= critical:\n",
    "    print('Dependent (reject H0)')\n",
    "else:\n",
    "    print('Independent (fail to reject H0)')\n",
    "# interpret p-value\n",
    "alpha = 1.0 - prob\n",
    "print('significance=%.3f, p=%.3f' % (alpha, p))\n",
    "if p <= alpha:\n",
    "    print('Dependent (reject H0)')\n",
    "else:\n",
    "    print('Independent (fail to reject H0)')"
   ]
  },
  {
   "cell_type": "code",
   "execution_count": 227,
   "metadata": {},
   "outputs": [
    {
     "name": "stdout",
     "output_type": "stream",
     "text": [
      "Q21     1   2  3  4  5\n",
      "Q18a                  \n",
      "1      33   2  2  0  1\n",
      "2     210  15  4  4  2\n",
      "dof=4\n",
      "[[ 33.82417582   2.36630037   0.83516484   0.55677656   0.41758242]\n",
      " [209.17582418  14.63369963   5.16483516   3.44322344   2.58241758]]\n",
      "probability=0.950, critical=9.488, stat=3.567\n",
      "Independent (fail to reject H0)\n",
      "significance=0.050, p=0.468\n",
      "Independent (fail to reject H0)\n"
     ]
    }
   ],
   "source": [
    "# Constructing Contingency Table\n",
    "Q18aQ21 = pd.crosstab(df4['Q18a'],df4['Q21'],margins = False)\n",
    "table= Q18aQ21\n",
    "print(Q18aQ21)\n",
    "stat, p, dof, expected = chi2_contingency(table)\n",
    "print('dof=%d' % dof)\n",
    "print(expected)\n",
    "# interpret test-statistic\n",
    "prob = 0.95\n",
    "critical = chi2.ppf(prob, dof)\n",
    "print('probability=%.3f, critical=%.3f, stat=%.3f' % (prob, critical, stat))\n",
    "if abs(stat) >= critical:\n",
    "    print('Dependent (reject H0)')\n",
    "else:\n",
    "    print('Independent (fail to reject H0)')\n",
    "# interpret p-value\n",
    "alpha = 1.0 - prob\n",
    "print('significance=%.3f, p=%.3f' % (alpha, p))\n",
    "if p <= alpha:\n",
    "    print('Dependent (reject H0)')\n",
    "else:\n",
    "    print('Independent (fail to reject H0)')"
   ]
  },
  {
   "cell_type": "code",
   "execution_count": 228,
   "metadata": {},
   "outputs": [
    {
     "name": "stdout",
     "output_type": "stream",
     "text": [
      "Q22     1   2  3  4  5\n",
      "Q18a                  \n",
      "1      34   0  2  0  2\n",
      "2     203  14  2  9  7\n",
      "dof=4\n",
      "[[ 32.98901099   1.94871795   0.55677656   1.25274725   1.25274725]\n",
      " [204.01098901  12.05128205   3.44322344   7.74725275   7.74725275]]\n",
      "probability=0.950, critical=9.488, stat=8.619\n",
      "Independent (fail to reject H0)\n",
      "significance=0.050, p=0.071\n",
      "Independent (fail to reject H0)\n"
     ]
    }
   ],
   "source": [
    "# Constructing Contingency Table\n",
    "Q18aQ22 = pd.crosstab(df4['Q18a'],df4['Q22'],margins = False)\n",
    "table= Q18aQ22\n",
    "print(Q18aQ22)\n",
    "stat, p, dof, expected = chi2_contingency(table)\n",
    "print('dof=%d' % dof)\n",
    "print(expected)\n",
    "# interpret test-statistic\n",
    "prob = 0.95\n",
    "critical = chi2.ppf(prob, dof)\n",
    "print('probability=%.3f, critical=%.3f, stat=%.3f' % (prob, critical, stat))\n",
    "if abs(stat) >= critical:\n",
    "    print('Dependent (reject H0)')\n",
    "else:\n",
    "    print('Independent (fail to reject H0)')\n",
    "# interpret p-value\n",
    "alpha = 1.0 - prob\n",
    "print('significance=%.3f, p=%.3f' % (alpha, p))\n",
    "if p <= alpha:\n",
    "    print('Dependent (reject H0)')\n",
    "else:\n",
    "    print('Independent (fail to reject H0)')"
   ]
  },
  {
   "cell_type": "code",
   "execution_count": 229,
   "metadata": {},
   "outputs": [
    {
     "name": "stdout",
     "output_type": "stream",
     "text": [
      "Q23    1    2\n",
      "Q18a         \n",
      "1     10   28\n",
      "2     41  194\n",
      "dof=1\n",
      "[[  7.0989011  30.9010989]\n",
      " [ 43.9010989 191.0989011]]\n",
      "probability=0.950, critical=3.841, stat=1.160\n",
      "Independent (fail to reject H0)\n",
      "significance=0.050, p=0.281\n",
      "Independent (fail to reject H0)\n"
     ]
    }
   ],
   "source": [
    "# Constructing Contingency Table\n",
    "Q18aQ23 = pd.crosstab(df4['Q18a'],df4['Q23'],margins = False)\n",
    "table= Q18aQ23\n",
    "print(Q18aQ23)\n",
    "stat, p, dof, expected = chi2_contingency(table)\n",
    "print('dof=%d' % dof)\n",
    "print(expected)\n",
    "# interpret test-statistic\n",
    "prob = 0.95\n",
    "critical = chi2.ppf(prob, dof)\n",
    "print('probability=%.3f, critical=%.3f, stat=%.3f' % (prob, critical, stat))\n",
    "if abs(stat) >= critical:\n",
    "    print('Dependent (reject H0)')\n",
    "else:\n",
    "    print('Independent (fail to reject H0)')\n",
    "# interpret p-value\n",
    "alpha = 1.0 - prob\n",
    "print('significance=%.3f, p=%.3f' % (alpha, p))\n",
    "if p <= alpha:\n",
    "    print('Dependent (reject H0)')\n",
    "else:\n",
    "    print('Independent (fail to reject H0)')"
   ]
  },
  {
   "cell_type": "code",
   "execution_count": 230,
   "metadata": {},
   "outputs": [
    {
     "name": "stdout",
     "output_type": "stream",
     "text": [
      "Q24    1   2   3   4   5\n",
      "Q18a                    \n",
      "1      4  14   9  10   1\n",
      "2     35  79  67  38  16\n",
      "dof=4\n",
      "[[ 5.42857143 12.94505495 10.57875458  6.68131868  2.36630037]\n",
      " [33.57142857 80.05494505 65.42124542 41.31868132 14.63369963]]\n",
      "probability=0.950, critical=9.488, stat=3.642\n",
      "Independent (fail to reject H0)\n",
      "significance=0.050, p=0.457\n",
      "Independent (fail to reject H0)\n"
     ]
    }
   ],
   "source": [
    "# Constructing Contingency Table\n",
    "Q18aQ24 = pd.crosstab(df4['Q18a'],df4['Q24'],margins = False)\n",
    "table= Q18aQ24\n",
    "print(Q18aQ24)\n",
    "stat, p, dof, expected = chi2_contingency(table)\n",
    "print('dof=%d' % dof)\n",
    "print(expected)\n",
    "# interpret test-statistic\n",
    "prob = 0.95\n",
    "critical = chi2.ppf(prob, dof)\n",
    "print('probability=%.3f, critical=%.3f, stat=%.3f' % (prob, critical, stat))\n",
    "if abs(stat) >= critical:\n",
    "    print('Dependent (reject H0)')\n",
    "else:\n",
    "    print('Independent (fail to reject H0)')\n",
    "# interpret p-value\n",
    "alpha = 1.0 - prob\n",
    "print('significance=%.3f, p=%.3f' % (alpha, p))\n",
    "if p <= alpha:\n",
    "    print('Dependent (reject H0)')\n",
    "else:\n",
    "    print('Independent (fail to reject H0)')"
   ]
  },
  {
   "cell_type": "code",
   "execution_count": 231,
   "metadata": {},
   "outputs": [
    {
     "name": "stdout",
     "output_type": "stream",
     "text": [
      "Q25    1    2\n",
      "Q18a         \n",
      "1     14   24\n",
      "2     88  147\n",
      "dof=1\n",
      "[[ 14.1978022  23.8021978]\n",
      " [ 87.8021978 147.1978022]]\n",
      "probability=0.950, critical=3.841, stat=0.012\n",
      "Independent (fail to reject H0)\n",
      "significance=0.050, p=0.913\n",
      "Independent (fail to reject H0)\n"
     ]
    }
   ],
   "source": [
    "# Constructing Contingency Table\n",
    "Q18aQ25 = pd.crosstab(df4['Q18a'],df4['Q25'],margins = False)\n",
    "table= Q18aQ25\n",
    "print(Q18aQ25)\n",
    "stat, p, dof, expected = chi2_contingency(table)\n",
    "print('dof=%d' % dof)\n",
    "print(expected)\n",
    "# interpret test-statistic\n",
    "prob = 0.95\n",
    "critical = chi2.ppf(prob, dof)\n",
    "print('probability=%.3f, critical=%.3f, stat=%.3f' % (prob, critical, stat))\n",
    "if abs(stat) >= critical:\n",
    "    print('Dependent (reject H0)')\n",
    "else:\n",
    "    print('Independent (fail to reject H0)')\n",
    "# interpret p-value\n",
    "alpha = 1.0 - prob\n",
    "print('significance=%.3f, p=%.3f' % (alpha, p))\n",
    "if p <= alpha:\n",
    "    print('Dependent (reject H0)')\n",
    "else:\n",
    "    print('Independent (fail to reject H0)')"
   ]
  },
  {
   "cell_type": "code",
   "execution_count": 232,
   "metadata": {},
   "outputs": [
    {
     "name": "stdout",
     "output_type": "stream",
     "text": [
      "Q26    1    2\n",
      "Q18a         \n",
      "1      3   35\n",
      "2     45  190\n",
      "dof=1\n",
      "[[  6.68131868  31.31868132]\n",
      " [ 41.31868132 193.68131868]]\n",
      "probability=0.950, critical=3.841, stat=2.135\n",
      "Independent (fail to reject H0)\n",
      "significance=0.050, p=0.144\n",
      "Independent (fail to reject H0)\n"
     ]
    }
   ],
   "source": [
    "# Constructing Contingency Table\n",
    "Q18aQ26 = pd.crosstab(df4['Q18a'],df4['Q26'],margins = False)\n",
    "table= Q18aQ26\n",
    "print(Q18aQ26)\n",
    "stat, p, dof, expected = chi2_contingency(table)\n",
    "print('dof=%d' % dof)\n",
    "print(expected)\n",
    "# interpret test-statistic\n",
    "prob = 0.95\n",
    "critical = chi2.ppf(prob, dof)\n",
    "print('probability=%.3f, critical=%.3f, stat=%.3f' % (prob, critical, stat))\n",
    "if abs(stat) >= critical:\n",
    "    print('Dependent (reject H0)')\n",
    "else:\n",
    "    print('Independent (fail to reject H0)')\n",
    "# interpret p-value\n",
    "alpha = 1.0 - prob\n",
    "print('significance=%.3f, p=%.3f' % (alpha, p))\n",
    "if p <= alpha:\n",
    "    print('Dependent (reject H0)')\n",
    "else:\n",
    "    print('Independent (fail to reject H0)')"
   ]
  },
  {
   "cell_type": "code",
   "execution_count": 233,
   "metadata": {},
   "outputs": [
    {
     "name": "stdout",
     "output_type": "stream",
     "text": [
      "Q27    1    2\n",
      "Q18a         \n",
      "1      8   30\n",
      "2     73  162\n",
      "dof=1\n",
      "[[ 11.27472527  26.72527473]\n",
      " [ 69.72527473 165.27472527]]\n",
      "probability=0.950, critical=3.841, stat=1.128\n",
      "Independent (fail to reject H0)\n",
      "significance=0.050, p=0.288\n",
      "Independent (fail to reject H0)\n"
     ]
    }
   ],
   "source": [
    "# Constructing Contingency Table\n",
    "Q18aQ27 = pd.crosstab(df4['Q18a'],df4['Q27'],margins = False)\n",
    "table= Q18aQ27\n",
    "print(Q18aQ27)\n",
    "stat, p, dof, expected = chi2_contingency(table)\n",
    "print('dof=%d' % dof)\n",
    "print(expected)\n",
    "# interpret test-statistic\n",
    "prob = 0.95\n",
    "critical = chi2.ppf(prob, dof)\n",
    "print('probability=%.3f, critical=%.3f, stat=%.3f' % (prob, critical, stat))\n",
    "if abs(stat) >= critical:\n",
    "    print('Dependent (reject H0)')\n",
    "else:\n",
    "    print('Independent (fail to reject H0)')\n",
    "# interpret p-value\n",
    "alpha = 1.0 - prob\n",
    "print('significance=%.3f, p=%.3f' % (alpha, p))\n",
    "if p <= alpha:\n",
    "    print('Dependent (reject H0)')\n",
    "else:\n",
    "    print('Independent (fail to reject H0)')"
   ]
  },
  {
   "cell_type": "code",
   "execution_count": 234,
   "metadata": {},
   "outputs": [
    {
     "name": "stdout",
     "output_type": "stream",
     "text": [
      "Q28    1    2\n",
      "Q18a         \n",
      "1     12   26\n",
      "2     95  140\n",
      "dof=1\n",
      "[[ 14.89377289  23.10622711]\n",
      " [ 92.10622711 142.89377289]]\n",
      "probability=0.950, critical=3.841, stat=0.735\n",
      "Independent (fail to reject H0)\n",
      "significance=0.050, p=0.391\n",
      "Independent (fail to reject H0)\n"
     ]
    }
   ],
   "source": [
    "# Constructing Contingency Table\n",
    "Q18aQ28 = pd.crosstab(df4['Q18a'],df4['Q28'],margins = False)\n",
    "table= Q18aQ28\n",
    "print(Q18aQ28)\n",
    "stat, p, dof, expected = chi2_contingency(table)\n",
    "print('dof=%d' % dof)\n",
    "print(expected)\n",
    "# interpret test-statistic\n",
    "prob = 0.95\n",
    "critical = chi2.ppf(prob, dof)\n",
    "print('probability=%.3f, critical=%.3f, stat=%.3f' % (prob, critical, stat))\n",
    "if abs(stat) >= critical:\n",
    "    print('Dependent (reject H0)')\n",
    "else:\n",
    "    print('Independent (fail to reject H0)')\n",
    "# interpret p-value\n",
    "alpha = 1.0 - prob\n",
    "print('significance=%.3f, p=%.3f' % (alpha, p))\n",
    "if p <= alpha:\n",
    "    print('Dependent (reject H0)')\n",
    "else:\n",
    "    print('Independent (fail to reject H0)')"
   ]
  },
  {
   "cell_type": "code",
   "execution_count": 235,
   "metadata": {},
   "outputs": [
    {
     "name": "stdout",
     "output_type": "stream",
     "text": [
      "Q29    1    2\n",
      "Q18a         \n",
      "1      7   31\n",
      "2     44  191\n",
      "dof=1\n",
      "[[  7.0989011  30.9010989]\n",
      " [ 43.9010989 191.0989011]]\n",
      "probability=0.950, critical=3.841, stat=0.032\n",
      "Independent (fail to reject H0)\n",
      "significance=0.050, p=0.857\n",
      "Independent (fail to reject H0)\n"
     ]
    }
   ],
   "source": [
    "# Constructing Contingency Table\n",
    "Q18aQ29 = pd.crosstab(df4['Q18a'],df4['Q29'],margins = False)\n",
    "table= Q18aQ29\n",
    "print(Q18aQ29)\n",
    "stat, p, dof, expected = chi2_contingency(table)\n",
    "print('dof=%d' % dof)\n",
    "print(expected)\n",
    "# interpret test-statistic\n",
    "prob = 0.95\n",
    "critical = chi2.ppf(prob, dof)\n",
    "print('probability=%.3f, critical=%.3f, stat=%.3f' % (prob, critical, stat))\n",
    "if abs(stat) >= critical:\n",
    "    print('Dependent (reject H0)')\n",
    "else:\n",
    "    print('Independent (fail to reject H0)')\n",
    "# interpret p-value\n",
    "alpha = 1.0 - prob\n",
    "print('significance=%.3f, p=%.3f' % (alpha, p))\n",
    "if p <= alpha:\n",
    "    print('Dependent (reject H0)')\n",
    "else:\n",
    "    print('Independent (fail to reject H0)')"
   ]
  },
  {
   "cell_type": "code",
   "execution_count": 359,
   "metadata": {},
   "outputs": [
    {
     "data": {
      "text/plain": [
       "<BarContainer object of 2 artists>"
      ]
     },
     "execution_count": 359,
     "metadata": {},
     "output_type": "execute_result"
    },
    {
     "data": {
      "image/png": "[encoded data removed]",
      "text/plain": [
       "<Figure size 432x288 with 1 Axes>"
      ]
     },
     "metadata": {
      "needs_background": "light"
     },
     "output_type": "display_data"
    }
   ],
   "source": [
    "\n",
    "# importing pandas library\n",
    "import pandas as pd\n",
    "# import matplotlib library\n",
    "import matplotlib.pyplot as plt\n",
    "  \n",
    "# creating dataframe\n",
    "df = pd.DataFrame({\n",
    "    'Name': ['I am drinking less', 'I am drinking more'],\n",
    "    'A': [4.029304029304029, 41.02564102564102],\n",
    "    'H': [9.89010989010989, 45.05494505494506]\n",
    "})\n",
    "  \n",
    "# creating subplots and plotting them together\n",
    "plt.grid(True)\n",
    "ax = plt.subplot()\n",
    "ax.bar(df[\"Name\"], df[\"H\"], color=\"lightblue\")\n",
    "ax.bar(df[\"Name\"], df[\"A\"], color=\"pink\")"
   ]
  },
  {
   "cell_type": "code",
   "execution_count": null,
   "metadata": {},
   "outputs": [],
   "source": []
  },
  {
   "cell_type": "code",
   "execution_count": 353,
   "metadata": {},
   "outputs": [
    {
     "data": {
      "text/plain": [
       "45.05494505494506"
      ]
     },
     "execution_count": 353,
     "metadata": {},
     "output_type": "execute_result"
    }
   ],
   "source": [
    "len(df4[(df4['Q18a']==2)&(df4['Q11']==1)])/len(df4)*100"
   ]
  },
  {
   "cell_type": "code",
   "execution_count": 278,
   "metadata": {},
   "outputs": [
    {
     "data": {
      "text/plain": [
       "273"
      ]
     },
     "execution_count": 278,
     "metadata": {},
     "output_type": "execute_result"
    }
   ],
   "source": [
    "len(df4)"
   ]
  },
  {
   "cell_type": "code",
   "execution_count": 249,
   "metadata": {},
   "outputs": [
    {
     "data": {
      "image/png": "[encoded data removed]",
      "text/plain": [
       "<Figure size 432x288 with 1 Axes>"
      ]
     },
     "metadata": {
      "needs_background": "light"
     },
     "output_type": "display_data"
    }
   ],
   "source": [
    "import matplotlib.pyplot as plt\n",
    "import pandas as pd\n",
    "\n",
    "df4.groupby(['Q11','Q18a']).size().unstack().plot(kind='bar',stacked=True)\n",
    "plt.xlabel('Question 11: Are children home from school in the house?// 1:NO & 2:YES')\n",
    "plt.ylabel('Frequency')\n",
    "plt.show()\n"
   ]
  },
  {
   "cell_type": "code",
   "execution_count": null,
   "metadata": {},
   "outputs": [],
   "source": []
  },
  {
   "cell_type": "code",
   "execution_count": null,
   "metadata": {},
   "outputs": [],
   "source": []
  },
  {
   "cell_type": "code",
   "execution_count": null,
   "metadata": {},
   "outputs": [],
   "source": []
  },
  {
   "cell_type": "code",
   "execution_count": null,
   "metadata": {},
   "outputs": [],
   "source": [
    "# importing pandas library\n",
    "import pandas as pd\n",
    "# import matplotlib library\n",
    "import matplotlib.pyplot as plt"
   ]
  },
  {
   "cell_type": "code",
   "execution_count": null,
   "metadata": {},
   "outputs": [],
   "source": []
  },
  {
   "cell_type": "code",
   "execution_count": null,
   "metadata": {},
   "outputs": [],
   "source": []
  },
  {
   "cell_type": "code",
   "execution_count": 248,
   "metadata": {},
   "outputs": [
    {
     "data": {
      "image/png": "[encoded data removed]",
      "text/plain": [
       "<Figure size 432x288 with 1 Axes>"
      ]
     },
     "metadata": {
      "needs_background": "light"
     },
     "output_type": "display_data"
    }
   ],
   "source": [
    "import matplotlib.pyplot as plt\n",
    "import pandas as pd\n",
    "\n",
    "df4.groupby(['Q11','Q18a']).size().unstack().plot(kind='bar',stacked=True)\n",
    "plt.xlabel('Question 11: Are children home from school in the house?// 1:NO & 2:YES')\n",
    "plt.ylabel('Frequency')\n",
    "plt.show()\n"
   ]
  },
  {
   "cell_type": "code",
   "execution_count": 237,
   "metadata": {},
   "outputs": [
    {
     "data": {
      "image/png": "[encoded data removed]",
      "text/plain": [
       "<Figure size 432x288 with 1 Axes>"
      ]
     },
     "metadata": {
      "needs_background": "light"
     },
     "output_type": "display_data"
    }
   ],
   "source": [
    "import matplotlib.pyplot as plt\n",
    "import pandas as pd\n",
    "\n",
    "df4.groupby(['Q11','Q18a']).size().unstack().plot(kind='bar',stacked=True)\n",
    "plt.xlabel('Please tell us how the amount of alcohol you are consuming has changed')\n",
    "plt.ylabel('Frequency')\n",
    "plt.show()\n"
   ]
  },
  {
   "cell_type": "code",
   "execution_count": 238,
   "metadata": {},
   "outputs": [
    {
     "data": {
      "image/png": "[encoded data removed]",
      "text/plain": [
       "<Figure size 432x288 with 1 Axes>"
      ]
     },
     "metadata": {
      "needs_background": "light"
     },
     "output_type": "display_data"
    }
   ],
   "source": [
    "import matplotlib.pyplot as plt\n",
    "import pandas as pd\n",
    "\n",
    "df4.groupby(['Q15','Q18a']).size().unstack().plot(kind='bar',stacked=True)\n",
    "plt.show()\n"
   ]
  },
  {
   "cell_type": "code",
   "execution_count": null,
   "metadata": {},
   "outputs": [],
   "source": []
  },
  {
   "cell_type": "code",
   "execution_count": 239,
   "metadata": {},
   "outputs": [
    {
     "data": {
      "image/png": "[encoded data removed]",
      "text/plain": [
       "<Figure size 432x288 with 1 Axes>"
      ]
     },
     "metadata": {
      "needs_background": "light"
     },
     "output_type": "display_data"
    }
   ],
   "source": [
    "import matplotlib.pyplot as plt\n",
    "import pandas as pd\n",
    "\n",
    "df4.groupby(['Q20','Q18a']).size().unstack().plot(kind='bar',stacked=True)\n",
    "plt.show()\n"
   ]
  },
  {
   "cell_type": "code",
   "execution_count": null,
   "metadata": {},
   "outputs": [],
   "source": []
  },
  {
   "cell_type": "code",
   "execution_count": 240,
   "metadata": {},
   "outputs": [
    {
     "data": {
      "image/png": "[encoded data removed]",
      "text/plain": [
       "<Figure size 432x288 with 1 Axes>"
      ]
     },
     "metadata": {
      "needs_background": "light"
     },
     "output_type": "display_data"
    }
   ],
   "source": [
    "import matplotlib.pyplot as plt\n",
    "import pandas as pd\n",
    "\n",
    "df4.groupby(['Q15','Q11']).size().unstack().plot(kind='bar',stacked=True)\n",
    "plt.show()\n"
   ]
  },
  {
   "cell_type": "code",
   "execution_count": null,
   "metadata": {},
   "outputs": [],
   "source": []
  },
  {
   "cell_type": "code",
   "execution_count": null,
   "metadata": {},
   "outputs": [],
   "source": []
  },
  {
   "cell_type": "code",
   "execution_count": 241,
   "metadata": {},
   "outputs": [
    {
     "name": "stdout",
     "output_type": "stream",
     "text": [
      "Q15   1   2\n",
      "Q11        \n",
      "1    52  98\n",
      "2    34  89\n",
      "dof=1\n",
      "[[ 47.25274725 102.74725275]\n",
      " [ 38.74725275  84.25274725]]\n",
      "probability=0.950, critical=3.841, stat=1.237\n",
      "Independent (fail to reject H0)\n",
      "significance=0.050, p=0.266\n",
      "Independent (fail to reject H0)\n"
     ]
    }
   ],
   "source": [
    "# Constructing Contingency Table\n",
    "Q11Q15 = pd.crosstab(df4['Q11'],df4['Q15'],margins = False)\n",
    "table= Q11Q15\n",
    "print(Q11Q15)\n",
    "stat, p, dof, expected = chi2_contingency(table)\n",
    "print('dof=%d' % dof)\n",
    "print(expected)\n",
    "# interpret test-statistic\n",
    "prob = 0.95\n",
    "critical = chi2.ppf(prob, dof)\n",
    "print('probability=%.3f, critical=%.3f, stat=%.3f' % (prob, critical, stat))\n",
    "if abs(stat) >= critical:\n",
    "    print('Dependent (reject H0)')\n",
    "else:\n",
    "    print('Independent (fail to reject H0)')\n",
    "# interpret p-value\n",
    "alpha = 1.0 - prob\n",
    "print('significance=%.3f, p=%.3f' % (alpha, p))\n",
    "if p <= alpha:\n",
    "    print('Dependent (reject H0)')\n",
    "else:\n",
    "    print('Independent (fail to reject H0)')"
   ]
  },
  {
   "cell_type": "code",
   "execution_count": 242,
   "metadata": {},
   "outputs": [
    {
     "name": "stdout",
     "output_type": "stream",
     "text": [
      "Q29   1   2\n",
      "Q20        \n",
      "1     4   5\n",
      "2     2   9\n",
      "3    25  80\n",
      "4     2  39\n",
      "5    18  89\n",
      "dof=4\n",
      "[[ 1.68131868  7.31868132]\n",
      " [ 2.05494505  8.94505495]\n",
      " [19.61538462 85.38461538]\n",
      " [ 7.65934066 33.34065934]\n",
      " [19.98901099 87.01098901]]\n",
      "probability=0.950, critical=9.488, stat=11.137\n",
      "Dependent (reject H0)\n",
      "significance=0.050, p=0.025\n",
      "Dependent (reject H0)\n"
     ]
    }
   ],
   "source": [
    "# Constructing Contingency Table\n",
    "Q20Q29 = pd.crosstab(df4['Q20'],df4['Q29'],margins = False)\n",
    "table= Q20Q29\n",
    "print(Q20Q29)\n",
    "stat, p, dof, expected = chi2_contingency(table)\n",
    "print('dof=%d' % dof)\n",
    "print(expected)\n",
    "# interpret test-statistic\n",
    "prob = 0.95\n",
    "critical = chi2.ppf(prob, dof)\n",
    "print('probability=%.3f, critical=%.3f, stat=%.3f' % (prob, critical, stat))\n",
    "if abs(stat) >= critical:\n",
    "    print('Dependent (reject H0)')\n",
    "else:\n",
    "    print('Independent (fail to reject H0)')\n",
    "# interpret p-value\n",
    "alpha = 1.0 - prob\n",
    "print('significance=%.3f, p=%.3f' % (alpha, p))\n",
    "if p <= alpha:\n",
    "    print('Dependent (reject H0)')\n",
    "else:\n",
    "    print('Independent (fail to reject H0)')"
   ]
  },
  {
   "cell_type": "code",
   "execution_count": 243,
   "metadata": {},
   "outputs": [
    {
     "data": {
      "image/png": "[encoded data removed]",
      "text/plain": [
       "<Figure size 432x288 with 1 Axes>"
      ]
     },
     "metadata": {
      "needs_background": "light"
     },
     "output_type": "display_data"
    }
   ],
   "source": [
    "import matplotlib.pyplot as plt\n",
    "import pandas as pd\n",
    "\n",
    "df4.groupby(['Q20','Q29']).size().unstack().plot(kind='bar',stacked=True)\n",
    "plt.xlabel('Question 20:In the last month, approximately how often did you have a drink containing alcohol?')\n",
    "plt.ylabel('Count')\n",
    "plt.show()\n",
    "plt.show()\n"
   ]
  },
  {
   "cell_type": "code",
   "execution_count": 244,
   "metadata": {},
   "outputs": [
    {
     "data": {
      "image/png": "[encoded data removed]",
      "text/plain": [
       "<Figure size 432x288 with 1 Axes>"
      ]
     },
     "metadata": {
      "needs_background": "light"
     },
     "output_type": "display_data"
    }
   ],
   "source": [
    "import matplotlib.pyplot as plt\n",
    "import pandas as pd\n",
    "\n",
    "df4.groupby(['Q20','Q29']).size().unstack().plot(kind='bar',stacked=True)\n",
    "plt.xlabel('Question 29: Has your mood changed?    Yes    NO')\n",
    "plt.ylabel('Count')\n",
    "plt.show()\n",
    "plt.show()\n"
   ]
  },
  {
   "cell_type": "code",
   "execution_count": null,
   "metadata": {},
   "outputs": [],
   "source": []
  },
  {
   "cell_type": "code",
   "execution_count": 245,
   "metadata": {},
   "outputs": [
    {
     "name": "stdout",
     "output_type": "stream",
     "text": [
      "Q29   1    2\n",
      "Q11         \n",
      "1    27  123\n",
      "2    24   99\n",
      "dof=1\n",
      "[[ 28.02197802 121.97802198]\n",
      " [ 22.97802198 100.02197802]]\n",
      "probability=0.950, critical=3.841, stat=0.027\n",
      "Independent (fail to reject H0)\n",
      "significance=0.050, p=0.871\n",
      "Independent (fail to reject H0)\n"
     ]
    }
   ],
   "source": [
    "# Constructing Contingency Table\n",
    "Q11Q29 = pd.crosstab(df4['Q11'],df4['Q29'],margins = False)\n",
    "table= Q11Q29\n",
    "print(Q11Q29)\n",
    "stat, p, dof, expected = chi2_contingency(table)\n",
    "print('dof=%d' % dof)\n",
    "print(expected)\n",
    "# interpret test-statistic\n",
    "prob = 0.95\n",
    "critical = chi2.ppf(prob, dof)\n",
    "print('probability=%.3f, critical=%.3f, stat=%.3f' % (prob, critical, stat))\n",
    "if abs(stat) >= critical:\n",
    "    print('Dependent (reject H0)')\n",
    "else:\n",
    "    print('Independent (fail to reject H0)')\n",
    "# interpret p-value\n",
    "alpha = 1.0 - prob\n",
    "print('significance=%.3f, p=%.3f' % (alpha, p))\n",
    "if p <= alpha:\n",
    "    print('Dependent (reject H0)')\n",
    "else:\n",
    "    print('Independent (fail to reject H0)')"
   ]
  },
  {
   "cell_type": "code",
   "execution_count": null,
   "metadata": {},
   "outputs": [],
   "source": []
  },
  {
   "cell_type": "code",
   "execution_count": 246,
   "metadata": {},
   "outputs": [],
   "source": [
    "import pandas as pd\n",
    "import sklearn as sk\n",
    "from sklearn.linear_model import LogisticRegression\n",
    "from sklearn import svm\n",
    "from sklearn.ensemble import RandomForestClassifier\n",
    "from sklearn.neural_network import MLPClassifier\n",
    "from sklearn.model_selection import train_test_split\n"
   ]
  },
  {
   "cell_type": "code",
   "execution_count": 247,
   "metadata": {},
   "outputs": [
    {
     "data": {
      "text/html": [
       "<div>\n",
       "<style scoped>\n",
       "    .dataframe tbody tr th:only-of-type {\n",
       "        vertical-align: middle;\n",
       "    }\n",
       "\n",
       "    .dataframe tbody tr th {\n",
       "        vertical-align: top;\n",
       "    }\n",
       "\n",
       "    .dataframe thead th {\n",
       "        text-align: right;\n",
       "    }\n",
       "</style>\n",
       "<table border=\"1\" class=\"dataframe\">\n",
       "  <thead>\n",
       "    <tr style=\"text-align: right;\">\n",
       "      <th></th>\n",
       "      <th>Q1</th>\n",
       "      <th>Q2</th>\n",
       "      <th>Q3</th>\n",
       "      <th>Q8</th>\n",
       "      <th>Q9</th>\n",
       "      <th>Q10</th>\n",
       "      <th>Q11</th>\n",
       "      <th>Q12</th>\n",
       "      <th>Q13</th>\n",
       "      <th>Q14</th>\n",
       "      <th>Q15</th>\n",
       "      <th>Q16</th>\n",
       "      <th>Q17</th>\n",
       "      <th>Q18</th>\n",
       "      <th>Q18a</th>\n",
       "      <th>Q19</th>\n",
       "      <th>Q20</th>\n",
       "      <th>Q21</th>\n",
       "      <th>Q22</th>\n",
       "      <th>Q23</th>\n",
       "      <th>Q24</th>\n",
       "      <th>Q25</th>\n",
       "      <th>Q26</th>\n",
       "      <th>Q27</th>\n",
       "      <th>Q28</th>\n",
       "      <th>Q29</th>\n",
       "    </tr>\n",
       "  </thead>\n",
       "  <tbody>\n",
       "    <tr>\n",
       "      <th>12</th>\n",
       "      <td>4</td>\n",
       "      <td>1</td>\n",
       "      <td>1</td>\n",
       "      <td>2</td>\n",
       "      <td>2</td>\n",
       "      <td>2</td>\n",
       "      <td>1</td>\n",
       "      <td>8</td>\n",
       "      <td>9</td>\n",
       "      <td>2</td>\n",
       "      <td>2</td>\n",
       "      <td>2</td>\n",
       "      <td>1</td>\n",
       "      <td>2</td>\n",
       "      <td>2</td>\n",
       "      <td>3</td>\n",
       "      <td>5</td>\n",
       "      <td>1</td>\n",
       "      <td>1</td>\n",
       "      <td>1</td>\n",
       "      <td>1</td>\n",
       "      <td>2</td>\n",
       "      <td>2</td>\n",
       "      <td>2</td>\n",
       "      <td>2</td>\n",
       "      <td>2</td>\n",
       "    </tr>\n",
       "    <tr>\n",
       "      <th>13</th>\n",
       "      <td>3</td>\n",
       "      <td>2</td>\n",
       "      <td>2</td>\n",
       "      <td>1</td>\n",
       "      <td>2</td>\n",
       "      <td>1</td>\n",
       "      <td>1</td>\n",
       "      <td>6</td>\n",
       "      <td>5</td>\n",
       "      <td>2</td>\n",
       "      <td>1</td>\n",
       "      <td>1</td>\n",
       "      <td>1</td>\n",
       "      <td>2</td>\n",
       "      <td>2</td>\n",
       "      <td>3</td>\n",
       "      <td>3</td>\n",
       "      <td>1</td>\n",
       "      <td>1</td>\n",
       "      <td>2</td>\n",
       "      <td>2</td>\n",
       "      <td>2</td>\n",
       "      <td>1</td>\n",
       "      <td>2</td>\n",
       "      <td>1</td>\n",
       "      <td>2</td>\n",
       "    </tr>\n",
       "    <tr>\n",
       "      <th>16</th>\n",
       "      <td>3</td>\n",
       "      <td>1</td>\n",
       "      <td>1</td>\n",
       "      <td>2</td>\n",
       "      <td>2</td>\n",
       "      <td>2</td>\n",
       "      <td>2</td>\n",
       "      <td>7</td>\n",
       "      <td>7</td>\n",
       "      <td>2</td>\n",
       "      <td>1</td>\n",
       "      <td>2</td>\n",
       "      <td>1</td>\n",
       "      <td>2</td>\n",
       "      <td>2</td>\n",
       "      <td>3</td>\n",
       "      <td>5</td>\n",
       "      <td>1</td>\n",
       "      <td>1</td>\n",
       "      <td>2</td>\n",
       "      <td>3</td>\n",
       "      <td>1</td>\n",
       "      <td>1</td>\n",
       "      <td>2</td>\n",
       "      <td>2</td>\n",
       "      <td>2</td>\n",
       "    </tr>\n",
       "    <tr>\n",
       "      <th>18</th>\n",
       "      <td>2</td>\n",
       "      <td>1</td>\n",
       "      <td>1</td>\n",
       "      <td>2</td>\n",
       "      <td>2</td>\n",
       "      <td>2</td>\n",
       "      <td>2</td>\n",
       "      <td>7</td>\n",
       "      <td>7</td>\n",
       "      <td>1</td>\n",
       "      <td>2</td>\n",
       "      <td>1</td>\n",
       "      <td>1</td>\n",
       "      <td>2</td>\n",
       "      <td>2</td>\n",
       "      <td>2</td>\n",
       "      <td>4</td>\n",
       "      <td>1</td>\n",
       "      <td>1</td>\n",
       "      <td>2</td>\n",
       "      <td>2</td>\n",
       "      <td>2</td>\n",
       "      <td>2</td>\n",
       "      <td>1</td>\n",
       "      <td>2</td>\n",
       "      <td>2</td>\n",
       "    </tr>\n",
       "    <tr>\n",
       "      <th>21</th>\n",
       "      <td>2</td>\n",
       "      <td>1</td>\n",
       "      <td>1</td>\n",
       "      <td>2</td>\n",
       "      <td>2</td>\n",
       "      <td>1</td>\n",
       "      <td>1</td>\n",
       "      <td>7</td>\n",
       "      <td>6</td>\n",
       "      <td>1</td>\n",
       "      <td>1</td>\n",
       "      <td>2</td>\n",
       "      <td>2</td>\n",
       "      <td>2</td>\n",
       "      <td>2</td>\n",
       "      <td>2</td>\n",
       "      <td>5</td>\n",
       "      <td>1</td>\n",
       "      <td>1</td>\n",
       "      <td>2</td>\n",
       "      <td>2</td>\n",
       "      <td>2</td>\n",
       "      <td>2</td>\n",
       "      <td>2</td>\n",
       "      <td>2</td>\n",
       "      <td>1</td>\n",
       "    </tr>\n",
       "    <tr>\n",
       "      <th>...</th>\n",
       "      <td>...</td>\n",
       "      <td>...</td>\n",
       "      <td>...</td>\n",
       "      <td>...</td>\n",
       "      <td>...</td>\n",
       "      <td>...</td>\n",
       "      <td>...</td>\n",
       "      <td>...</td>\n",
       "      <td>...</td>\n",
       "      <td>...</td>\n",
       "      <td>...</td>\n",
       "      <td>...</td>\n",
       "      <td>...</td>\n",
       "      <td>...</td>\n",
       "      <td>...</td>\n",
       "      <td>...</td>\n",
       "      <td>...</td>\n",
       "      <td>...</td>\n",
       "      <td>...</td>\n",
       "      <td>...</td>\n",
       "      <td>...</td>\n",
       "      <td>...</td>\n",
       "      <td>...</td>\n",
       "      <td>...</td>\n",
       "      <td>...</td>\n",
       "      <td>...</td>\n",
       "    </tr>\n",
       "    <tr>\n",
       "      <th>894</th>\n",
       "      <td>2</td>\n",
       "      <td>1</td>\n",
       "      <td>5</td>\n",
       "      <td>2</td>\n",
       "      <td>1</td>\n",
       "      <td>2</td>\n",
       "      <td>1</td>\n",
       "      <td>8</td>\n",
       "      <td>8</td>\n",
       "      <td>1</td>\n",
       "      <td>1</td>\n",
       "      <td>2</td>\n",
       "      <td>1</td>\n",
       "      <td>2</td>\n",
       "      <td>2</td>\n",
       "      <td>2</td>\n",
       "      <td>4</td>\n",
       "      <td>1</td>\n",
       "      <td>1</td>\n",
       "      <td>2</td>\n",
       "      <td>4</td>\n",
       "      <td>2</td>\n",
       "      <td>2</td>\n",
       "      <td>2</td>\n",
       "      <td>2</td>\n",
       "      <td>2</td>\n",
       "    </tr>\n",
       "    <tr>\n",
       "      <th>895</th>\n",
       "      <td>4</td>\n",
       "      <td>2</td>\n",
       "      <td>1</td>\n",
       "      <td>2</td>\n",
       "      <td>2</td>\n",
       "      <td>1</td>\n",
       "      <td>2</td>\n",
       "      <td>7</td>\n",
       "      <td>8</td>\n",
       "      <td>2</td>\n",
       "      <td>2</td>\n",
       "      <td>1</td>\n",
       "      <td>1</td>\n",
       "      <td>2</td>\n",
       "      <td>2</td>\n",
       "      <td>3</td>\n",
       "      <td>3</td>\n",
       "      <td>1</td>\n",
       "      <td>1</td>\n",
       "      <td>1</td>\n",
       "      <td>1</td>\n",
       "      <td>1</td>\n",
       "      <td>2</td>\n",
       "      <td>1</td>\n",
       "      <td>2</td>\n",
       "      <td>1</td>\n",
       "    </tr>\n",
       "    <tr>\n",
       "      <th>896</th>\n",
       "      <td>4</td>\n",
       "      <td>1</td>\n",
       "      <td>19</td>\n",
       "      <td>2</td>\n",
       "      <td>2</td>\n",
       "      <td>1</td>\n",
       "      <td>2</td>\n",
       "      <td>6</td>\n",
       "      <td>7</td>\n",
       "      <td>2</td>\n",
       "      <td>2</td>\n",
       "      <td>2</td>\n",
       "      <td>2</td>\n",
       "      <td>2</td>\n",
       "      <td>2</td>\n",
       "      <td>4</td>\n",
       "      <td>3</td>\n",
       "      <td>1</td>\n",
       "      <td>1</td>\n",
       "      <td>2</td>\n",
       "      <td>5</td>\n",
       "      <td>2</td>\n",
       "      <td>2</td>\n",
       "      <td>2</td>\n",
       "      <td>2</td>\n",
       "      <td>2</td>\n",
       "    </tr>\n",
       "    <tr>\n",
       "      <th>897</th>\n",
       "      <td>5</td>\n",
       "      <td>1</td>\n",
       "      <td>1</td>\n",
       "      <td>1</td>\n",
       "      <td>1</td>\n",
       "      <td>1</td>\n",
       "      <td>1</td>\n",
       "      <td>9</td>\n",
       "      <td>10</td>\n",
       "      <td>2</td>\n",
       "      <td>2</td>\n",
       "      <td>2</td>\n",
       "      <td>1</td>\n",
       "      <td>2</td>\n",
       "      <td>2</td>\n",
       "      <td>4</td>\n",
       "      <td>3</td>\n",
       "      <td>1</td>\n",
       "      <td>1</td>\n",
       "      <td>2</td>\n",
       "      <td>4</td>\n",
       "      <td>2</td>\n",
       "      <td>2</td>\n",
       "      <td>2</td>\n",
       "      <td>2</td>\n",
       "      <td>2</td>\n",
       "    </tr>\n",
       "    <tr>\n",
       "      <th>908</th>\n",
       "      <td>6</td>\n",
       "      <td>1</td>\n",
       "      <td>1</td>\n",
       "      <td>1</td>\n",
       "      <td>1</td>\n",
       "      <td>1</td>\n",
       "      <td>1</td>\n",
       "      <td>8</td>\n",
       "      <td>8</td>\n",
       "      <td>1</td>\n",
       "      <td>2</td>\n",
       "      <td>1</td>\n",
       "      <td>1</td>\n",
       "      <td>2</td>\n",
       "      <td>2</td>\n",
       "      <td>3</td>\n",
       "      <td>3</td>\n",
       "      <td>1</td>\n",
       "      <td>4</td>\n",
       "      <td>2</td>\n",
       "      <td>2</td>\n",
       "      <td>1</td>\n",
       "      <td>2</td>\n",
       "      <td>2</td>\n",
       "      <td>1</td>\n",
       "      <td>2</td>\n",
       "    </tr>\n",
       "  </tbody>\n",
       "</table>\n",
       "<p>273 rows × 26 columns</p>\n",
       "</div>"
      ],
      "text/plain": [
       "     Q1  Q2  Q3  Q8  Q9  Q10  Q11  Q12  Q13  Q14  Q15  Q16  Q17  Q18  Q18a  \\\n",
       "12    4   1   1   2   2    2    1    8    9    2    2    2    1    2     2   \n",
       "13    3   2   2   1   2    1    1    6    5    2    1    1    1    2     2   \n",
       "16    3   1   1   2   2    2    2    7    7    2    1    2    1    2     2   \n",
       "18    2   1   1   2   2    2    2    7    7    1    2    1    1    2     2   \n",
       "21    2   1   1   2   2    1    1    7    6    1    1    2    2    2     2   \n",
       "..   ..  ..  ..  ..  ..  ...  ...  ...  ...  ...  ...  ...  ...  ...   ...   \n",
       "894   2   1   5   2   1    2    1    8    8    1    1    2    1    2     2   \n",
       "895   4   2   1   2   2    1    2    7    8    2    2    1    1    2     2   \n",
       "896   4   1  19   2   2    1    2    6    7    2    2    2    2    2     2   \n",
       "897   5   1   1   1   1    1    1    9   10    2    2    2    1    2     2   \n",
       "908   6   1   1   1   1    1    1    8    8    1    2    1    1    2     2   \n",
       "\n",
       "     Q19  Q20  Q21  Q22  Q23  Q24  Q25  Q26  Q27  Q28  Q29  \n",
       "12     3    5    1    1    1    1    2    2    2    2    2  \n",
       "13     3    3    1    1    2    2    2    1    2    1    2  \n",
       "16     3    5    1    1    2    3    1    1    2    2    2  \n",
       "18     2    4    1    1    2    2    2    2    1    2    2  \n",
       "21     2    5    1    1    2    2    2    2    2    2    1  \n",
       "..   ...  ...  ...  ...  ...  ...  ...  ...  ...  ...  ...  \n",
       "894    2    4    1    1    2    4    2    2    2    2    2  \n",
       "895    3    3    1    1    1    1    1    2    1    2    1  \n",
       "896    4    3    1    1    2    5    2    2    2    2    2  \n",
       "897    4    3    1    1    2    4    2    2    2    2    2  \n",
       "908    3    3    1    4    2    2    1    2    2    1    2  \n",
       "\n",
       "[273 rows x 26 columns]"
      ]
     },
     "execution_count": 247,
     "metadata": {},
     "output_type": "execute_result"
    }
   ],
   "source": [
    "# load dataset\n",
    "data=pd.read_csv(\"covidreasearchthesecondpaper.csv\", index_col =0 )\n",
    "data\n"
   ]
  },
  {
   "cell_type": "code",
   "execution_count": null,
   "metadata": {},
   "outputs": [],
   "source": []
  },
  {
   "cell_type": "code",
   "execution_count": null,
   "metadata": {},
   "outputs": [],
   "source": []
  },
  {
   "cell_type": "code",
   "execution_count": null,
   "metadata": {},
   "outputs": [],
   "source": []
  }
 ],
 "metadata": {
  "kernelspec": {
   "display_name": "Python 3.6 (tensorflow)",
   "language": "python",
   "name": "tensorflow"
  },
  "language_info": {
   "codemirror_mode": {
    "name": "ipython",
    "version": 3
   },
   "file_extension": ".py",
   "mimetype": "text/x-python",
   "name": "python",
   "nbconvert_exporter": "python",
   "pygments_lexer": "ipython3",
   "version": "3.6.13"
  }
 },
 "nbformat": 4,
 "nbformat_minor": 2
}
